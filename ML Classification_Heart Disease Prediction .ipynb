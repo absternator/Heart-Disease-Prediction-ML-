{
 "cells": [
  {
   "cell_type": "markdown",
   "metadata": {},
   "source": [
    "# Heart disease Prediction \n"
   ]
  },
  {
   "cell_type": "markdown",
   "metadata": {},
   "source": [
    "## 1. Problem Definition\n",
    "Binary Classification\n",
    "> Given clinical parameters about a patient, can we predict whether or not they have heart disease?\n",
    "\n",
    "## 2. Data\n",
    "\n",
    "\n",
    "The original data came from the [Cleveland database](https://archive.ics.uci.edu/ml/datasets/heart+Disease) from UCI Machine Learning Repository.\n",
    "\n",
    "Howevever, we've downloaded it in a formatted way from [Kaggle](https://www.kaggle.com/ronitf/heart-disease-uci/).\n",
    "\n",
    "The original database contains 76 attributes, but here only 14 attributes will be used. **Attributes** (also called **features**) are the variables what we'll use to predict our **target variable**.\n",
    "\n",
    "Attributes and features are also referred to as **independent variables** and a target variable can be referred to as a **dependent variable**.\n",
    "\n",
    "> We use the independent variables to predict our dependent variable.\n",
    "\n",
    "Or in our case, the independent variables are a patients different medical attributes and the dependent variable is whether or not they have heart disease.\n",
    "\n",
    "## 3. Evaluation\n",
    "\n",
    "> If we can reach 95% accuracy at predicting whether or not a patient has heart disease during the proof of concept, we'll pursure this project.\n",
    "\n",
    "\n",
    "However, due to the nature of experimentation, the evaluation metric may change over time.\n",
    "\n",
    "## 4. Features\n",
    "\n",
    "Features are different parts of the data. During this step, you'll want to start finding out what you can about the data.\n",
    "\n",
    "One of the most common ways to do this, is to create a **data dictionary**.\n",
    "\n",
    "### Heart Disease Data Dictionary\n",
    "\n",
    "\n",
    "The following are the features we'll use to predict our target variable (heart disease or no heart disease).\n",
    "\n",
    "1. age - age in years \n",
    "2. sex - (1 = male; 0 = female) \n",
    "3. cp - chest pain type \n",
    "    * 0: Typical angina: chest pain related decrease blood supply to the heart\n",
    "    * 1: Atypical angina: chest pain not related to heart\n",
    "    * 2: Non-anginal pain: typically esophageal spasms (non heart related)\n",
    "    * 3: Asymptomatic: chest pain not showing signs of disease\n",
    "4. trestbps - resting blood pressure (in mm Hg on admission to the hospital)\n",
    "    * anything above 130-140 is typically cause for concern\n",
    "5. chol - serum cholestoral in mg/dl \n",
    "    * serum = LDL + HDL + .2 * triglycerides\n",
    "    * above 200 is cause for concern\n",
    "6. fbs - (fasting blood sugar > 120 mg/dl) (1 = true; 0 = false) \n",
    "    * '>126' mg/dL signals diabetes\n",
    "7. restecg - resting electrocardiographic results\n",
    "    * 0: Nothing to note\n",
    "    * 1: ST-T Wave abnormality\n",
    "        - can range from mild symptoms to severe problems\n",
    "        - signals non-normal heart beat\n",
    "    * 2: Possible or definite left ventricular hypertrophy\n",
    "        - Enlarged heart's main pumping chamber\n",
    "8. thalach - maximum heart rate achieved \n",
    "9. exang - exercise induced angina (1 = yes; 0 = no) \n",
    "10. oldpeak - ST depression induced by exercise relative to rest \n",
    "    * looks at stress of heart during excercise\n",
    "    * unhealthy heart will stress more\n",
    "11. slope - the slope of the peak exercise ST segment\n",
    "    * 0: Upsloping: better heart rate with excercise (uncommon)\n",
    "    * 1: Flatsloping: minimal change (typical healthy heart)\n",
    "    * 2: Downslopins: signs of unhealthy heart\n",
    "12. ca - number of major vessels (0-3) colored by flourosopy \n",
    "    * colored vessel means the doctor can see the blood passing through\n",
    "    * the more blood movement the better (no clots)\n",
    "13. thal - thalium stress result\n",
    "    * 1,3: normal\n",
    "    * 6: fixed defect: used to be defect but ok now\n",
    "    * 7: reversable defect: no proper blood movement when excercising \n",
    "14. target - have disease or not (1=yes, 0=no) (= the predicted attribute)\n",
    "\n",
    "**Note:** No personal identifiable information (PPI) can be found in the dataset.\n"
   ]
  },
  {
   "cell_type": "code",
   "execution_count": 4,
   "metadata": {},
   "outputs": [],
   "source": [
    "# Import Libraries we will use \n",
    "import numpy as np \n",
    "import pandas as pd\n",
    "import matplotlib.pyplot as plt\n",
    "import seaborn as sns\n",
    "%matplotlib inline\n",
    "# Model libraries - we will try \n",
    "from sklearn.linear_model import LogisticRegression\n",
    "from sklearn.neighbors import KNeighborsClassifier\n",
    "from sklearn.ensemble import RandomForestClassifier\n",
    "from sklearn.svm import SVC"
   ]
  },
  {
   "cell_type": "code",
   "execution_count": 5,
   "metadata": {},
   "outputs": [],
   "source": [
    "# import evaluation metrics \n",
    "from sklearn.model_selection import train_test_split,cross_val_score,RandomizedSearchCV,GridSearchCV\n",
    "from sklearn.metrics import confusion_matrix,classification_report,precision_score,recall_score,f1_score,plot_roc_curve"
   ]
  },
  {
   "cell_type": "markdown",
   "metadata": {},
   "source": [
    "## Load data"
   ]
  },
  {
   "cell_type": "code",
   "execution_count": 7,
   "metadata": {},
   "outputs": [
    {
     "data": {
      "text/html": [
       "<div>\n",
       "<style scoped>\n",
       "    .dataframe tbody tr th:only-of-type {\n",
       "        vertical-align: middle;\n",
       "    }\n",
       "\n",
       "    .dataframe tbody tr th {\n",
       "        vertical-align: top;\n",
       "    }\n",
       "\n",
       "    .dataframe thead th {\n",
       "        text-align: right;\n",
       "    }\n",
       "</style>\n",
       "<table border=\"1\" class=\"dataframe\">\n",
       "  <thead>\n",
       "    <tr style=\"text-align: right;\">\n",
       "      <th></th>\n",
       "      <th>age</th>\n",
       "      <th>sex</th>\n",
       "      <th>cp</th>\n",
       "      <th>trestbps</th>\n",
       "      <th>chol</th>\n",
       "      <th>fbs</th>\n",
       "      <th>restecg</th>\n",
       "      <th>thalach</th>\n",
       "      <th>exang</th>\n",
       "      <th>oldpeak</th>\n",
       "      <th>slope</th>\n",
       "      <th>ca</th>\n",
       "      <th>thal</th>\n",
       "      <th>target</th>\n",
       "    </tr>\n",
       "  </thead>\n",
       "  <tbody>\n",
       "    <tr>\n",
       "      <th>0</th>\n",
       "      <td>63</td>\n",
       "      <td>1</td>\n",
       "      <td>3</td>\n",
       "      <td>145</td>\n",
       "      <td>233</td>\n",
       "      <td>1</td>\n",
       "      <td>0</td>\n",
       "      <td>150</td>\n",
       "      <td>0</td>\n",
       "      <td>2.3</td>\n",
       "      <td>0</td>\n",
       "      <td>0</td>\n",
       "      <td>1</td>\n",
       "      <td>1</td>\n",
       "    </tr>\n",
       "    <tr>\n",
       "      <th>1</th>\n",
       "      <td>37</td>\n",
       "      <td>1</td>\n",
       "      <td>2</td>\n",
       "      <td>130</td>\n",
       "      <td>250</td>\n",
       "      <td>0</td>\n",
       "      <td>1</td>\n",
       "      <td>187</td>\n",
       "      <td>0</td>\n",
       "      <td>3.5</td>\n",
       "      <td>0</td>\n",
       "      <td>0</td>\n",
       "      <td>2</td>\n",
       "      <td>1</td>\n",
       "    </tr>\n",
       "    <tr>\n",
       "      <th>2</th>\n",
       "      <td>41</td>\n",
       "      <td>0</td>\n",
       "      <td>1</td>\n",
       "      <td>130</td>\n",
       "      <td>204</td>\n",
       "      <td>0</td>\n",
       "      <td>0</td>\n",
       "      <td>172</td>\n",
       "      <td>0</td>\n",
       "      <td>1.4</td>\n",
       "      <td>2</td>\n",
       "      <td>0</td>\n",
       "      <td>2</td>\n",
       "      <td>1</td>\n",
       "    </tr>\n",
       "    <tr>\n",
       "      <th>3</th>\n",
       "      <td>56</td>\n",
       "      <td>1</td>\n",
       "      <td>1</td>\n",
       "      <td>120</td>\n",
       "      <td>236</td>\n",
       "      <td>0</td>\n",
       "      <td>1</td>\n",
       "      <td>178</td>\n",
       "      <td>0</td>\n",
       "      <td>0.8</td>\n",
       "      <td>2</td>\n",
       "      <td>0</td>\n",
       "      <td>2</td>\n",
       "      <td>1</td>\n",
       "    </tr>\n",
       "    <tr>\n",
       "      <th>4</th>\n",
       "      <td>57</td>\n",
       "      <td>0</td>\n",
       "      <td>0</td>\n",
       "      <td>120</td>\n",
       "      <td>354</td>\n",
       "      <td>0</td>\n",
       "      <td>1</td>\n",
       "      <td>163</td>\n",
       "      <td>1</td>\n",
       "      <td>0.6</td>\n",
       "      <td>2</td>\n",
       "      <td>0</td>\n",
       "      <td>2</td>\n",
       "      <td>1</td>\n",
       "    </tr>\n",
       "  </tbody>\n",
       "</table>\n",
       "</div>"
      ],
      "text/plain": [
       "   age  sex  cp  trestbps  chol  fbs  restecg  thalach  exang  oldpeak  slope  \\\n",
       "0   63    1   3       145   233    1        0      150      0      2.3      0   \n",
       "1   37    1   2       130   250    0        1      187      0      3.5      0   \n",
       "2   41    0   1       130   204    0        0      172      0      1.4      2   \n",
       "3   56    1   1       120   236    0        1      178      0      0.8      2   \n",
       "4   57    0   0       120   354    0        1      163      1      0.6      2   \n",
       "\n",
       "   ca  thal  target  \n",
       "0   0     1       1  \n",
       "1   0     2       1  \n",
       "2   0     2       1  \n",
       "3   0     2       1  \n",
       "4   0     2       1  "
      ]
     },
     "execution_count": 7,
     "metadata": {},
     "output_type": "execute_result"
    }
   ],
   "source": [
    "df = pd.read_csv(\"../data/heart-disease.csv\")\n",
    "df.head()"
   ]
  },
  {
   "cell_type": "code",
   "execution_count": 10,
   "metadata": {},
   "outputs": [
    {
     "data": {
      "text/html": [
       "<div>\n",
       "<style scoped>\n",
       "    .dataframe tbody tr th:only-of-type {\n",
       "        vertical-align: middle;\n",
       "    }\n",
       "\n",
       "    .dataframe tbody tr th {\n",
       "        vertical-align: top;\n",
       "    }\n",
       "\n",
       "    .dataframe thead th {\n",
       "        text-align: right;\n",
       "    }\n",
       "</style>\n",
       "<table border=\"1\" class=\"dataframe\">\n",
       "  <thead>\n",
       "    <tr style=\"text-align: right;\">\n",
       "      <th></th>\n",
       "      <th>count</th>\n",
       "      <th>mean</th>\n",
       "      <th>std</th>\n",
       "      <th>min</th>\n",
       "      <th>25%</th>\n",
       "      <th>50%</th>\n",
       "      <th>75%</th>\n",
       "      <th>max</th>\n",
       "    </tr>\n",
       "  </thead>\n",
       "  <tbody>\n",
       "    <tr>\n",
       "      <th>age</th>\n",
       "      <td>303.0</td>\n",
       "      <td>54.366337</td>\n",
       "      <td>9.082101</td>\n",
       "      <td>29.0</td>\n",
       "      <td>47.5</td>\n",
       "      <td>55.0</td>\n",
       "      <td>61.0</td>\n",
       "      <td>77.0</td>\n",
       "    </tr>\n",
       "    <tr>\n",
       "      <th>sex</th>\n",
       "      <td>303.0</td>\n",
       "      <td>0.683168</td>\n",
       "      <td>0.466011</td>\n",
       "      <td>0.0</td>\n",
       "      <td>0.0</td>\n",
       "      <td>1.0</td>\n",
       "      <td>1.0</td>\n",
       "      <td>1.0</td>\n",
       "    </tr>\n",
       "    <tr>\n",
       "      <th>cp</th>\n",
       "      <td>303.0</td>\n",
       "      <td>0.966997</td>\n",
       "      <td>1.032052</td>\n",
       "      <td>0.0</td>\n",
       "      <td>0.0</td>\n",
       "      <td>1.0</td>\n",
       "      <td>2.0</td>\n",
       "      <td>3.0</td>\n",
       "    </tr>\n",
       "    <tr>\n",
       "      <th>trestbps</th>\n",
       "      <td>303.0</td>\n",
       "      <td>131.623762</td>\n",
       "      <td>17.538143</td>\n",
       "      <td>94.0</td>\n",
       "      <td>120.0</td>\n",
       "      <td>130.0</td>\n",
       "      <td>140.0</td>\n",
       "      <td>200.0</td>\n",
       "    </tr>\n",
       "    <tr>\n",
       "      <th>chol</th>\n",
       "      <td>303.0</td>\n",
       "      <td>246.264026</td>\n",
       "      <td>51.830751</td>\n",
       "      <td>126.0</td>\n",
       "      <td>211.0</td>\n",
       "      <td>240.0</td>\n",
       "      <td>274.5</td>\n",
       "      <td>564.0</td>\n",
       "    </tr>\n",
       "    <tr>\n",
       "      <th>fbs</th>\n",
       "      <td>303.0</td>\n",
       "      <td>0.148515</td>\n",
       "      <td>0.356198</td>\n",
       "      <td>0.0</td>\n",
       "      <td>0.0</td>\n",
       "      <td>0.0</td>\n",
       "      <td>0.0</td>\n",
       "      <td>1.0</td>\n",
       "    </tr>\n",
       "    <tr>\n",
       "      <th>restecg</th>\n",
       "      <td>303.0</td>\n",
       "      <td>0.528053</td>\n",
       "      <td>0.525860</td>\n",
       "      <td>0.0</td>\n",
       "      <td>0.0</td>\n",
       "      <td>1.0</td>\n",
       "      <td>1.0</td>\n",
       "      <td>2.0</td>\n",
       "    </tr>\n",
       "    <tr>\n",
       "      <th>thalach</th>\n",
       "      <td>303.0</td>\n",
       "      <td>149.646865</td>\n",
       "      <td>22.905161</td>\n",
       "      <td>71.0</td>\n",
       "      <td>133.5</td>\n",
       "      <td>153.0</td>\n",
       "      <td>166.0</td>\n",
       "      <td>202.0</td>\n",
       "    </tr>\n",
       "    <tr>\n",
       "      <th>exang</th>\n",
       "      <td>303.0</td>\n",
       "      <td>0.326733</td>\n",
       "      <td>0.469794</td>\n",
       "      <td>0.0</td>\n",
       "      <td>0.0</td>\n",
       "      <td>0.0</td>\n",
       "      <td>1.0</td>\n",
       "      <td>1.0</td>\n",
       "    </tr>\n",
       "    <tr>\n",
       "      <th>oldpeak</th>\n",
       "      <td>303.0</td>\n",
       "      <td>1.039604</td>\n",
       "      <td>1.161075</td>\n",
       "      <td>0.0</td>\n",
       "      <td>0.0</td>\n",
       "      <td>0.8</td>\n",
       "      <td>1.6</td>\n",
       "      <td>6.2</td>\n",
       "    </tr>\n",
       "    <tr>\n",
       "      <th>slope</th>\n",
       "      <td>303.0</td>\n",
       "      <td>1.399340</td>\n",
       "      <td>0.616226</td>\n",
       "      <td>0.0</td>\n",
       "      <td>1.0</td>\n",
       "      <td>1.0</td>\n",
       "      <td>2.0</td>\n",
       "      <td>2.0</td>\n",
       "    </tr>\n",
       "    <tr>\n",
       "      <th>ca</th>\n",
       "      <td>303.0</td>\n",
       "      <td>0.729373</td>\n",
       "      <td>1.022606</td>\n",
       "      <td>0.0</td>\n",
       "      <td>0.0</td>\n",
       "      <td>0.0</td>\n",
       "      <td>1.0</td>\n",
       "      <td>4.0</td>\n",
       "    </tr>\n",
       "    <tr>\n",
       "      <th>thal</th>\n",
       "      <td>303.0</td>\n",
       "      <td>2.313531</td>\n",
       "      <td>0.612277</td>\n",
       "      <td>0.0</td>\n",
       "      <td>2.0</td>\n",
       "      <td>2.0</td>\n",
       "      <td>3.0</td>\n",
       "      <td>3.0</td>\n",
       "    </tr>\n",
       "    <tr>\n",
       "      <th>target</th>\n",
       "      <td>303.0</td>\n",
       "      <td>0.544554</td>\n",
       "      <td>0.498835</td>\n",
       "      <td>0.0</td>\n",
       "      <td>0.0</td>\n",
       "      <td>1.0</td>\n",
       "      <td>1.0</td>\n",
       "      <td>1.0</td>\n",
       "    </tr>\n",
       "  </tbody>\n",
       "</table>\n",
       "</div>"
      ],
      "text/plain": [
       "          count        mean        std    min    25%    50%    75%    max\n",
       "age       303.0   54.366337   9.082101   29.0   47.5   55.0   61.0   77.0\n",
       "sex       303.0    0.683168   0.466011    0.0    0.0    1.0    1.0    1.0\n",
       "cp        303.0    0.966997   1.032052    0.0    0.0    1.0    2.0    3.0\n",
       "trestbps  303.0  131.623762  17.538143   94.0  120.0  130.0  140.0  200.0\n",
       "chol      303.0  246.264026  51.830751  126.0  211.0  240.0  274.5  564.0\n",
       "fbs       303.0    0.148515   0.356198    0.0    0.0    0.0    0.0    1.0\n",
       "restecg   303.0    0.528053   0.525860    0.0    0.0    1.0    1.0    2.0\n",
       "thalach   303.0  149.646865  22.905161   71.0  133.5  153.0  166.0  202.0\n",
       "exang     303.0    0.326733   0.469794    0.0    0.0    0.0    1.0    1.0\n",
       "oldpeak   303.0    1.039604   1.161075    0.0    0.0    0.8    1.6    6.2\n",
       "slope     303.0    1.399340   0.616226    0.0    1.0    1.0    2.0    2.0\n",
       "ca        303.0    0.729373   1.022606    0.0    0.0    0.0    1.0    4.0\n",
       "thal      303.0    2.313531   0.612277    0.0    2.0    2.0    3.0    3.0\n",
       "target    303.0    0.544554   0.498835    0.0    0.0    1.0    1.0    1.0"
      ]
     },
     "execution_count": 10,
     "metadata": {},
     "output_type": "execute_result"
    }
   ],
   "source": [
    "# description \n",
    "df.describe().transpose()"
   ]
  },
  {
   "cell_type": "code",
   "execution_count": 11,
   "metadata": {},
   "outputs": [
    {
     "name": "stdout",
     "output_type": "stream",
     "text": [
      "<class 'pandas.core.frame.DataFrame'>\n",
      "RangeIndex: 303 entries, 0 to 302\n",
      "Data columns (total 14 columns):\n",
      " #   Column    Non-Null Count  Dtype  \n",
      "---  ------    --------------  -----  \n",
      " 0   age       303 non-null    int64  \n",
      " 1   sex       303 non-null    int64  \n",
      " 2   cp        303 non-null    int64  \n",
      " 3   trestbps  303 non-null    int64  \n",
      " 4   chol      303 non-null    int64  \n",
      " 5   fbs       303 non-null    int64  \n",
      " 6   restecg   303 non-null    int64  \n",
      " 7   thalach   303 non-null    int64  \n",
      " 8   exang     303 non-null    int64  \n",
      " 9   oldpeak   303 non-null    float64\n",
      " 10  slope     303 non-null    int64  \n",
      " 11  ca        303 non-null    int64  \n",
      " 12  thal      303 non-null    int64  \n",
      " 13  target    303 non-null    int64  \n",
      "dtypes: float64(1), int64(13)\n",
      "memory usage: 33.3 KB\n"
     ]
    }
   ],
   "source": [
    "#info - 303 non null cols\n",
    "df.info()"
   ]
  },
  {
   "cell_type": "markdown",
   "metadata": {},
   "source": [
    "# EDA\n",
    "Qs to address:\n",
    "1. What question(s) are you trying to solve (or prove wrong)?\n",
    "2. What kind of data do you have and how do you treat different types?\n",
    "3. What’s missing from the data and how do you deal with it?\n",
    "4. Where are the outliers and why should you care about them?\n",
    "5. How can you add, change or remove features to get more out of your data?"
   ]
  },
  {
   "cell_type": "code",
   "execution_count": 15,
   "metadata": {},
   "outputs": [
    {
     "data": {
      "text/plain": [
       "1    0.544554\n",
       "0    0.455446\n",
       "Name: target, dtype: float64"
      ]
     },
     "execution_count": 15,
     "metadata": {},
     "output_type": "execute_result"
    }
   ],
   "source": [
    "# pretty even distribution !!!\n",
    "df[\"target\"].value_counts(normalize=True)"
   ]
  },
  {
   "cell_type": "code",
   "execution_count": 14,
   "metadata": {},
   "outputs": [
    {
     "data": {
      "text/plain": [
       "age         0\n",
       "sex         0\n",
       "cp          0\n",
       "trestbps    0\n",
       "chol        0\n",
       "fbs         0\n",
       "restecg     0\n",
       "thalach     0\n",
       "exang       0\n",
       "oldpeak     0\n",
       "slope       0\n",
       "ca          0\n",
       "thal        0\n",
       "target      0\n",
       "dtype: int64"
      ]
     },
     "execution_count": 14,
     "metadata": {},
     "output_type": "execute_result"
    }
   ],
   "source": [
    "# no nulls \n",
    "df.isnull().sum()"
   ]
  },
  {
   "cell_type": "markdown",
   "metadata": {},
   "source": [
    "NOTE :for catagorical features that are numerical, convert to string first then do dummy,\\\n",
    "eg. df1 = pd.get_dummies(df.astype(str))"
   ]
  },
  {
   "cell_type": "code",
   "execution_count": 32,
   "metadata": {},
   "outputs": [
    {
     "data": {
      "text/plain": [
       "<AxesSubplot:xlabel='target', ylabel='count'>"
      ]
     },
     "execution_count": 32,
     "metadata": {},
     "output_type": "execute_result"
    },
    {
     "data": {
      "image/png": "[encoded data removed]",
      "text/plain": [
       "<Figure size 432x288 with 1 Axes>"
      ]
     },
     "metadata": {
      "needs_background": "light"
     },
     "output_type": "display_data"
    }
   ],
   "source": [
    "# plot target cols\n",
    "sns.countplot(x=\"target\",data=df,palette=\"Set1\")"
   ]
  },
  {
   "cell_type": "code",
   "execution_count": 35,
   "metadata": {},
   "outputs": [
    {
     "data": {
      "text/plain": [
       "54.45544554455446"
      ]
     },
     "execution_count": 35,
     "metadata": {},
     "output_type": "execute_result"
    }
   ],
   "source": [
    "# baseline value of heart disease\n",
    "df[\"target\"].value_counts()[1]/len(df) * 100"
   ]
  },
  {
   "cell_type": "markdown",
   "metadata": {},
   "source": [
    "**baseline is 54% of patients have heart disease**"
   ]
  },
  {
   "cell_type": "code",
   "execution_count": 39,
   "metadata": {},
   "outputs": [
    {
     "data": {
      "text/plain": [
       "<matplotlib.legend.Legend at 0x7f87b3f1bb80>"
      ]
     },
     "execution_count": 39,
     "metadata": {},
     "output_type": "execute_result"
    },
    {
     "data": {
      "text/plain": [
       "<Figure size 864x432 with 0 Axes>"
      ]
     },
     "metadata": {},
     "output_type": "display_data"
    },
    {
     "data": {
      "image/png": "[encoded data removed]",
      "text/plain": [
       "<Figure size 432x288 with 1 Axes>"
      ]
     },
     "metadata": {
      "needs_background": "light"
     },
     "output_type": "display_data"
    }
   ],
   "source": [
    "# compare target with sex column \n",
    "# use crosstab to compare 2 cols\n",
    "plt.figure(figsize=(12,6))\n",
    "pd.crosstab(df[\"target\"],df[\"sex\"]).plot(kind=\"bar\")\n",
    "plt.title(\"Heart Disease Frequency for Sex\")\n",
    "plt.xlabel(\"0 = No Disease, 1 = Disease\")\n",
    "plt.ylabel(\"Amount\")\n",
    "plt.legend([\"Female\", \"Male\"])"
   ]
  },
  {
   "cell_type": "code",
   "execution_count": 69,
   "metadata": {},
   "outputs": [
    {
     "data": {
      "text/plain": [
       "<AxesSubplot:xlabel='sex', ylabel='count'>"
      ]
     },
     "execution_count": 69,
     "metadata": {},
     "output_type": "execute_result"
    },
    {
     "data": {
      "image/png": "[encoded data removed]",
      "text/plain": [
       "<Figure size 432x288 with 1 Axes>"
      ]
     },
     "metadata": {
      "needs_background": "light"
     },
     "output_type": "display_data"
    }
   ],
   "source": [
    "# check distribution of male and females\n",
    "# more than double the males than females\n",
    "sns.countplot(x=\"sex\",data=df,hue=\"target\",palette=\"husl\")\n"
   ]
  },
  {
   "cell_type": "markdown",
   "metadata": {},
   "source": [
    "See More % of men dont have heart disease. But more percentage of females have heart disease.\n"
   ]
  },
  {
   "cell_type": "markdown",
   "metadata": {},
   "source": [
    "### Compare max heart rate(thalach) vs age\n"
   ]
  },
  {
   "cell_type": "code",
   "execution_count": 65,
   "metadata": {},
   "outputs": [
    {
     "data": {
      "text/plain": [
       "<AxesSubplot:xlabel='age', ylabel='thalach'>"
      ]
     },
     "execution_count": 65,
     "metadata": {},
     "output_type": "execute_result"
    },
    {
     "data": {
      "image/png": "[encoded data removed]",
      "text/plain": [
       "<Figure size 432x288 with 1 Axes>"
      ]
     },
     "metadata": {
      "needs_background": "light"
     },
     "output_type": "display_data"
    }
   ],
   "source": [
    "sns.scatterplot(x=\"age\",y=\"thalach\",data=df,hue=\"target\",palette=\"Spectral\")"
   ]
  },
  {
   "cell_type": "markdown",
   "metadata": {},
   "source": [
    "Younger the person the higher the max hear rate kinda. Most participants seems older though and follow normal distribution "
   ]
  },
  {
   "cell_type": "code",
   "execution_count": 71,
   "metadata": {},
   "outputs": [
    {
     "data": {
      "text/plain": [
       "<seaborn.axisgrid.FacetGrid at 0x7f87b5e22460>"
      ]
     },
     "execution_count": 71,
     "metadata": {},
     "output_type": "execute_result"
    },
    {
     "data": {
      "image/png": "[encoded data removed]",
      "text/plain": [
       "<Figure size 360x360 with 1 Axes>"
      ]
     },
     "metadata": {
      "needs_background": "light"
     },
     "output_type": "display_data"
    }
   ],
   "source": [
    "# check age distribution\n",
    "sns.displot(df[\"age\"],bins=10,color=\"salmon\")"
   ]
  },
  {
   "cell_type": "markdown",
   "metadata": {},
   "source": [
    "#### heart disease  vs chest pain type\n",
    "`cp` vs the target"
   ]
  },
  {
   "cell_type": "code",
   "execution_count": 77,
   "metadata": {},
   "outputs": [
    {
     "data": {
      "image/png": "[encoded data removed]",
      "text/plain": [
       "<Figure size 864x432 with 1 Axes>"
      ]
     },
     "metadata": {
      "needs_background": "light"
     },
     "output_type": "display_data"
    }
   ],
   "source": [
    "plt.figure(figsize=(12,6))\n",
    "sns.countplot(x=\"cp\",data=df,palette=\"mako\",hue=\"target\")\n",
    "plt.title(\"Heart Disease Frequency Per Chest Pain Type\")\n",
    "plt.xlabel(\"Chest Pain Type\")\n",
    "plt.ylabel(\"Frequency\")\n",
    "plt.legend([\"No Disease\", \"Disease\"])\n",
    "plt.xticks(rotation = 0);"
   ]
  },
  {
   "cell_type": "markdown",
   "metadata": {},
   "source": [
    "3. cp - chest pain type \n",
    "    * 0: Typical angina: chest pain related decrease blood supply to the heart\n",
    "    * 1: Atypical angina: chest pain not related to heart\n",
    "    * 2: Non-anginal pain: typically esophageal spasms (non heart related)\n",
    "    * 3: Asymptomatic: chest pain not showing signs of disease\n",
    " \n",
    "- See 0 has higher ratio with no heart diseas\n",
    "- Whereas other you have higher chance of heart disease.\n"
   ]
  },
  {
   "cell_type": "markdown",
   "metadata": {},
   "source": [
    "#### Correlations"
   ]
  },
  {
   "cell_type": "code",
   "execution_count": 80,
   "metadata": {},
   "outputs": [
    {
     "data": {
      "text/plain": [
       "<AxesSubplot:>"
      ]
     },
     "execution_count": 80,
     "metadata": {},
     "output_type": "execute_result"
    },
    {
     "data": {
      "image/png": "[encoded data removed]",
      "text/plain": [
       "<Figure size 1080x864 with 2 Axes>"
      ]
     },
     "metadata": {
      "needs_background": "light"
     },
     "output_type": "display_data"
    }
   ],
   "source": [
    "# create heatmap of all corelations \n",
    "plt.figure(figsize=(15,12))\n",
    "sns.heatmap(df.corr(),cmap=\"coolwarm\",annot=True)\n"
   ]
  },
  {
   "cell_type": "markdown",
   "metadata": {},
   "source": [
    "A higher positive value means a potential positive correlation (increase) and a higher negative value means a potential negative correlation (decrease)."
   ]
  },
  {
   "cell_type": "code",
   "execution_count": 86,
   "metadata": {},
   "outputs": [
    {
     "data": {
      "text/plain": [
       "<AxesSubplot:>"
      ]
     },
     "execution_count": 86,
     "metadata": {},
     "output_type": "execute_result"
    },
    {
     "data": {
      "image/png": "[encoded data removed]",
      "text/plain": [
       "<Figure size 432x288 with 1 Axes>"
      ]
     },
     "metadata": {
      "needs_background": "light"
     },
     "output_type": "display_data"
    }
   ],
   "source": [
    "# plot correlation with target column\n",
    "# looks as if cp and thalach and slope are most correlated\n",
    "df.corr()[\"target\"][:-1].plot(kind=\"bar\",color=\"salmon\")"
   ]
  },
  {
   "cell_type": "code",
   "execution_count": 92,
   "metadata": {},
   "outputs": [
    {
     "data": {
      "text/plain": [
       "<AxesSubplot:xlabel='slope', ylabel='count'>"
      ]
     },
     "execution_count": 92,
     "metadata": {},
     "output_type": "execute_result"
    },
    {
     "data": {
      "image/png": "[encoded data removed]",
      "text/plain": [
       "<Figure size 432x288 with 1 Axes>"
      ]
     },
     "metadata": {
      "needs_background": "light"
     },
     "output_type": "display_data"
    }
   ],
   "source": [
    "#check out slope with target\n",
    "sns.countplot(x=\"slope\",data=df,hue=\"target\",palette=\"hls\")"
   ]
  },
  {
   "cell_type": "markdown",
   "metadata": {},
   "source": [
    "2 shows high chance of having heart disease"
   ]
  },
  {
   "cell_type": "code",
   "execution_count": 95,
   "metadata": {},
   "outputs": [
    {
     "data": {
      "text/plain": [
       "<AxesSubplot:xlabel='exang', ylabel='count'>"
      ]
     },
     "execution_count": 95,
     "metadata": {},
     "output_type": "execute_result"
    },
    {
     "data": {
      "image/png": "[encoded data removed]",
      "text/plain": [
       "<Figure size 432x288 with 1 Axes>"
      ]
     },
     "metadata": {
      "needs_background": "light"
     },
     "output_type": "display_data"
    }
   ],
   "source": [
    "#check out exang with target\n",
    "sns.countplot(x=\"exang\",data=df,hue=\"target\",palette=\"hls\")"
   ]
  },
  {
   "cell_type": "markdown",
   "metadata": {},
   "source": [
    "Shows opposite results with exang(exersize induced angia).\n",
    "0 - more people have heart disease\n",
    "1- more people dont have heart disease"
   ]
  },
  {
   "cell_type": "markdown",
   "metadata": {},
   "source": [
    "### Data already in numerical format and also no nulls so can skip Data Preprocessing and move onto modelling"
   ]
  },
  {
   "cell_type": "markdown",
   "metadata": {},
   "source": [
    "# Modeling phase"
   ]
  },
  {
   "cell_type": "code",
   "execution_count": 83,
   "metadata": {},
   "outputs": [
    {
     "data": {
      "text/html": [
       "<div>\n",
       "<style scoped>\n",
       "    .dataframe tbody tr th:only-of-type {\n",
       "        vertical-align: middle;\n",
       "    }\n",
       "\n",
       "    .dataframe tbody tr th {\n",
       "        vertical-align: top;\n",
       "    }\n",
       "\n",
       "    .dataframe thead th {\n",
       "        text-align: right;\n",
       "    }\n",
       "</style>\n",
       "<table border=\"1\" class=\"dataframe\">\n",
       "  <thead>\n",
       "    <tr style=\"text-align: right;\">\n",
       "      <th></th>\n",
       "      <th>age</th>\n",
       "      <th>sex</th>\n",
       "      <th>cp</th>\n",
       "      <th>trestbps</th>\n",
       "      <th>chol</th>\n",
       "      <th>fbs</th>\n",
       "      <th>restecg</th>\n",
       "      <th>thalach</th>\n",
       "      <th>exang</th>\n",
       "      <th>oldpeak</th>\n",
       "      <th>slope</th>\n",
       "      <th>ca</th>\n",
       "      <th>thal</th>\n",
       "      <th>target</th>\n",
       "    </tr>\n",
       "  </thead>\n",
       "  <tbody>\n",
       "    <tr>\n",
       "      <th>0</th>\n",
       "      <td>63</td>\n",
       "      <td>1</td>\n",
       "      <td>3</td>\n",
       "      <td>145</td>\n",
       "      <td>233</td>\n",
       "      <td>1</td>\n",
       "      <td>0</td>\n",
       "      <td>150</td>\n",
       "      <td>0</td>\n",
       "      <td>2.3</td>\n",
       "      <td>0</td>\n",
       "      <td>0</td>\n",
       "      <td>1</td>\n",
       "      <td>1</td>\n",
       "    </tr>\n",
       "    <tr>\n",
       "      <th>1</th>\n",
       "      <td>37</td>\n",
       "      <td>1</td>\n",
       "      <td>2</td>\n",
       "      <td>130</td>\n",
       "      <td>250</td>\n",
       "      <td>0</td>\n",
       "      <td>1</td>\n",
       "      <td>187</td>\n",
       "      <td>0</td>\n",
       "      <td>3.5</td>\n",
       "      <td>0</td>\n",
       "      <td>0</td>\n",
       "      <td>2</td>\n",
       "      <td>1</td>\n",
       "    </tr>\n",
       "    <tr>\n",
       "      <th>2</th>\n",
       "      <td>41</td>\n",
       "      <td>0</td>\n",
       "      <td>1</td>\n",
       "      <td>130</td>\n",
       "      <td>204</td>\n",
       "      <td>0</td>\n",
       "      <td>0</td>\n",
       "      <td>172</td>\n",
       "      <td>0</td>\n",
       "      <td>1.4</td>\n",
       "      <td>2</td>\n",
       "      <td>0</td>\n",
       "      <td>2</td>\n",
       "      <td>1</td>\n",
       "    </tr>\n",
       "    <tr>\n",
       "      <th>3</th>\n",
       "      <td>56</td>\n",
       "      <td>1</td>\n",
       "      <td>1</td>\n",
       "      <td>120</td>\n",
       "      <td>236</td>\n",
       "      <td>0</td>\n",
       "      <td>1</td>\n",
       "      <td>178</td>\n",
       "      <td>0</td>\n",
       "      <td>0.8</td>\n",
       "      <td>2</td>\n",
       "      <td>0</td>\n",
       "      <td>2</td>\n",
       "      <td>1</td>\n",
       "    </tr>\n",
       "    <tr>\n",
       "      <th>4</th>\n",
       "      <td>57</td>\n",
       "      <td>0</td>\n",
       "      <td>0</td>\n",
       "      <td>120</td>\n",
       "      <td>354</td>\n",
       "      <td>0</td>\n",
       "      <td>1</td>\n",
       "      <td>163</td>\n",
       "      <td>1</td>\n",
       "      <td>0.6</td>\n",
       "      <td>2</td>\n",
       "      <td>0</td>\n",
       "      <td>2</td>\n",
       "      <td>1</td>\n",
       "    </tr>\n",
       "  </tbody>\n",
       "</table>\n",
       "</div>"
      ],
      "text/plain": [
       "   age  sex  cp  trestbps  chol  fbs  restecg  thalach  exang  oldpeak  slope  \\\n",
       "0   63    1   3       145   233    1        0      150      0      2.3      0   \n",
       "1   37    1   2       130   250    0        1      187      0      3.5      0   \n",
       "2   41    0   1       130   204    0        0      172      0      1.4      2   \n",
       "3   56    1   1       120   236    0        1      178      0      0.8      2   \n",
       "4   57    0   0       120   354    0        1      163      1      0.6      2   \n",
       "\n",
       "   ca  thal  target  \n",
       "0   0     1       1  \n",
       "1   0     2       1  \n",
       "2   0     2       1  \n",
       "3   0     2       1  \n",
       "4   0     2       1  "
      ]
     },
     "execution_count": 83,
     "metadata": {},
     "output_type": "execute_result"
    }
   ],
   "source": [
    "df.head()\n"
   ]
  },
  {
   "cell_type": "code",
   "execution_count": 96,
   "metadata": {},
   "outputs": [],
   "source": [
    "# Setup X and y variables \n",
    "X = df.drop(\"target\",axis=1)\n",
    "y = df[\"target\"]"
   ]
  },
  {
   "cell_type": "code",
   "execution_count": 99,
   "metadata": {},
   "outputs": [],
   "source": [
    "#train test split data. 80/20 split\n",
    "X_train, X_test, y_train, y_test = train_test_split(X, y, test_size=0.2, random_state=42)"
   ]
  },
  {
   "cell_type": "markdown",
   "metadata": {},
   "source": [
    "#### Try out with differnet models \n",
    "These were found using the sckit-learn cheatsheet map\\\n",
    "Put models into map and create function to get score from each "
   ]
  },
  {
   "cell_type": "code",
   "execution_count": 136,
   "metadata": {},
   "outputs": [],
   "source": [
    "#models dictionary \n",
    "models = {\"KNN\": KNeighborsClassifier(),\n",
    "          \"Logistic Regression\": LogisticRegression(), \n",
    "          \"Random Forest\": RandomForestClassifier(),\n",
    "         \"SVC\": SVC()}\n",
    "#create function to accept models dict and fit and score model\n",
    "def fit_score(models, X_train, X_test, y_train, y_test):\n",
    "    \"\"\"\n",
    "    Fits and evaluates given machine learning models.\n",
    "    models : a dict of different Scikit-Learn machine learning models\n",
    "    X_train : training data\n",
    "    X_test : testing data\n",
    "    y_train : labels assosciated with training data\n",
    "    y_test : labels assosciated with test data\n",
    "    \"\"\"\n",
    "    # Random seed for reproducible results\n",
    "    np.random.seed(42)\n",
    "    # Make a list to keep model scores\n",
    "    model_scores = {}\n",
    "    # Loop through models items\n",
    "    for name, model in models.items():\n",
    "        # Fit the model to the data\n",
    "        model.fit(X_train, y_train)\n",
    "        # Evaluate the model and append its score to model_scores\n",
    "        model_scores[name] = model.score(X_test, y_test)\n",
    "    return model_scores\n",
    "        "
   ]
  },
  {
   "cell_type": "code",
   "execution_count": 137,
   "metadata": {},
   "outputs": [
    {
     "name": "stderr",
     "output_type": "stream",
     "text": [
      "/Users/Anmol/opt/anaconda3/lib/python3.8/site-packages/sklearn/linear_model/_logistic.py:762: ConvergenceWarning: lbfgs failed to converge (status=1):\n",
      "STOP: TOTAL NO. of ITERATIONS REACHED LIMIT.\n",
      "\n",
      "Increase the number of iterations (max_iter) or scale the data as shown in:\n",
      "    https://scikit-learn.org/stable/modules/preprocessing.html\n",
      "Please also refer to the documentation for alternative solver options:\n",
      "    https://scikit-learn.org/stable/modules/linear_model.html#logistic-regression\n",
      "  n_iter_i = _check_optimize_result(\n"
     ]
    },
    {
     "data": {
      "text/plain": [
       "{'KNN': 0.6885245901639344,\n",
       " 'Logistic Regression': 0.8852459016393442,\n",
       " 'Random Forest': 0.8360655737704918,\n",
       " 'SVC': 0.7049180327868853}"
      ]
     },
     "execution_count": 137,
     "metadata": {},
     "output_type": "execute_result"
    }
   ],
   "source": [
    "# pass through function and display accuracy of each\n",
    "model_scores = fit_score(models=models,\n",
    "                             X_train=X_train,\n",
    "                             X_test=X_test,\n",
    "                             y_train=y_train,\n",
    "                             y_test=y_test)\n",
    "model_scores"
   ]
  },
  {
   "cell_type": "code",
   "execution_count": 140,
   "metadata": {},
   "outputs": [
    {
     "data": {
      "text/plain": [
       "<AxesSubplot:>"
      ]
     },
     "execution_count": 140,
     "metadata": {},
     "output_type": "execute_result"
    },
    {
     "data": {
      "image/png": "[encoded data removed]",
      "text/plain": [
       "<Figure size 432x288 with 1 Axes>"
      ]
     },
     "metadata": {
      "needs_background": "light"
     },
     "output_type": "display_data"
    }
   ],
   "source": [
    "# plot out the results\n",
    "pd.DataFrame(model_scores,index=[\"accuarcy\"]).T.plot(kind=\"bar\")"
   ]
  },
  {
   "cell_type": "markdown",
   "metadata": {},
   "source": [
    "### looks like logistic regression and random forrest performs best .\n",
    "#### But lets check other metrics and tune hyperparamters \n",
    "#### Cross-validate data as well\n",
    "### Steps \n",
    "1. Tune model hyperparameters, see which performs best\n",
    "2. Perform cross-validation\n",
    "3. Plot ROC curves\n",
    "4. Make a confusion matrix\n",
    "5. Get precision, recall and F1-score metrics\n",
    "6. Find the most important model features"
   ]
  },
  {
   "cell_type": "markdown",
   "metadata": {},
   "source": [
    "#### KNN tune by hand by changing _neighbours from 1-19\n"
   ]
  },
  {
   "cell_type": "code",
   "execution_count": 154,
   "metadata": {},
   "outputs": [],
   "source": [
    "# plot out error rate to see best knn value to use \n",
    "# ELBOW method\n",
    "err_rate = []\n",
    "test_scores = []\n",
    "train_scores=[]\n",
    "for i in range(1,20):\n",
    "    # fit and predict \n",
    "    knn_i = KNeighborsClassifier(n_neighbors=i)\n",
    "    knn_i.fit(X_train,y_train)\n",
    "    i_preds = knn_i.predict(X_test)\n",
    "    # append err rate \n",
    "    err_rate.append(np.mean(i_preds != y_test))\n",
    "    # get test score\n",
    "    test_scores.append(knn_i.score(X_test,y_test))\n",
    "    # Update the training scores\n",
    "    train_scores.append(knn_i.score(X_train, y_train))"
   ]
  },
  {
   "cell_type": "code",
   "execution_count": 160,
   "metadata": {},
   "outputs": [
    {
     "data": {
      "text/plain": [
       "[<matplotlib.lines.Line2D at 0x7f879d652e50>]"
      ]
     },
     "execution_count": 160,
     "metadata": {},
     "output_type": "execute_result"
    },
    {
     "data": {
      "image/png": "[encoded data removed]",
      "text/plain": [
       "<Figure size 432x288 with 1 Axes>"
      ]
     },
     "metadata": {
      "needs_background": "light"
     },
     "output_type": "display_data"
    }
   ],
   "source": [
    "plt.plot(range(1,20),err_rate)"
   ]
  },
  {
   "cell_type": "markdown",
   "metadata": {},
   "source": [
    "Seems err rate at 11 drops the most thus is the best "
   ]
  },
  {
   "cell_type": "code",
   "execution_count": 159,
   "metadata": {},
   "outputs": [
    {
     "name": "stdout",
     "output_type": "stream",
     "text": [
      "Maximum KNN score on the test data: 75.41%\n"
     ]
    },
    {
     "data": {
      "image/png": "[encoded data removed]",
      "text/plain": [
       "<Figure size 432x288 with 1 Axes>"
      ]
     },
     "metadata": {
      "needs_background": "light"
     },
     "output_type": "display_data"
    }
   ],
   "source": [
    "plt.plot(range(1,20), train_scores, label=\"Train score\")\n",
    "plt.plot(range(1,20), test_scores, label=\"Test score\")\n",
    "plt.xticks(np.arange(1, 21, 1))\n",
    "plt.xlabel(\"Number of neighbors\")\n",
    "plt.ylabel(\"Model score\")\n",
    "plt.legend()\n",
    "\n",
    "print(f\"Maximum KNN score on the test data: {max(test_scores)*100:.2f}%\")"
   ]
  },
  {
   "cell_type": "markdown",
   "metadata": {},
   "source": [
    "Best score as shown also !!! But still worse than other models so will disregard\n"
   ]
  },
  {
   "cell_type": "markdown",
   "metadata": {},
   "source": [
    "#### logistic,SVC and Random Forrests \n",
    "    # Perform Randomized Search First\n",
    "    # Then peform grid search "
   ]
  },
  {
   "cell_type": "code",
   "execution_count": 161,
   "metadata": {},
   "outputs": [],
   "source": [
    "# Setup different grids for each model\n",
    "# Different LogisticRegression hyperparameters\n",
    "log_reg_grid = {\"C\": np.logspace(-4, 4, 20),\n",
    "                \"solver\": [\"liblinear\"]}\n",
    "\n",
    "# Different RandomForestClassifier hyperparameters\n",
    "rf_grid = {\"n_estimators\": np.arange(10, 1000, 50),\n",
    "           \"max_depth\": [None, 3, 5, 10],\n",
    "           \"min_samples_split\": np.arange(2, 20, 2),\n",
    "           \"min_samples_leaf\": np.arange(1, 20, 2)}\n",
    "#  Different SVC hyperparameters\n",
    "svc_grid= {\"C\":[.1,1,10,100,100],\"gamma\":[1,.1,.01,.001,.0001]}\n"
   ]
  },
  {
   "cell_type": "markdown",
   "metadata": {},
   "source": [
    "##### logistic regression "
   ]
  },
  {
   "cell_type": "code",
   "execution_count": 167,
   "metadata": {},
   "outputs": [
    {
     "name": "stdout",
     "output_type": "stream",
     "text": [
      "Fitting 5 folds for each of 20 candidates, totalling 100 fits\n"
     ]
    },
    {
     "name": "stderr",
     "output_type": "stream",
     "text": [
      "[Parallel(n_jobs=1)]: Using backend SequentialBackend with 1 concurrent workers.\n",
      "[Parallel(n_jobs=1)]: Done 100 out of 100 | elapsed:    0.6s finished\n"
     ]
    },
    {
     "data": {
      "text/plain": [
       "RandomizedSearchCV(cv=5, estimator=LogisticRegression(), n_iter=20,\n",
       "                   param_distributions={'C': array([1.00000000e-04, 2.63665090e-04, 6.95192796e-04, 1.83298071e-03,\n",
       "       4.83293024e-03, 1.27427499e-02, 3.35981829e-02, 8.85866790e-02,\n",
       "       2.33572147e-01, 6.15848211e-01, 1.62377674e+00, 4.28133240e+00,\n",
       "       1.12883789e+01, 2.97635144e+01, 7.84759970e+01, 2.06913808e+02,\n",
       "       5.45559478e+02, 1.43844989e+03, 3.79269019e+03, 1.00000000e+04]),\n",
       "                                        'solver': ['liblinear']},\n",
       "                   verbose=True)"
      ]
     },
     "execution_count": 167,
     "metadata": {},
     "output_type": "execute_result"
    }
   ],
   "source": [
    "#setup random seed \n",
    "np.random.seed(42)\n",
    "# RandomSearch with 20 iterations and 5 way cross-validation\n",
    "log_ran = RandomizedSearchCV(LogisticRegression(),\n",
    "                             param_distributions=log_reg_grid,\n",
    "                            cv=5,n_iter=20,verbose=True)\n",
    "# fit to data\n",
    "log_ran.fit(X_train,y_train)"
   ]
  },
  {
   "cell_type": "code",
   "execution_count": 168,
   "metadata": {},
   "outputs": [
    {
     "data": {
      "text/plain": [
       "{'solver': 'liblinear', 'C': 0.23357214690901212}"
      ]
     },
     "execution_count": 168,
     "metadata": {},
     "output_type": "execute_result"
    }
   ],
   "source": [
    "# best params obtained \n",
    "log_ran.best_params_"
   ]
  },
  {
   "cell_type": "code",
   "execution_count": 169,
   "metadata": {},
   "outputs": [
    {
     "data": {
      "text/plain": [
       "0.8852459016393442"
      ]
     },
     "execution_count": 169,
     "metadata": {},
     "output_type": "execute_result"
    }
   ],
   "source": [
    "# lets redo score and see \n",
    "log_ran.score(X_test,y_test)"
   ]
  },
  {
   "cell_type": "markdown",
   "metadata": {},
   "source": [
    "Not much imporovement"
   ]
  },
  {
   "cell_type": "markdown",
   "metadata": {},
   "source": [
    "#### RandomForrest "
   ]
  },
  {
   "cell_type": "code",
   "execution_count": 172,
   "metadata": {},
   "outputs": [
    {
     "name": "stdout",
     "output_type": "stream",
     "text": [
      "Fitting 5 folds for each of 20 candidates, totalling 100 fits\n",
      "[CV] n_estimators=10, min_samples_split=16, min_samples_leaf=9, max_depth=None \n",
      "[CV]  n_estimators=10, min_samples_split=16, min_samples_leaf=9, max_depth=None, total=   0.0s\n",
      "[CV] n_estimators=10, min_samples_split=16, min_samples_leaf=9, max_depth=None \n",
      "[CV]  n_estimators=10, min_samples_split=16, min_samples_leaf=9, max_depth=None, total=   0.0s\n",
      "[CV] n_estimators=10, min_samples_split=16, min_samples_leaf=9, max_depth=None \n",
      "[CV]  n_estimators=10, min_samples_split=16, min_samples_leaf=9, max_depth=None, total=   0.0s\n",
      "[CV] n_estimators=10, min_samples_split=16, min_samples_leaf=9, max_depth=None \n",
      "[CV]  n_estimators=10, min_samples_split=16, min_samples_leaf=9, max_depth=None, total=   0.0s\n",
      "[CV] n_estimators=10, min_samples_split=16, min_samples_leaf=9, max_depth=None \n",
      "[CV]  n_estimators=10, min_samples_split=16, min_samples_leaf=9, max_depth=None, total=   0.0s\n",
      "[CV] n_estimators=510, min_samples_split=18, min_samples_leaf=19, max_depth=5 \n"
     ]
    },
    {
     "name": "stderr",
     "output_type": "stream",
     "text": [
      "[Parallel(n_jobs=1)]: Using backend SequentialBackend with 1 concurrent workers.\n",
      "[Parallel(n_jobs=1)]: Done   1 out of   1 | elapsed:    0.0s remaining:    0.0s\n"
     ]
    },
    {
     "name": "stdout",
     "output_type": "stream",
     "text": [
      "[CV]  n_estimators=510, min_samples_split=18, min_samples_leaf=19, max_depth=5, total=   0.8s\n",
      "[CV] n_estimators=510, min_samples_split=18, min_samples_leaf=19, max_depth=5 \n",
      "[CV]  n_estimators=510, min_samples_split=18, min_samples_leaf=19, max_depth=5, total=   1.1s\n",
      "[CV] n_estimators=510, min_samples_split=18, min_samples_leaf=19, max_depth=5 \n",
      "[CV]  n_estimators=510, min_samples_split=18, min_samples_leaf=19, max_depth=5, total=   1.1s\n",
      "[CV] n_estimators=510, min_samples_split=18, min_samples_leaf=19, max_depth=5 \n",
      "[CV]  n_estimators=510, min_samples_split=18, min_samples_leaf=19, max_depth=5, total=   0.9s\n",
      "[CV] n_estimators=510, min_samples_split=18, min_samples_leaf=19, max_depth=5 \n",
      "[CV]  n_estimators=510, min_samples_split=18, min_samples_leaf=19, max_depth=5, total=   0.7s\n",
      "[CV] n_estimators=310, min_samples_split=2, min_samples_leaf=19, max_depth=5 \n",
      "[CV]  n_estimators=310, min_samples_split=2, min_samples_leaf=19, max_depth=5, total=   0.4s\n",
      "[CV] n_estimators=310, min_samples_split=2, min_samples_leaf=19, max_depth=5 \n",
      "[CV]  n_estimators=310, min_samples_split=2, min_samples_leaf=19, max_depth=5, total=   0.6s\n",
      "[CV] n_estimators=310, min_samples_split=2, min_samples_leaf=19, max_depth=5 \n",
      "[CV]  n_estimators=310, min_samples_split=2, min_samples_leaf=19, max_depth=5, total=   0.5s\n",
      "[CV] n_estimators=310, min_samples_split=2, min_samples_leaf=19, max_depth=5 \n",
      "[CV]  n_estimators=310, min_samples_split=2, min_samples_leaf=19, max_depth=5, total=   0.5s\n",
      "[CV] n_estimators=310, min_samples_split=2, min_samples_leaf=19, max_depth=5 \n",
      "[CV]  n_estimators=310, min_samples_split=2, min_samples_leaf=19, max_depth=5, total=   0.5s\n",
      "[CV] n_estimators=560, min_samples_split=16, min_samples_leaf=17, max_depth=5 \n",
      "[CV]  n_estimators=560, min_samples_split=16, min_samples_leaf=17, max_depth=5, total=   1.0s\n",
      "[CV] n_estimators=560, min_samples_split=16, min_samples_leaf=17, max_depth=5 \n",
      "[CV]  n_estimators=560, min_samples_split=16, min_samples_leaf=17, max_depth=5, total=   0.9s\n",
      "[CV] n_estimators=560, min_samples_split=16, min_samples_leaf=17, max_depth=5 \n",
      "[CV]  n_estimators=560, min_samples_split=16, min_samples_leaf=17, max_depth=5, total=   1.0s\n",
      "[CV] n_estimators=560, min_samples_split=16, min_samples_leaf=17, max_depth=5 \n",
      "[CV]  n_estimators=560, min_samples_split=16, min_samples_leaf=17, max_depth=5, total=   1.1s\n",
      "[CV] n_estimators=560, min_samples_split=16, min_samples_leaf=17, max_depth=5 \n",
      "[CV]  n_estimators=560, min_samples_split=16, min_samples_leaf=17, max_depth=5, total=   1.6s\n",
      "[CV] n_estimators=610, min_samples_split=18, min_samples_leaf=1, max_depth=5 \n",
      "[CV]  n_estimators=610, min_samples_split=18, min_samples_leaf=1, max_depth=5, total=   1.3s\n",
      "[CV] n_estimators=610, min_samples_split=18, min_samples_leaf=1, max_depth=5 \n",
      "[CV]  n_estimators=610, min_samples_split=18, min_samples_leaf=1, max_depth=5, total=   1.1s\n",
      "[CV] n_estimators=610, min_samples_split=18, min_samples_leaf=1, max_depth=5 \n",
      "[CV]  n_estimators=610, min_samples_split=18, min_samples_leaf=1, max_depth=5, total=   1.0s\n",
      "[CV] n_estimators=610, min_samples_split=18, min_samples_leaf=1, max_depth=5 \n",
      "[CV]  n_estimators=610, min_samples_split=18, min_samples_leaf=1, max_depth=5, total=   1.1s\n",
      "[CV] n_estimators=610, min_samples_split=18, min_samples_leaf=1, max_depth=5 \n",
      "[CV]  n_estimators=610, min_samples_split=18, min_samples_leaf=1, max_depth=5, total=   1.0s\n",
      "[CV] n_estimators=610, min_samples_split=4, min_samples_leaf=15, max_depth=3 \n",
      "[CV]  n_estimators=610, min_samples_split=4, min_samples_leaf=15, max_depth=3, total=   0.9s\n",
      "[CV] n_estimators=610, min_samples_split=4, min_samples_leaf=15, max_depth=3 \n",
      "[CV]  n_estimators=610, min_samples_split=4, min_samples_leaf=15, max_depth=3, total=   0.9s\n",
      "[CV] n_estimators=610, min_samples_split=4, min_samples_leaf=15, max_depth=3 \n",
      "[CV]  n_estimators=610, min_samples_split=4, min_samples_leaf=15, max_depth=3, total=   1.0s\n",
      "[CV] n_estimators=610, min_samples_split=4, min_samples_leaf=15, max_depth=3 \n",
      "[CV]  n_estimators=610, min_samples_split=4, min_samples_leaf=15, max_depth=3, total=   0.9s\n",
      "[CV] n_estimators=610, min_samples_split=4, min_samples_leaf=15, max_depth=3 \n",
      "[CV]  n_estimators=610, min_samples_split=4, min_samples_leaf=15, max_depth=3, total=   0.9s\n",
      "[CV] n_estimators=710, min_samples_split=16, min_samples_leaf=3, max_depth=10 \n",
      "[CV]  n_estimators=710, min_samples_split=16, min_samples_leaf=3, max_depth=10, total=   1.0s\n",
      "[CV] n_estimators=710, min_samples_split=16, min_samples_leaf=3, max_depth=10 \n",
      "[CV]  n_estimators=710, min_samples_split=16, min_samples_leaf=3, max_depth=10, total=   1.0s\n",
      "[CV] n_estimators=710, min_samples_split=16, min_samples_leaf=3, max_depth=10 \n",
      "[CV]  n_estimators=710, min_samples_split=16, min_samples_leaf=3, max_depth=10, total=   1.0s\n",
      "[CV] n_estimators=710, min_samples_split=16, min_samples_leaf=3, max_depth=10 \n",
      "[CV]  n_estimators=710, min_samples_split=16, min_samples_leaf=3, max_depth=10, total=   1.0s\n",
      "[CV] n_estimators=710, min_samples_split=16, min_samples_leaf=3, max_depth=10 \n",
      "[CV]  n_estimators=710, min_samples_split=16, min_samples_leaf=3, max_depth=10, total=   1.0s\n",
      "[CV] n_estimators=260, min_samples_split=16, min_samples_leaf=9, max_depth=10 \n",
      "[CV]  n_estimators=260, min_samples_split=16, min_samples_leaf=9, max_depth=10, total=   0.4s\n",
      "[CV] n_estimators=260, min_samples_split=16, min_samples_leaf=9, max_depth=10 \n",
      "[CV]  n_estimators=260, min_samples_split=16, min_samples_leaf=9, max_depth=10, total=   0.4s\n",
      "[CV] n_estimators=260, min_samples_split=16, min_samples_leaf=9, max_depth=10 \n",
      "[CV]  n_estimators=260, min_samples_split=16, min_samples_leaf=9, max_depth=10, total=   0.4s\n",
      "[CV] n_estimators=260, min_samples_split=16, min_samples_leaf=9, max_depth=10 \n",
      "[CV]  n_estimators=260, min_samples_split=16, min_samples_leaf=9, max_depth=10, total=   0.4s\n",
      "[CV] n_estimators=260, min_samples_split=16, min_samples_leaf=9, max_depth=10 \n",
      "[CV]  n_estimators=260, min_samples_split=16, min_samples_leaf=9, max_depth=10, total=   0.6s\n",
      "[CV] n_estimators=310, min_samples_split=12, min_samples_leaf=5, max_depth=None \n",
      "[CV]  n_estimators=310, min_samples_split=12, min_samples_leaf=5, max_depth=None, total=   0.6s\n",
      "[CV] n_estimators=310, min_samples_split=12, min_samples_leaf=5, max_depth=None \n",
      "[CV]  n_estimators=310, min_samples_split=12, min_samples_leaf=5, max_depth=None, total=   0.6s\n",
      "[CV] n_estimators=310, min_samples_split=12, min_samples_leaf=5, max_depth=None \n",
      "[CV]  n_estimators=310, min_samples_split=12, min_samples_leaf=5, max_depth=None, total=   0.7s\n",
      "[CV] n_estimators=310, min_samples_split=12, min_samples_leaf=5, max_depth=None \n",
      "[CV]  n_estimators=310, min_samples_split=12, min_samples_leaf=5, max_depth=None, total=   0.5s\n",
      "[CV] n_estimators=310, min_samples_split=12, min_samples_leaf=5, max_depth=None \n",
      "[CV]  n_estimators=310, min_samples_split=12, min_samples_leaf=5, max_depth=None, total=   0.7s\n",
      "[CV] n_estimators=710, min_samples_split=12, min_samples_leaf=19, max_depth=5 \n",
      "[CV]  n_estimators=710, min_samples_split=12, min_samples_leaf=19, max_depth=5, total=   1.5s\n",
      "[CV] n_estimators=710, min_samples_split=12, min_samples_leaf=19, max_depth=5 \n",
      "[CV]  n_estimators=710, min_samples_split=12, min_samples_leaf=19, max_depth=5, total=   1.3s\n",
      "[CV] n_estimators=710, min_samples_split=12, min_samples_leaf=19, max_depth=5 \n",
      "[CV]  n_estimators=710, min_samples_split=12, min_samples_leaf=19, max_depth=5, total=   1.1s\n",
      "[CV] n_estimators=710, min_samples_split=12, min_samples_leaf=19, max_depth=5 \n",
      "[CV]  n_estimators=710, min_samples_split=12, min_samples_leaf=19, max_depth=5, total=   1.0s\n",
      "[CV] n_estimators=710, min_samples_split=12, min_samples_leaf=19, max_depth=5 \n",
      "[CV]  n_estimators=710, min_samples_split=12, min_samples_leaf=19, max_depth=5, total=   1.0s\n",
      "[CV] n_estimators=310, min_samples_split=12, min_samples_leaf=9, max_depth=5 \n",
      "[CV]  n_estimators=310, min_samples_split=12, min_samples_leaf=9, max_depth=5, total=   0.5s\n",
      "[CV] n_estimators=310, min_samples_split=12, min_samples_leaf=9, max_depth=5 \n",
      "[CV]  n_estimators=310, min_samples_split=12, min_samples_leaf=9, max_depth=5, total=   0.4s\n",
      "[CV] n_estimators=310, min_samples_split=12, min_samples_leaf=9, max_depth=5 \n",
      "[CV]  n_estimators=310, min_samples_split=12, min_samples_leaf=9, max_depth=5, total=   0.5s\n",
      "[CV] n_estimators=310, min_samples_split=12, min_samples_leaf=9, max_depth=5 \n"
     ]
    },
    {
     "name": "stdout",
     "output_type": "stream",
     "text": [
      "[CV]  n_estimators=310, min_samples_split=12, min_samples_leaf=9, max_depth=5, total=   0.5s\n",
      "[CV] n_estimators=310, min_samples_split=12, min_samples_leaf=9, max_depth=5 \n",
      "[CV]  n_estimators=310, min_samples_split=12, min_samples_leaf=9, max_depth=5, total=   0.5s\n",
      "[CV] n_estimators=910, min_samples_split=18, min_samples_leaf=1, max_depth=10 \n",
      "[CV]  n_estimators=910, min_samples_split=18, min_samples_leaf=1, max_depth=10, total=   1.4s\n",
      "[CV] n_estimators=910, min_samples_split=18, min_samples_leaf=1, max_depth=10 \n",
      "[CV]  n_estimators=910, min_samples_split=18, min_samples_leaf=1, max_depth=10, total=   1.4s\n",
      "[CV] n_estimators=910, min_samples_split=18, min_samples_leaf=1, max_depth=10 \n",
      "[CV]  n_estimators=910, min_samples_split=18, min_samples_leaf=1, max_depth=10, total=   1.4s\n",
      "[CV] n_estimators=910, min_samples_split=18, min_samples_leaf=1, max_depth=10 \n",
      "[CV]  n_estimators=910, min_samples_split=18, min_samples_leaf=1, max_depth=10, total=   1.4s\n",
      "[CV] n_estimators=910, min_samples_split=18, min_samples_leaf=1, max_depth=10 \n",
      "[CV]  n_estimators=910, min_samples_split=18, min_samples_leaf=1, max_depth=10, total=   1.4s\n",
      "[CV] n_estimators=560, min_samples_split=12, min_samples_leaf=9, max_depth=10 \n",
      "[CV]  n_estimators=560, min_samples_split=12, min_samples_leaf=9, max_depth=10, total=   0.9s\n",
      "[CV] n_estimators=560, min_samples_split=12, min_samples_leaf=9, max_depth=10 \n",
      "[CV]  n_estimators=560, min_samples_split=12, min_samples_leaf=9, max_depth=10, total=   0.9s\n",
      "[CV] n_estimators=560, min_samples_split=12, min_samples_leaf=9, max_depth=10 \n",
      "[CV]  n_estimators=560, min_samples_split=12, min_samples_leaf=9, max_depth=10, total=   0.8s\n",
      "[CV] n_estimators=560, min_samples_split=12, min_samples_leaf=9, max_depth=10 \n",
      "[CV]  n_estimators=560, min_samples_split=12, min_samples_leaf=9, max_depth=10, total=   0.8s\n",
      "[CV] n_estimators=560, min_samples_split=12, min_samples_leaf=9, max_depth=10 \n",
      "[CV]  n_estimators=560, min_samples_split=12, min_samples_leaf=9, max_depth=10, total=   1.1s\n",
      "[CV] n_estimators=210, min_samples_split=4, min_samples_leaf=19, max_depth=3 \n",
      "[CV]  n_estimators=210, min_samples_split=4, min_samples_leaf=19, max_depth=3, total=   0.4s\n",
      "[CV] n_estimators=210, min_samples_split=4, min_samples_leaf=19, max_depth=3 \n",
      "[CV]  n_estimators=210, min_samples_split=4, min_samples_leaf=19, max_depth=3, total=   0.4s\n",
      "[CV] n_estimators=210, min_samples_split=4, min_samples_leaf=19, max_depth=3 \n",
      "[CV]  n_estimators=210, min_samples_split=4, min_samples_leaf=19, max_depth=3, total=   0.5s\n",
      "[CV] n_estimators=210, min_samples_split=4, min_samples_leaf=19, max_depth=3 \n",
      "[CV]  n_estimators=210, min_samples_split=4, min_samples_leaf=19, max_depth=3, total=   0.4s\n",
      "[CV] n_estimators=210, min_samples_split=4, min_samples_leaf=19, max_depth=3 \n",
      "[CV]  n_estimators=210, min_samples_split=4, min_samples_leaf=19, max_depth=3, total=   0.4s\n",
      "[CV] n_estimators=560, min_samples_split=12, min_samples_leaf=15, max_depth=3 \n",
      "[CV]  n_estimators=560, min_samples_split=12, min_samples_leaf=15, max_depth=3, total=   0.9s\n",
      "[CV] n_estimators=560, min_samples_split=12, min_samples_leaf=15, max_depth=3 \n",
      "[CV]  n_estimators=560, min_samples_split=12, min_samples_leaf=15, max_depth=3, total=   0.9s\n",
      "[CV] n_estimators=560, min_samples_split=12, min_samples_leaf=15, max_depth=3 \n",
      "[CV]  n_estimators=560, min_samples_split=12, min_samples_leaf=15, max_depth=3, total=   0.8s\n",
      "[CV] n_estimators=560, min_samples_split=12, min_samples_leaf=15, max_depth=3 \n",
      "[CV]  n_estimators=560, min_samples_split=12, min_samples_leaf=15, max_depth=3, total=   0.8s\n",
      "[CV] n_estimators=560, min_samples_split=12, min_samples_leaf=15, max_depth=3 \n",
      "[CV]  n_estimators=560, min_samples_split=12, min_samples_leaf=15, max_depth=3, total=   0.8s\n",
      "[CV] n_estimators=960, min_samples_split=4, min_samples_leaf=13, max_depth=3 \n",
      "[CV]  n_estimators=960, min_samples_split=4, min_samples_leaf=13, max_depth=3, total=   1.3s\n",
      "[CV] n_estimators=960, min_samples_split=4, min_samples_leaf=13, max_depth=3 \n",
      "[CV]  n_estimators=960, min_samples_split=4, min_samples_leaf=13, max_depth=3, total=   1.3s\n",
      "[CV] n_estimators=960, min_samples_split=4, min_samples_leaf=13, max_depth=3 \n",
      "[CV]  n_estimators=960, min_samples_split=4, min_samples_leaf=13, max_depth=3, total=   1.4s\n",
      "[CV] n_estimators=960, min_samples_split=4, min_samples_leaf=13, max_depth=3 \n",
      "[CV]  n_estimators=960, min_samples_split=4, min_samples_leaf=13, max_depth=3, total=   1.4s\n",
      "[CV] n_estimators=960, min_samples_split=4, min_samples_leaf=13, max_depth=3 \n",
      "[CV]  n_estimators=960, min_samples_split=4, min_samples_leaf=13, max_depth=3, total=   1.4s\n",
      "[CV] n_estimators=510, min_samples_split=14, min_samples_leaf=1, max_depth=None \n",
      "[CV]  n_estimators=510, min_samples_split=14, min_samples_leaf=1, max_depth=None, total=   0.8s\n",
      "[CV] n_estimators=510, min_samples_split=14, min_samples_leaf=1, max_depth=None \n",
      "[CV]  n_estimators=510, min_samples_split=14, min_samples_leaf=1, max_depth=None, total=   0.7s\n",
      "[CV] n_estimators=510, min_samples_split=14, min_samples_leaf=1, max_depth=None \n",
      "[CV]  n_estimators=510, min_samples_split=14, min_samples_leaf=1, max_depth=None, total=   0.7s\n",
      "[CV] n_estimators=510, min_samples_split=14, min_samples_leaf=1, max_depth=None \n",
      "[CV]  n_estimators=510, min_samples_split=14, min_samples_leaf=1, max_depth=None, total=   0.8s\n",
      "[CV] n_estimators=510, min_samples_split=14, min_samples_leaf=1, max_depth=None \n",
      "[CV]  n_estimators=510, min_samples_split=14, min_samples_leaf=1, max_depth=None, total=   0.8s\n",
      "[CV] n_estimators=260, min_samples_split=8, min_samples_leaf=19, max_depth=None \n",
      "[CV]  n_estimators=260, min_samples_split=8, min_samples_leaf=19, max_depth=None, total=   0.4s\n",
      "[CV] n_estimators=260, min_samples_split=8, min_samples_leaf=19, max_depth=None \n",
      "[CV]  n_estimators=260, min_samples_split=8, min_samples_leaf=19, max_depth=None, total=   0.4s\n",
      "[CV] n_estimators=260, min_samples_split=8, min_samples_leaf=19, max_depth=None \n",
      "[CV]  n_estimators=260, min_samples_split=8, min_samples_leaf=19, max_depth=None, total=   0.4s\n",
      "[CV] n_estimators=260, min_samples_split=8, min_samples_leaf=19, max_depth=None \n",
      "[CV]  n_estimators=260, min_samples_split=8, min_samples_leaf=19, max_depth=None, total=   0.4s\n",
      "[CV] n_estimators=260, min_samples_split=8, min_samples_leaf=19, max_depth=None \n",
      "[CV]  n_estimators=260, min_samples_split=8, min_samples_leaf=19, max_depth=None, total=   0.4s\n",
      "[CV] n_estimators=460, min_samples_split=6, min_samples_leaf=9, max_depth=None \n",
      "[CV]  n_estimators=460, min_samples_split=6, min_samples_leaf=9, max_depth=None, total=   0.7s\n",
      "[CV] n_estimators=460, min_samples_split=6, min_samples_leaf=9, max_depth=None \n",
      "[CV]  n_estimators=460, min_samples_split=6, min_samples_leaf=9, max_depth=None, total=   0.7s\n",
      "[CV] n_estimators=460, min_samples_split=6, min_samples_leaf=9, max_depth=None \n",
      "[CV]  n_estimators=460, min_samples_split=6, min_samples_leaf=9, max_depth=None, total=   0.7s\n",
      "[CV] n_estimators=460, min_samples_split=6, min_samples_leaf=9, max_depth=None \n",
      "[CV]  n_estimators=460, min_samples_split=6, min_samples_leaf=9, max_depth=None, total=   0.7s\n",
      "[CV] n_estimators=460, min_samples_split=6, min_samples_leaf=9, max_depth=None \n",
      "[CV]  n_estimators=460, min_samples_split=6, min_samples_leaf=9, max_depth=None, total=   0.7s\n",
      "[CV] n_estimators=560, min_samples_split=6, min_samples_leaf=7, max_depth=3 \n",
      "[CV]  n_estimators=560, min_samples_split=6, min_samples_leaf=7, max_depth=3, total=   0.8s\n",
      "[CV] n_estimators=560, min_samples_split=6, min_samples_leaf=7, max_depth=3 \n",
      "[CV]  n_estimators=560, min_samples_split=6, min_samples_leaf=7, max_depth=3, total=   0.8s\n",
      "[CV] n_estimators=560, min_samples_split=6, min_samples_leaf=7, max_depth=3 \n",
      "[CV]  n_estimators=560, min_samples_split=6, min_samples_leaf=7, max_depth=3, total=   0.8s\n",
      "[CV] n_estimators=560, min_samples_split=6, min_samples_leaf=7, max_depth=3 \n",
      "[CV]  n_estimators=560, min_samples_split=6, min_samples_leaf=7, max_depth=3, total=   0.9s\n",
      "[CV] n_estimators=560, min_samples_split=6, min_samples_leaf=7, max_depth=3 \n",
      "[CV]  n_estimators=560, min_samples_split=6, min_samples_leaf=7, max_depth=3, total=   0.8s\n"
     ]
    },
    {
     "name": "stderr",
     "output_type": "stream",
     "text": [
      "[Parallel(n_jobs=1)]: Done 100 out of 100 | elapsed:  1.3min finished\n"
     ]
    },
    {
     "data": {
      "text/plain": [
       "RandomizedSearchCV(cv=5, estimator=RandomForestClassifier(), n_iter=20,\n",
       "                   param_distributions={'max_depth': [None, 3, 5, 10],\n",
       "                                        'min_samples_leaf': array([ 1,  3,  5,  7,  9, 11, 13, 15, 17, 19]),\n",
       "                                        'min_samples_split': array([ 2,  4,  6,  8, 10, 12, 14, 16, 18]),\n",
       "                                        'n_estimators': array([ 10,  60, 110, 160, 210, 260, 310, 360, 410, 460, 510, 560, 610,\n",
       "       660, 710, 760, 810, 860, 910, 960])},\n",
       "                   verbose=2)"
      ]
     },
     "execution_count": 172,
     "metadata": {},
     "output_type": "execute_result"
    }
   ],
   "source": [
    "#setup random seed \n",
    "np.random.seed(42)\n",
    "# RandomSearch with 20 iterations and 5 way cross-validation\n",
    "rf_ran = RandomizedSearchCV(RandomForestClassifier(),\n",
    "                             param_distributions=rf_grid,\n",
    "                            cv=5,n_iter=20,verbose=2)\n",
    "# fit to data\n",
    "rf_ran.fit(X_train,y_train)"
   ]
  },
  {
   "cell_type": "code",
   "execution_count": 175,
   "metadata": {},
   "outputs": [
    {
     "data": {
      "text/plain": [
       "{'n_estimators': 210,\n",
       " 'min_samples_split': 4,\n",
       " 'min_samples_leaf': 19,\n",
       " 'max_depth': 3}"
      ]
     },
     "execution_count": 175,
     "metadata": {},
     "output_type": "execute_result"
    }
   ],
   "source": [
    "# best params!!\n",
    "rf_ran.best_params_"
   ]
  },
  {
   "cell_type": "code",
   "execution_count": 176,
   "metadata": {},
   "outputs": [
    {
     "data": {
      "text/plain": [
       "0.8688524590163934"
      ]
     },
     "execution_count": 176,
     "metadata": {},
     "output_type": "execute_result"
    }
   ],
   "source": [
    "# get score \n",
    "rf_ran.score(X_test,y_test)"
   ]
  },
  {
   "cell_type": "markdown",
   "metadata": {},
   "source": [
    "Defs improved a little !!!"
   ]
  },
  {
   "cell_type": "code",
   "execution_count": 181,
   "metadata": {},
   "outputs": [
    {
     "name": "stdout",
     "output_type": "stream",
     "text": [
      "Fitting 5 folds for each of 20 candidates, totalling 100 fits\n",
      "[CV] gamma=0.001, C=1 ................................................\n",
      "[CV] ................................. gamma=0.001, C=1, total=   0.0s\n",
      "[CV] gamma=0.001, C=1 ................................................\n",
      "[CV] ................................. gamma=0.001, C=1, total=   0.0s\n",
      "[CV] gamma=0.001, C=1 ................................................\n",
      "[CV] ................................. gamma=0.001, C=1, total=   0.0s\n",
      "[CV] gamma=0.001, C=1 ................................................\n",
      "[CV] ................................. gamma=0.001, C=1, total=   0.0s\n",
      "[CV] gamma=0.001, C=1 ................................................\n",
      "[CV] ................................. gamma=0.001, C=1, total=   0.0s\n",
      "[CV] gamma=0.1, C=100 ................................................\n",
      "[CV] ................................. gamma=0.1, C=100, total=   0.0s\n",
      "[CV] gamma=0.1, C=100 ................................................\n",
      "[CV] ................................. gamma=0.1, C=100, total=   0.0s\n",
      "[CV] gamma=0.1, C=100 ................................................\n",
      "[CV] ................................. gamma=0.1, C=100, total=   0.0s\n",
      "[CV] gamma=0.1, C=100 ................................................\n",
      "[CV] ................................. gamma=0.1, C=100, total=   0.0s\n",
      "[CV] gamma=0.1, C=100 ................................................\n",
      "[CV] ................................. gamma=0.1, C=100, total=   0.0s\n",
      "[CV] gamma=1, C=0.1 ..................................................\n",
      "[CV] ................................... gamma=1, C=0.1, total=   0.0s\n",
      "[CV] gamma=1, C=0.1 ..................................................\n",
      "[CV] ................................... gamma=1, C=0.1, total=   0.0s\n",
      "[CV] gamma=1, C=0.1 ..................................................\n",
      "[CV] ................................... gamma=1, C=0.1, total=   0.0s\n",
      "[CV] gamma=1, C=0.1 ..................................................\n",
      "[CV] ................................... gamma=1, C=0.1, total=   0.0s\n",
      "[CV] gamma=1, C=0.1 ..................................................\n",
      "[CV] ................................... gamma=1, C=0.1, total=   0.0s\n",
      "[CV] gamma=0.001, C=100 ..............................................\n",
      "[CV] ............................... gamma=0.001, C=100, total=   0.0s\n",
      "[CV] gamma=0.001, C=100 ..............................................\n",
      "[CV] ............................... gamma=0.001, C=100, total=   0.0s\n",
      "[CV] gamma=0.001, C=100 ..............................................\n",
      "[CV] ............................... gamma=0.001, C=100, total=   0.0s\n",
      "[CV] gamma=0.001, C=100 ..............................................\n"
     ]
    },
    {
     "name": "stderr",
     "output_type": "stream",
     "text": [
      "[Parallel(n_jobs=1)]: Using backend SequentialBackend with 1 concurrent workers.\n",
      "[Parallel(n_jobs=1)]: Done   1 out of   1 | elapsed:    0.0s remaining:    0.0s\n"
     ]
    },
    {
     "name": "stdout",
     "output_type": "stream",
     "text": [
      "[CV] ............................... gamma=0.001, C=100, total=   0.0s\n",
      "[CV] gamma=0.001, C=100 ..............................................\n",
      "[CV] ............................... gamma=0.001, C=100, total=   0.0s\n",
      "[CV] gamma=0.1, C=10 .................................................\n",
      "[CV] .................................. gamma=0.1, C=10, total=   0.0s\n",
      "[CV] gamma=0.1, C=10 .................................................\n",
      "[CV] .................................. gamma=0.1, C=10, total=   0.0s\n",
      "[CV] gamma=0.1, C=10 .................................................\n",
      "[CV] .................................. gamma=0.1, C=10, total=   0.0s\n",
      "[CV] gamma=0.1, C=10 .................................................\n",
      "[CV] .................................. gamma=0.1, C=10, total=   0.0s\n",
      "[CV] gamma=0.1, C=10 .................................................\n",
      "[CV] .................................. gamma=0.1, C=10, total=   0.0s\n",
      "[CV] gamma=0.0001, C=1 ...............................................\n",
      "[CV] ................................ gamma=0.0001, C=1, total=   0.0s\n",
      "[CV] gamma=0.0001, C=1 ...............................................\n",
      "[CV] ................................ gamma=0.0001, C=1, total=   0.0s\n",
      "[CV] gamma=0.0001, C=1 ...............................................\n",
      "[CV] ................................ gamma=0.0001, C=1, total=   0.0s\n",
      "[CV] gamma=0.0001, C=1 ...............................................\n",
      "[CV] ................................ gamma=0.0001, C=1, total=   0.0s\n",
      "[CV] gamma=0.0001, C=1 ...............................................\n",
      "[CV] ................................ gamma=0.0001, C=1, total=   0.0s\n",
      "[CV] gamma=0.001, C=10 ...............................................\n",
      "[CV] ................................ gamma=0.001, C=10, total=   0.0s\n",
      "[CV] gamma=0.001, C=10 ...............................................\n",
      "[CV] ................................ gamma=0.001, C=10, total=   0.0s\n",
      "[CV] gamma=0.001, C=10 ...............................................\n",
      "[CV] ................................ gamma=0.001, C=10, total=   0.0s\n",
      "[CV] gamma=0.001, C=10 ...............................................\n",
      "[CV] ................................ gamma=0.001, C=10, total=   0.0s\n",
      "[CV] gamma=0.001, C=10 ...............................................\n",
      "[CV] ................................ gamma=0.001, C=10, total=   0.0s\n",
      "[CV] gamma=0.1, C=0.1 ................................................\n",
      "[CV] ................................. gamma=0.1, C=0.1, total=   0.0s\n",
      "[CV] gamma=0.1, C=0.1 ................................................\n",
      "[CV] ................................. gamma=0.1, C=0.1, total=   0.0s\n",
      "[CV] gamma=0.1, C=0.1 ................................................\n",
      "[CV] ................................. gamma=0.1, C=0.1, total=   0.0s\n",
      "[CV] gamma=0.1, C=0.1 ................................................\n",
      "[CV] ................................. gamma=0.1, C=0.1, total=   0.0s\n",
      "[CV] gamma=0.1, C=0.1 ................................................\n",
      "[CV] ................................. gamma=0.1, C=0.1, total=   0.0s\n",
      "[CV] gamma=0.01, C=100 ...............................................\n",
      "[CV] ................................ gamma=0.01, C=100, total=   0.0s\n",
      "[CV] gamma=0.01, C=100 ...............................................\n",
      "[CV] ................................ gamma=0.01, C=100, total=   0.0s\n",
      "[CV] gamma=0.01, C=100 ...............................................\n",
      "[CV] ................................ gamma=0.01, C=100, total=   0.0s\n",
      "[CV] gamma=0.01, C=100 ...............................................\n",
      "[CV] ................................ gamma=0.01, C=100, total=   0.0s\n",
      "[CV] gamma=0.01, C=100 ...............................................\n",
      "[CV] ................................ gamma=0.01, C=100, total=   0.0s\n",
      "[CV] gamma=1, C=1 ....................................................\n",
      "[CV] ..................................... gamma=1, C=1, total=   0.0s\n",
      "[CV] gamma=1, C=1 ....................................................\n",
      "[CV] ..................................... gamma=1, C=1, total=   0.0s\n",
      "[CV] gamma=1, C=1 ....................................................\n",
      "[CV] ..................................... gamma=1, C=1, total=   0.0s\n",
      "[CV] gamma=1, C=1 ....................................................\n",
      "[CV] ..................................... gamma=1, C=1, total=   0.0s\n",
      "[CV] gamma=1, C=1 ....................................................\n",
      "[CV] ..................................... gamma=1, C=1, total=   0.0s\n",
      "[CV] gamma=0.01, C=0.1 ...............................................\n",
      "[CV] ................................ gamma=0.01, C=0.1, total=   0.0s\n",
      "[CV] gamma=0.01, C=0.1 ...............................................\n",
      "[CV] ................................ gamma=0.01, C=0.1, total=   0.0s\n",
      "[CV] gamma=0.01, C=0.1 ...............................................\n",
      "[CV] ................................ gamma=0.01, C=0.1, total=   0.0s\n",
      "[CV] gamma=0.01, C=0.1 ...............................................\n",
      "[CV] ................................ gamma=0.01, C=0.1, total=   0.0s\n",
      "[CV] gamma=0.01, C=0.1 ...............................................\n",
      "[CV] ................................ gamma=0.01, C=0.1, total=   0.0s\n",
      "[CV] gamma=0.01, C=10 ................................................\n",
      "[CV] ................................. gamma=0.01, C=10, total=   0.0s\n",
      "[CV] gamma=0.01, C=10 ................................................\n",
      "[CV] ................................. gamma=0.01, C=10, total=   0.0s\n",
      "[CV] gamma=0.01, C=10 ................................................\n",
      "[CV] ................................. gamma=0.01, C=10, total=   0.0s\n",
      "[CV] gamma=0.01, C=10 ................................................\n",
      "[CV] ................................. gamma=0.01, C=10, total=   0.0s\n",
      "[CV] gamma=0.01, C=10 ................................................\n",
      "[CV] ................................. gamma=0.01, C=10, total=   0.0s\n",
      "[CV] gamma=1, C=100 ..................................................\n",
      "[CV] ................................... gamma=1, C=100, total=   0.0s\n",
      "[CV] gamma=1, C=100 ..................................................\n",
      "[CV] ................................... gamma=1, C=100, total=   0.0s\n",
      "[CV] gamma=1, C=100 ..................................................\n",
      "[CV] ................................... gamma=1, C=100, total=   0.0s\n",
      "[CV] gamma=1, C=100 ..................................................\n",
      "[CV] ................................... gamma=1, C=100, total=   0.0s\n",
      "[CV] gamma=1, C=100 ..................................................\n",
      "[CV] ................................... gamma=1, C=100, total=   0.0s\n",
      "[CV] gamma=0.001, C=0.1 ..............................................\n",
      "[CV] ............................... gamma=0.001, C=0.1, total=   0.0s\n",
      "[CV] gamma=0.001, C=0.1 ..............................................\n",
      "[CV] ............................... gamma=0.001, C=0.1, total=   0.0s\n",
      "[CV] gamma=0.001, C=0.1 ..............................................\n",
      "[CV] ............................... gamma=0.001, C=0.1, total=   0.0s\n",
      "[CV] gamma=0.001, C=0.1 ..............................................\n",
      "[CV] ............................... gamma=0.001, C=0.1, total=   0.0s\n",
      "[CV] gamma=0.001, C=0.1 ..............................................\n",
      "[CV] ............................... gamma=0.001, C=0.1, total=   0.0s\n",
      "[CV] gamma=0.0001, C=0.1 .............................................\n",
      "[CV] .............................. gamma=0.0001, C=0.1, total=   0.0s\n",
      "[CV] gamma=0.0001, C=0.1 .............................................\n",
      "[CV] .............................. gamma=0.0001, C=0.1, total=   0.0s\n",
      "[CV] gamma=0.0001, C=0.1 .............................................\n",
      "[CV] .............................. gamma=0.0001, C=0.1, total=   0.0s\n",
      "[CV] gamma=0.0001, C=0.1 .............................................\n",
      "[CV] .............................. gamma=0.0001, C=0.1, total=   0.0s\n",
      "[CV] gamma=0.0001, C=0.1 .............................................\n",
      "[CV] .............................. gamma=0.0001, C=0.1, total=   0.0s\n",
      "[CV] gamma=1, C=100 ..................................................\n",
      "[CV] ................................... gamma=1, C=100, total=   0.0s\n",
      "[CV] gamma=1, C=100 ..................................................\n",
      "[CV] ................................... gamma=1, C=100, total=   0.0s\n",
      "[CV] gamma=1, C=100 ..................................................\n",
      "[CV] ................................... gamma=1, C=100, total=   0.0s\n",
      "[CV] gamma=1, C=100 ..................................................\n",
      "[CV] ................................... gamma=1, C=100, total=   0.0s\n",
      "[CV] gamma=1, C=100 ..................................................\n",
      "[CV] ................................... gamma=1, C=100, total=   0.0s\n",
      "[CV] gamma=0.01, C=100 ...............................................\n",
      "[CV] ................................ gamma=0.01, C=100, total=   0.0s\n",
      "[CV] gamma=0.01, C=100 ...............................................\n",
      "[CV] ................................ gamma=0.01, C=100, total=   0.0s\n",
      "[CV] gamma=0.01, C=100 ...............................................\n",
      "[CV] ................................ gamma=0.01, C=100, total=   0.0s\n",
      "[CV] gamma=0.01, C=100 ...............................................\n",
      "[CV] ................................ gamma=0.01, C=100, total=   0.0s\n",
      "[CV] gamma=0.01, C=100 ...............................................\n",
      "[CV] ................................ gamma=0.01, C=100, total=   0.0s\n",
      "[CV] gamma=0.1, C=100 ................................................\n",
      "[CV] ................................. gamma=0.1, C=100, total=   0.0s\n",
      "[CV] gamma=0.1, C=100 ................................................\n",
      "[CV] ................................. gamma=0.1, C=100, total=   0.0s\n",
      "[CV] gamma=0.1, C=100 ................................................\n",
      "[CV] ................................. gamma=0.1, C=100, total=   0.0s\n",
      "[CV] gamma=0.1, C=100 ................................................\n"
     ]
    },
    {
     "name": "stdout",
     "output_type": "stream",
     "text": [
      "[CV] ................................. gamma=0.1, C=100, total=   0.0s\n",
      "[CV] gamma=0.1, C=100 ................................................\n",
      "[CV] ................................. gamma=0.1, C=100, total=   0.0s\n",
      "[CV] gamma=0.001, C=100 ..............................................\n",
      "[CV] ............................... gamma=0.001, C=100, total=   0.0s\n",
      "[CV] gamma=0.001, C=100 ..............................................\n",
      "[CV] ............................... gamma=0.001, C=100, total=   0.0s\n",
      "[CV] gamma=0.001, C=100 ..............................................\n",
      "[CV] ............................... gamma=0.001, C=100, total=   0.0s\n",
      "[CV] gamma=0.001, C=100 ..............................................\n",
      "[CV] ............................... gamma=0.001, C=100, total=   0.0s\n",
      "[CV] gamma=0.001, C=100 ..............................................\n",
      "[CV] ............................... gamma=0.001, C=100, total=   0.0s\n",
      "[CV] gamma=0.0001, C=100 .............................................\n",
      "[CV] .............................. gamma=0.0001, C=100, total=   0.0s\n",
      "[CV] gamma=0.0001, C=100 .............................................\n",
      "[CV] .............................. gamma=0.0001, C=100, total=   0.0s\n",
      "[CV] gamma=0.0001, C=100 .............................................\n",
      "[CV] .............................. gamma=0.0001, C=100, total=   0.0s\n",
      "[CV] gamma=0.0001, C=100 .............................................\n",
      "[CV] .............................. gamma=0.0001, C=100, total=   0.0s\n",
      "[CV] gamma=0.0001, C=100 .............................................\n",
      "[CV] .............................. gamma=0.0001, C=100, total=   0.0s\n"
     ]
    },
    {
     "name": "stderr",
     "output_type": "stream",
     "text": [
      "[Parallel(n_jobs=1)]: Done 100 out of 100 | elapsed:    1.0s finished\n"
     ]
    },
    {
     "data": {
      "text/plain": [
       "RandomizedSearchCV(cv=5, estimator=SVC(), n_iter=20,\n",
       "                   param_distributions={'C': [0.1, 1, 10, 100, 100],\n",
       "                                        'gamma': [1, 0.1, 0.01, 0.001, 0.0001]},\n",
       "                   verbose=2)"
      ]
     },
     "execution_count": 181,
     "metadata": {},
     "output_type": "execute_result"
    }
   ],
   "source": [
    "#setup random seed \n",
    "np.random.seed(42)\n",
    "# RandomSearch with 20 iterations and 5 way cross-validation\n",
    "svc_ran = RandomizedSearchCV(SVC(),\n",
    "                             param_distributions=svc_grid,\n",
    "                            cv=5,n_iter=20,verbose=2)\n",
    "# fit to data\n",
    "svc_ran.fit(X_train,y_train)"
   ]
  },
  {
   "cell_type": "code",
   "execution_count": 182,
   "metadata": {},
   "outputs": [
    {
     "data": {
      "text/plain": [
       "SVC(C=100, gamma=0.0001)"
      ]
     },
     "execution_count": 182,
     "metadata": {},
     "output_type": "execute_result"
    }
   ],
   "source": [
    "# best params \n",
    "svc_ran.best_estimator_"
   ]
  },
  {
   "cell_type": "code",
   "execution_count": 185,
   "metadata": {},
   "outputs": [
    {
     "data": {
      "text/plain": [
       "0.8360655737704918"
      ]
     },
     "execution_count": 185,
     "metadata": {},
     "output_type": "execute_result"
    }
   ],
   "source": [
    "svc_ran.score(X_test,y_test)\n"
   ]
  },
  {
   "cell_type": "markdown",
   "metadata": {},
   "source": [
    "Big improvement from before "
   ]
  },
  {
   "cell_type": "markdown",
   "metadata": {},
   "source": [
    "#### DO GridCVSearchs looking at smaller range of values obtained from randomSearch to exhaustively search"
   ]
  },
  {
   "cell_type": "code",
   "execution_count": 186,
   "metadata": {},
   "outputs": [],
   "source": [
    "# setup grids\n",
    "log_param_grid = {\"C\": np.logspace(-4, 4, 20),\n",
    "                \"solver\": [\"liblinear\"]}\n",
    "rf_param_grid = {\"n_estimators\": np.arange(100, 500, 50),\n",
    "           \"max_depth\": [None, 3],\n",
    "           \"min_samples_split\": np.arange(2, 8, 2),\n",
    "           \"min_samples_leaf\": np.arange(17, 20, 2)}\n",
    "svc_param_grid = svc_grid= {\"C\":[.1,1,10,100,100],\n",
    "                            \"gamma\":[1,.1,.01,.001,.0001]}"
   ]
  },
  {
   "cell_type": "markdown",
   "metadata": {},
   "source": [
    "##### logistic regression"
   ]
  },
  {
   "cell_type": "code",
   "execution_count": 187,
   "metadata": {},
   "outputs": [
    {
     "name": "stdout",
     "output_type": "stream",
     "text": [
      "Fitting 5 folds for each of 20 candidates, totalling 100 fits\n",
      "[CV] C=0.0001, solver=liblinear ......................................\n",
      "[CV] ....................... C=0.0001, solver=liblinear, total=   0.0s\n",
      "[CV] C=0.0001, solver=liblinear ......................................\n",
      "[CV] ....................... C=0.0001, solver=liblinear, total=   0.0s\n",
      "[CV] C=0.0001, solver=liblinear ......................................\n",
      "[CV] ....................... C=0.0001, solver=liblinear, total=   0.0s\n",
      "[CV] C=0.0001, solver=liblinear ......................................\n",
      "[CV] ....................... C=0.0001, solver=liblinear, total=   0.0s\n",
      "[CV] C=0.0001, solver=liblinear ......................................\n",
      "[CV] ....................... C=0.0001, solver=liblinear, total=   0.0s\n",
      "[CV] C=0.00026366508987303583, solver=liblinear ......................\n",
      "[CV] ....... C=0.00026366508987303583, solver=liblinear, total=   0.0s\n",
      "[CV] C=0.00026366508987303583, solver=liblinear ......................\n",
      "[CV] ....... C=0.00026366508987303583, solver=liblinear, total=   0.0s\n",
      "[CV] C=0.00026366508987303583, solver=liblinear ......................\n",
      "[CV] ....... C=0.00026366508987303583, solver=liblinear, total=   0.0s\n",
      "[CV] C=0.00026366508987303583, solver=liblinear ......................\n",
      "[CV] ....... C=0.00026366508987303583, solver=liblinear, total=   0.0s\n",
      "[CV] C=0.00026366508987303583, solver=liblinear ......................\n",
      "[CV] ....... C=0.00026366508987303583, solver=liblinear, total=   0.0s\n",
      "[CV] C=0.0006951927961775605, solver=liblinear .......................\n",
      "[CV] ........ C=0.0006951927961775605, solver=liblinear, total=   0.0s\n",
      "[CV] C=0.0006951927961775605, solver=liblinear .......................\n",
      "[CV] ........ C=0.0006951927961775605, solver=liblinear, total=   0.0s\n",
      "[CV] C=0.0006951927961775605, solver=liblinear .......................\n",
      "[CV] ........ C=0.0006951927961775605, solver=liblinear, total=   0.0s\n",
      "[CV] C=0.0006951927961775605, solver=liblinear .......................\n",
      "[CV] ........ C=0.0006951927961775605, solver=liblinear, total=   0.0s\n",
      "[CV] C=0.0006951927961775605, solver=liblinear .......................\n",
      "[CV] ........ C=0.0006951927961775605, solver=liblinear, total=   0.0s\n",
      "[CV] C=0.0018329807108324356, solver=liblinear .......................\n",
      "[CV] ........ C=0.0018329807108324356, solver=liblinear, total=   0.0s\n",
      "[CV] C=0.0018329807108324356, solver=liblinear .......................\n",
      "[CV] ........ C=0.0018329807108324356, solver=liblinear, total=   0.0s\n",
      "[CV] C=0.0018329807108324356, solver=liblinear .......................\n",
      "[CV] ........ C=0.0018329807108324356, solver=liblinear, total=   0.0s\n",
      "[CV] C=0.0018329807108324356, solver=liblinear .......................\n",
      "[CV] ........ C=0.0018329807108324356, solver=liblinear, total=   0.0s\n",
      "[CV] C=0.0018329807108324356, solver=liblinear .......................\n",
      "[CV] ........ C=0.0018329807108324356, solver=liblinear, total=   0.0s\n",
      "[CV] C=0.004832930238571752, solver=liblinear ........................\n",
      "[CV] ......... C=0.004832930238571752, solver=liblinear, total=   0.0s\n",
      "[CV] C=0.004832930238571752, solver=liblinear ........................\n",
      "[CV] ......... C=0.004832930238571752, solver=liblinear, total=   0.0s\n",
      "[CV] C=0.004832930238571752, solver=liblinear ........................\n",
      "[CV] ......... C=0.004832930238571752, solver=liblinear, total=   0.0s\n",
      "[CV] C=0.004832930238571752, solver=liblinear ........................\n"
     ]
    },
    {
     "name": "stderr",
     "output_type": "stream",
     "text": [
      "[Parallel(n_jobs=1)]: Using backend SequentialBackend with 1 concurrent workers.\n",
      "[Parallel(n_jobs=1)]: Done   1 out of   1 | elapsed:    0.0s remaining:    0.0s\n"
     ]
    },
    {
     "name": "stdout",
     "output_type": "stream",
     "text": [
      "[CV] ......... C=0.004832930238571752, solver=liblinear, total=   0.0s\n",
      "[CV] C=0.004832930238571752, solver=liblinear ........................\n",
      "[CV] ......... C=0.004832930238571752, solver=liblinear, total=   0.0s\n",
      "[CV] C=0.012742749857031334, solver=liblinear ........................\n",
      "[CV] ......... C=0.012742749857031334, solver=liblinear, total=   0.0s\n",
      "[CV] C=0.012742749857031334, solver=liblinear ........................\n",
      "[CV] ......... C=0.012742749857031334, solver=liblinear, total=   0.0s\n",
      "[CV] C=0.012742749857031334, solver=liblinear ........................\n",
      "[CV] ......... C=0.012742749857031334, solver=liblinear, total=   0.0s\n",
      "[CV] C=0.012742749857031334, solver=liblinear ........................\n",
      "[CV] ......... C=0.012742749857031334, solver=liblinear, total=   0.0s\n",
      "[CV] C=0.012742749857031334, solver=liblinear ........................\n",
      "[CV] ......... C=0.012742749857031334, solver=liblinear, total=   0.0s\n",
      "[CV] C=0.03359818286283781, solver=liblinear .........................\n",
      "[CV] .......... C=0.03359818286283781, solver=liblinear, total=   0.0s\n",
      "[CV] C=0.03359818286283781, solver=liblinear .........................\n",
      "[CV] .......... C=0.03359818286283781, solver=liblinear, total=   0.0s\n",
      "[CV] C=0.03359818286283781, solver=liblinear .........................\n",
      "[CV] .......... C=0.03359818286283781, solver=liblinear, total=   0.0s\n",
      "[CV] C=0.03359818286283781, solver=liblinear .........................\n",
      "[CV] .......... C=0.03359818286283781, solver=liblinear, total=   0.0s\n",
      "[CV] C=0.03359818286283781, solver=liblinear .........................\n",
      "[CV] .......... C=0.03359818286283781, solver=liblinear, total=   0.0s\n",
      "[CV] C=0.08858667904100823, solver=liblinear .........................\n",
      "[CV] .......... C=0.08858667904100823, solver=liblinear, total=   0.0s\n",
      "[CV] C=0.08858667904100823, solver=liblinear .........................\n",
      "[CV] .......... C=0.08858667904100823, solver=liblinear, total=   0.0s\n",
      "[CV] C=0.08858667904100823, solver=liblinear .........................\n",
      "[CV] .......... C=0.08858667904100823, solver=liblinear, total=   0.0s\n",
      "[CV] C=0.08858667904100823, solver=liblinear .........................\n",
      "[CV] .......... C=0.08858667904100823, solver=liblinear, total=   0.0s\n",
      "[CV] C=0.08858667904100823, solver=liblinear .........................\n",
      "[CV] .......... C=0.08858667904100823, solver=liblinear, total=   0.0s\n",
      "[CV] C=0.23357214690901212, solver=liblinear .........................\n",
      "[CV] .......... C=0.23357214690901212, solver=liblinear, total=   0.0s\n",
      "[CV] C=0.23357214690901212, solver=liblinear .........................\n",
      "[CV] .......... C=0.23357214690901212, solver=liblinear, total=   0.0s\n",
      "[CV] C=0.23357214690901212, solver=liblinear .........................\n",
      "[CV] .......... C=0.23357214690901212, solver=liblinear, total=   0.0s\n",
      "[CV] C=0.23357214690901212, solver=liblinear .........................\n",
      "[CV] .......... C=0.23357214690901212, solver=liblinear, total=   0.0s\n",
      "[CV] C=0.23357214690901212, solver=liblinear .........................\n",
      "[CV] .......... C=0.23357214690901212, solver=liblinear, total=   0.0s\n",
      "[CV] C=0.615848211066026, solver=liblinear ...........................\n",
      "[CV] ............ C=0.615848211066026, solver=liblinear, total=   0.0s\n",
      "[CV] C=0.615848211066026, solver=liblinear ...........................\n",
      "[CV] ............ C=0.615848211066026, solver=liblinear, total=   0.0s\n",
      "[CV] C=0.615848211066026, solver=liblinear ...........................\n",
      "[CV] ............ C=0.615848211066026, solver=liblinear, total=   0.0s\n",
      "[CV] C=0.615848211066026, solver=liblinear ...........................\n",
      "[CV] ............ C=0.615848211066026, solver=liblinear, total=   0.0s\n",
      "[CV] C=0.615848211066026, solver=liblinear ...........................\n",
      "[CV] ............ C=0.615848211066026, solver=liblinear, total=   0.0s\n",
      "[CV] C=1.623776739188721, solver=liblinear ...........................\n",
      "[CV] ............ C=1.623776739188721, solver=liblinear, total=   0.0s\n",
      "[CV] C=1.623776739188721, solver=liblinear ...........................\n",
      "[CV] ............ C=1.623776739188721, solver=liblinear, total=   0.0s\n",
      "[CV] C=1.623776739188721, solver=liblinear ...........................\n",
      "[CV] ............ C=1.623776739188721, solver=liblinear, total=   0.0s\n",
      "[CV] C=1.623776739188721, solver=liblinear ...........................\n",
      "[CV] ............ C=1.623776739188721, solver=liblinear, total=   0.0s\n",
      "[CV] C=1.623776739188721, solver=liblinear ...........................\n",
      "[CV] ............ C=1.623776739188721, solver=liblinear, total=   0.0s\n",
      "[CV] C=4.281332398719396, solver=liblinear ...........................\n",
      "[CV] ............ C=4.281332398719396, solver=liblinear, total=   0.0s\n",
      "[CV] C=4.281332398719396, solver=liblinear ...........................\n",
      "[CV] ............ C=4.281332398719396, solver=liblinear, total=   0.0s\n",
      "[CV] C=4.281332398719396, solver=liblinear ...........................\n",
      "[CV] ............ C=4.281332398719396, solver=liblinear, total=   0.0s\n",
      "[CV] C=4.281332398719396, solver=liblinear ...........................\n",
      "[CV] ............ C=4.281332398719396, solver=liblinear, total=   0.0s\n",
      "[CV] C=4.281332398719396, solver=liblinear ...........................\n",
      "[CV] ............ C=4.281332398719396, solver=liblinear, total=   0.0s\n",
      "[CV] C=11.288378916846883, solver=liblinear ..........................\n",
      "[CV] ........... C=11.288378916846883, solver=liblinear, total=   0.0s\n",
      "[CV] C=11.288378916846883, solver=liblinear ..........................\n",
      "[CV] ........... C=11.288378916846883, solver=liblinear, total=   0.0s\n",
      "[CV] C=11.288378916846883, solver=liblinear ..........................\n",
      "[CV] ........... C=11.288378916846883, solver=liblinear, total=   0.0s\n",
      "[CV] C=11.288378916846883, solver=liblinear ..........................\n",
      "[CV] ........... C=11.288378916846883, solver=liblinear, total=   0.0s\n",
      "[CV] C=11.288378916846883, solver=liblinear ..........................\n",
      "[CV] ........... C=11.288378916846883, solver=liblinear, total=   0.0s\n",
      "[CV] C=29.763514416313132, solver=liblinear ..........................\n",
      "[CV] ........... C=29.763514416313132, solver=liblinear, total=   0.0s\n",
      "[CV] C=29.763514416313132, solver=liblinear ..........................\n",
      "[CV] ........... C=29.763514416313132, solver=liblinear, total=   0.0s\n",
      "[CV] C=29.763514416313132, solver=liblinear ..........................\n",
      "[CV] ........... C=29.763514416313132, solver=liblinear, total=   0.0s\n",
      "[CV] C=29.763514416313132, solver=liblinear ..........................\n",
      "[CV] ........... C=29.763514416313132, solver=liblinear, total=   0.0s\n",
      "[CV] C=29.763514416313132, solver=liblinear ..........................\n",
      "[CV] ........... C=29.763514416313132, solver=liblinear, total=   0.0s\n",
      "[CV] C=78.47599703514607, solver=liblinear ...........................\n",
      "[CV] ............ C=78.47599703514607, solver=liblinear, total=   0.0s\n",
      "[CV] C=78.47599703514607, solver=liblinear ...........................\n",
      "[CV] ............ C=78.47599703514607, solver=liblinear, total=   0.0s\n",
      "[CV] C=78.47599703514607, solver=liblinear ...........................\n",
      "[CV] ............ C=78.47599703514607, solver=liblinear, total=   0.0s\n",
      "[CV] C=78.47599703514607, solver=liblinear ...........................\n",
      "[CV] ............ C=78.47599703514607, solver=liblinear, total=   0.0s\n",
      "[CV] C=78.47599703514607, solver=liblinear ...........................\n",
      "[CV] ............ C=78.47599703514607, solver=liblinear, total=   0.0s\n",
      "[CV] C=206.913808111479, solver=liblinear ............................\n",
      "[CV] ............. C=206.913808111479, solver=liblinear, total=   0.0s\n",
      "[CV] C=206.913808111479, solver=liblinear ............................\n",
      "[CV] ............. C=206.913808111479, solver=liblinear, total=   0.0s\n",
      "[CV] C=206.913808111479, solver=liblinear ............................\n",
      "[CV] ............. C=206.913808111479, solver=liblinear, total=   0.0s\n",
      "[CV] C=206.913808111479, solver=liblinear ............................\n",
      "[CV] ............. C=206.913808111479, solver=liblinear, total=   0.0s\n",
      "[CV] C=206.913808111479, solver=liblinear ............................\n",
      "[CV] ............. C=206.913808111479, solver=liblinear, total=   0.0s\n",
      "[CV] C=545.5594781168514, solver=liblinear ...........................\n",
      "[CV] ............ C=545.5594781168514, solver=liblinear, total=   0.0s\n",
      "[CV] C=545.5594781168514, solver=liblinear ...........................\n",
      "[CV] ............ C=545.5594781168514, solver=liblinear, total=   0.0s\n",
      "[CV] C=545.5594781168514, solver=liblinear ...........................\n",
      "[CV] ............ C=545.5594781168514, solver=liblinear, total=   0.0s\n",
      "[CV] C=545.5594781168514, solver=liblinear ...........................\n",
      "[CV] ............ C=545.5594781168514, solver=liblinear, total=   0.0s\n",
      "[CV] C=545.5594781168514, solver=liblinear ...........................\n",
      "[CV] ............ C=545.5594781168514, solver=liblinear, total=   0.0s\n",
      "[CV] C=1438.44988828766, solver=liblinear ............................\n",
      "[CV] ............. C=1438.44988828766, solver=liblinear, total=   0.0s\n",
      "[CV] C=1438.44988828766, solver=liblinear ............................\n",
      "[CV] ............. C=1438.44988828766, solver=liblinear, total=   0.0s\n",
      "[CV] C=1438.44988828766, solver=liblinear ............................\n",
      "[CV] ............. C=1438.44988828766, solver=liblinear, total=   0.0s\n",
      "[CV] C=1438.44988828766, solver=liblinear ............................\n",
      "[CV] ............. C=1438.44988828766, solver=liblinear, total=   0.0s\n",
      "[CV] C=1438.44988828766, solver=liblinear ............................\n",
      "[CV] ............. C=1438.44988828766, solver=liblinear, total=   0.0s\n",
      "[CV] C=3792.690190732246, solver=liblinear ...........................\n",
      "[CV] ............ C=3792.690190732246, solver=liblinear, total=   0.0s\n",
      "[CV] C=3792.690190732246, solver=liblinear ...........................\n",
      "[CV] ............ C=3792.690190732246, solver=liblinear, total=   0.0s\n",
      "[CV] C=3792.690190732246, solver=liblinear ...........................\n",
      "[CV] ............ C=3792.690190732246, solver=liblinear, total=   0.0s\n",
      "[CV] C=3792.690190732246, solver=liblinear ...........................\n",
      "[CV] ............ C=3792.690190732246, solver=liblinear, total=   0.0s\n",
      "[CV] C=3792.690190732246, solver=liblinear ...........................\n",
      "[CV] ............ C=3792.690190732246, solver=liblinear, total=   0.0s\n",
      "[CV] C=10000.0, solver=liblinear .....................................\n",
      "[CV] ...................... C=10000.0, solver=liblinear, total=   0.0s\n",
      "[CV] C=10000.0, solver=liblinear .....................................\n",
      "[CV] ...................... C=10000.0, solver=liblinear, total=   0.0s\n",
      "[CV] C=10000.0, solver=liblinear .....................................\n"
     ]
    },
    {
     "name": "stdout",
     "output_type": "stream",
     "text": [
      "[CV] ...................... C=10000.0, solver=liblinear, total=   0.0s\n",
      "[CV] C=10000.0, solver=liblinear .....................................\n",
      "[CV] ...................... C=10000.0, solver=liblinear, total=   0.0s\n",
      "[CV] C=10000.0, solver=liblinear .....................................\n",
      "[CV] ...................... C=10000.0, solver=liblinear, total=   0.0s\n"
     ]
    },
    {
     "name": "stderr",
     "output_type": "stream",
     "text": [
      "[Parallel(n_jobs=1)]: Done 100 out of 100 | elapsed:    0.8s finished\n"
     ]
    },
    {
     "data": {
      "text/plain": [
       "GridSearchCV(estimator=LogisticRegression(),\n",
       "             param_grid={'C': array([1.00000000e-04, 2.63665090e-04, 6.95192796e-04, 1.83298071e-03,\n",
       "       4.83293024e-03, 1.27427499e-02, 3.35981829e-02, 8.85866790e-02,\n",
       "       2.33572147e-01, 6.15848211e-01, 1.62377674e+00, 4.28133240e+00,\n",
       "       1.12883789e+01, 2.97635144e+01, 7.84759970e+01, 2.06913808e+02,\n",
       "       5.45559478e+02, 1.43844989e+03, 3.79269019e+03, 1.00000000e+04]),\n",
       "                         'solver': ['liblinear']},\n",
       "             verbose=2)"
      ]
     },
     "execution_count": 187,
     "metadata": {},
     "output_type": "execute_result"
    }
   ],
   "source": [
    "#Grid search \n",
    "# default cv =5\n",
    "log_grid = GridSearchCV(LogisticRegression(),log_param_grid,verbose=2)\n",
    "#train data \n",
    "log_grid.fit(X_train,y_train)"
   ]
  },
  {
   "cell_type": "code",
   "execution_count": 189,
   "metadata": {},
   "outputs": [
    {
     "data": {
      "text/plain": [
       "{'C': 0.23357214690901212, 'solver': 'liblinear'}"
      ]
     },
     "execution_count": 189,
     "metadata": {},
     "output_type": "execute_result"
    }
   ],
   "source": [
    "# best param same as before \n",
    "log_grid.best_params_"
   ]
  },
  {
   "cell_type": "code",
   "execution_count": 190,
   "metadata": {},
   "outputs": [
    {
     "data": {
      "text/plain": [
       "0.8852459016393442"
      ]
     },
     "execution_count": 190,
     "metadata": {},
     "output_type": "execute_result"
    }
   ],
   "source": [
    "# score\n",
    "log_grid.score(X_test,y_test)"
   ]
  },
  {
   "cell_type": "markdown",
   "metadata": {},
   "source": [
    "Same as before not much change"
   ]
  },
  {
   "cell_type": "markdown",
   "metadata": {},
   "source": [
    "#### Random forrest "
   ]
  },
  {
   "cell_type": "code",
   "execution_count": 191,
   "metadata": {},
   "outputs": [
    {
     "name": "stdout",
     "output_type": "stream",
     "text": [
      "Fitting 5 folds for each of 96 candidates, totalling 480 fits\n",
      "[CV] max_depth=None, min_samples_leaf=17, min_samples_split=2, n_estimators=100 \n",
      "[CV]  max_depth=None, min_samples_leaf=17, min_samples_split=2, n_estimators=100, total=   0.2s\n",
      "[CV] max_depth=None, min_samples_leaf=17, min_samples_split=2, n_estimators=100 \n"
     ]
    },
    {
     "name": "stderr",
     "output_type": "stream",
     "text": [
      "[Parallel(n_jobs=1)]: Using backend SequentialBackend with 1 concurrent workers.\n",
      "[Parallel(n_jobs=1)]: Done   1 out of   1 | elapsed:    0.2s remaining:    0.0s\n"
     ]
    },
    {
     "name": "stdout",
     "output_type": "stream",
     "text": [
      "[CV]  max_depth=None, min_samples_leaf=17, min_samples_split=2, n_estimators=100, total=   0.2s\n",
      "[CV] max_depth=None, min_samples_leaf=17, min_samples_split=2, n_estimators=100 \n",
      "[CV]  max_depth=None, min_samples_leaf=17, min_samples_split=2, n_estimators=100, total=   0.2s\n",
      "[CV] max_depth=None, min_samples_leaf=17, min_samples_split=2, n_estimators=100 \n",
      "[CV]  max_depth=None, min_samples_leaf=17, min_samples_split=2, n_estimators=100, total=   0.2s\n",
      "[CV] max_depth=None, min_samples_leaf=17, min_samples_split=2, n_estimators=100 \n",
      "[CV]  max_depth=None, min_samples_leaf=17, min_samples_split=2, n_estimators=100, total=   0.2s\n",
      "[CV] max_depth=None, min_samples_leaf=17, min_samples_split=2, n_estimators=150 \n",
      "[CV]  max_depth=None, min_samples_leaf=17, min_samples_split=2, n_estimators=150, total=   0.4s\n",
      "[CV] max_depth=None, min_samples_leaf=17, min_samples_split=2, n_estimators=150 \n",
      "[CV]  max_depth=None, min_samples_leaf=17, min_samples_split=2, n_estimators=150, total=   0.2s\n",
      "[CV] max_depth=None, min_samples_leaf=17, min_samples_split=2, n_estimators=150 \n",
      "[CV]  max_depth=None, min_samples_leaf=17, min_samples_split=2, n_estimators=150, total=   0.2s\n",
      "[CV] max_depth=None, min_samples_leaf=17, min_samples_split=2, n_estimators=150 \n",
      "[CV]  max_depth=None, min_samples_leaf=17, min_samples_split=2, n_estimators=150, total=   0.3s\n",
      "[CV] max_depth=None, min_samples_leaf=17, min_samples_split=2, n_estimators=150 \n",
      "[CV]  max_depth=None, min_samples_leaf=17, min_samples_split=2, n_estimators=150, total=   0.2s\n",
      "[CV] max_depth=None, min_samples_leaf=17, min_samples_split=2, n_estimators=200 \n",
      "[CV]  max_depth=None, min_samples_leaf=17, min_samples_split=2, n_estimators=200, total=   0.3s\n",
      "[CV] max_depth=None, min_samples_leaf=17, min_samples_split=2, n_estimators=200 \n",
      "[CV]  max_depth=None, min_samples_leaf=17, min_samples_split=2, n_estimators=200, total=   0.3s\n",
      "[CV] max_depth=None, min_samples_leaf=17, min_samples_split=2, n_estimators=200 \n",
      "[CV]  max_depth=None, min_samples_leaf=17, min_samples_split=2, n_estimators=200, total=   0.3s\n",
      "[CV] max_depth=None, min_samples_leaf=17, min_samples_split=2, n_estimators=200 \n",
      "[CV]  max_depth=None, min_samples_leaf=17, min_samples_split=2, n_estimators=200, total=   0.3s\n",
      "[CV] max_depth=None, min_samples_leaf=17, min_samples_split=2, n_estimators=200 \n",
      "[CV]  max_depth=None, min_samples_leaf=17, min_samples_split=2, n_estimators=200, total=   0.3s\n",
      "[CV] max_depth=None, min_samples_leaf=17, min_samples_split=2, n_estimators=250 \n",
      "[CV]  max_depth=None, min_samples_leaf=17, min_samples_split=2, n_estimators=250, total=   0.4s\n",
      "[CV] max_depth=None, min_samples_leaf=17, min_samples_split=2, n_estimators=250 \n",
      "[CV]  max_depth=None, min_samples_leaf=17, min_samples_split=2, n_estimators=250, total=   0.4s\n",
      "[CV] max_depth=None, min_samples_leaf=17, min_samples_split=2, n_estimators=250 \n",
      "[CV]  max_depth=None, min_samples_leaf=17, min_samples_split=2, n_estimators=250, total=   0.4s\n",
      "[CV] max_depth=None, min_samples_leaf=17, min_samples_split=2, n_estimators=250 \n",
      "[CV]  max_depth=None, min_samples_leaf=17, min_samples_split=2, n_estimators=250, total=   0.4s\n",
      "[CV] max_depth=None, min_samples_leaf=17, min_samples_split=2, n_estimators=250 \n",
      "[CV]  max_depth=None, min_samples_leaf=17, min_samples_split=2, n_estimators=250, total=   0.4s\n",
      "[CV] max_depth=None, min_samples_leaf=17, min_samples_split=2, n_estimators=300 \n",
      "[CV]  max_depth=None, min_samples_leaf=17, min_samples_split=2, n_estimators=300, total=   0.4s\n",
      "[CV] max_depth=None, min_samples_leaf=17, min_samples_split=2, n_estimators=300 \n",
      "[CV]  max_depth=None, min_samples_leaf=17, min_samples_split=2, n_estimators=300, total=   0.6s\n",
      "[CV] max_depth=None, min_samples_leaf=17, min_samples_split=2, n_estimators=300 \n",
      "[CV]  max_depth=None, min_samples_leaf=17, min_samples_split=2, n_estimators=300, total=   0.4s\n",
      "[CV] max_depth=None, min_samples_leaf=17, min_samples_split=2, n_estimators=300 \n",
      "[CV]  max_depth=None, min_samples_leaf=17, min_samples_split=2, n_estimators=300, total=   0.6s\n",
      "[CV] max_depth=None, min_samples_leaf=17, min_samples_split=2, n_estimators=300 \n",
      "[CV]  max_depth=None, min_samples_leaf=17, min_samples_split=2, n_estimators=300, total=   0.6s\n",
      "[CV] max_depth=None, min_samples_leaf=17, min_samples_split=2, n_estimators=350 \n",
      "[CV]  max_depth=None, min_samples_leaf=17, min_samples_split=2, n_estimators=350, total=   0.8s\n",
      "[CV] max_depth=None, min_samples_leaf=17, min_samples_split=2, n_estimators=350 \n",
      "[CV]  max_depth=None, min_samples_leaf=17, min_samples_split=2, n_estimators=350, total=   0.6s\n",
      "[CV] max_depth=None, min_samples_leaf=17, min_samples_split=2, n_estimators=350 \n",
      "[CV]  max_depth=None, min_samples_leaf=17, min_samples_split=2, n_estimators=350, total=   0.6s\n",
      "[CV] max_depth=None, min_samples_leaf=17, min_samples_split=2, n_estimators=350 \n",
      "[CV]  max_depth=None, min_samples_leaf=17, min_samples_split=2, n_estimators=350, total=   0.6s\n",
      "[CV] max_depth=None, min_samples_leaf=17, min_samples_split=2, n_estimators=350 \n",
      "[CV]  max_depth=None, min_samples_leaf=17, min_samples_split=2, n_estimators=350, total=   0.5s\n",
      "[CV] max_depth=None, min_samples_leaf=17, min_samples_split=2, n_estimators=400 \n",
      "[CV]  max_depth=None, min_samples_leaf=17, min_samples_split=2, n_estimators=400, total=   0.6s\n",
      "[CV] max_depth=None, min_samples_leaf=17, min_samples_split=2, n_estimators=400 \n",
      "[CV]  max_depth=None, min_samples_leaf=17, min_samples_split=2, n_estimators=400, total=   0.7s\n",
      "[CV] max_depth=None, min_samples_leaf=17, min_samples_split=2, n_estimators=400 \n",
      "[CV]  max_depth=None, min_samples_leaf=17, min_samples_split=2, n_estimators=400, total=   0.6s\n",
      "[CV] max_depth=None, min_samples_leaf=17, min_samples_split=2, n_estimators=400 \n",
      "[CV]  max_depth=None, min_samples_leaf=17, min_samples_split=2, n_estimators=400, total=   0.6s\n",
      "[CV] max_depth=None, min_samples_leaf=17, min_samples_split=2, n_estimators=400 \n",
      "[CV]  max_depth=None, min_samples_leaf=17, min_samples_split=2, n_estimators=400, total=   0.6s\n",
      "[CV] max_depth=None, min_samples_leaf=17, min_samples_split=2, n_estimators=450 \n",
      "[CV]  max_depth=None, min_samples_leaf=17, min_samples_split=2, n_estimators=450, total=   0.7s\n",
      "[CV] max_depth=None, min_samples_leaf=17, min_samples_split=2, n_estimators=450 \n",
      "[CV]  max_depth=None, min_samples_leaf=17, min_samples_split=2, n_estimators=450, total=   0.6s\n",
      "[CV] max_depth=None, min_samples_leaf=17, min_samples_split=2, n_estimators=450 \n",
      "[CV]  max_depth=None, min_samples_leaf=17, min_samples_split=2, n_estimators=450, total=   0.7s\n",
      "[CV] max_depth=None, min_samples_leaf=17, min_samples_split=2, n_estimators=450 \n",
      "[CV]  max_depth=None, min_samples_leaf=17, min_samples_split=2, n_estimators=450, total=   0.6s\n",
      "[CV] max_depth=None, min_samples_leaf=17, min_samples_split=2, n_estimators=450 \n",
      "[CV]  max_depth=None, min_samples_leaf=17, min_samples_split=2, n_estimators=450, total=   0.6s\n",
      "[CV] max_depth=None, min_samples_leaf=17, min_samples_split=4, n_estimators=100 \n",
      "[CV]  max_depth=None, min_samples_leaf=17, min_samples_split=4, n_estimators=100, total=   0.1s\n",
      "[CV] max_depth=None, min_samples_leaf=17, min_samples_split=4, n_estimators=100 \n",
      "[CV]  max_depth=None, min_samples_leaf=17, min_samples_split=4, n_estimators=100, total=   0.2s\n",
      "[CV] max_depth=None, min_samples_leaf=17, min_samples_split=4, n_estimators=100 \n",
      "[CV]  max_depth=None, min_samples_leaf=17, min_samples_split=4, n_estimators=100, total=   0.2s\n",
      "[CV] max_depth=None, min_samples_leaf=17, min_samples_split=4, n_estimators=100 \n",
      "[CV]  max_depth=None, min_samples_leaf=17, min_samples_split=4, n_estimators=100, total=   0.2s\n",
      "[CV] max_depth=None, min_samples_leaf=17, min_samples_split=4, n_estimators=100 \n",
      "[CV]  max_depth=None, min_samples_leaf=17, min_samples_split=4, n_estimators=100, total=   0.1s\n",
      "[CV] max_depth=None, min_samples_leaf=17, min_samples_split=4, n_estimators=150 \n",
      "[CV]  max_depth=None, min_samples_leaf=17, min_samples_split=4, n_estimators=150, total=   0.2s\n",
      "[CV] max_depth=None, min_samples_leaf=17, min_samples_split=4, n_estimators=150 \n",
      "[CV]  max_depth=None, min_samples_leaf=17, min_samples_split=4, n_estimators=150, total=   0.2s\n",
      "[CV] max_depth=None, min_samples_leaf=17, min_samples_split=4, n_estimators=150 \n",
      "[CV]  max_depth=None, min_samples_leaf=17, min_samples_split=4, n_estimators=150, total=   0.3s\n",
      "[CV] max_depth=None, min_samples_leaf=17, min_samples_split=4, n_estimators=150 \n"
     ]
    },
    {
     "name": "stdout",
     "output_type": "stream",
     "text": [
      "[CV]  max_depth=None, min_samples_leaf=17, min_samples_split=4, n_estimators=150, total=   0.2s\n",
      "[CV] max_depth=None, min_samples_leaf=17, min_samples_split=4, n_estimators=150 \n",
      "[CV]  max_depth=None, min_samples_leaf=17, min_samples_split=4, n_estimators=150, total=   0.3s\n",
      "[CV] max_depth=None, min_samples_leaf=17, min_samples_split=4, n_estimators=200 \n",
      "[CV]  max_depth=None, min_samples_leaf=17, min_samples_split=4, n_estimators=200, total=   0.4s\n",
      "[CV] max_depth=None, min_samples_leaf=17, min_samples_split=4, n_estimators=200 \n",
      "[CV]  max_depth=None, min_samples_leaf=17, min_samples_split=4, n_estimators=200, total=   0.4s\n",
      "[CV] max_depth=None, min_samples_leaf=17, min_samples_split=4, n_estimators=200 \n",
      "[CV]  max_depth=None, min_samples_leaf=17, min_samples_split=4, n_estimators=200, total=   0.3s\n",
      "[CV] max_depth=None, min_samples_leaf=17, min_samples_split=4, n_estimators=200 \n",
      "[CV]  max_depth=None, min_samples_leaf=17, min_samples_split=4, n_estimators=200, total=   0.4s\n",
      "[CV] max_depth=None, min_samples_leaf=17, min_samples_split=4, n_estimators=200 \n",
      "[CV]  max_depth=None, min_samples_leaf=17, min_samples_split=4, n_estimators=200, total=   0.3s\n",
      "[CV] max_depth=None, min_samples_leaf=17, min_samples_split=4, n_estimators=250 \n",
      "[CV]  max_depth=None, min_samples_leaf=17, min_samples_split=4, n_estimators=250, total=   0.4s\n",
      "[CV] max_depth=None, min_samples_leaf=17, min_samples_split=4, n_estimators=250 \n",
      "[CV]  max_depth=None, min_samples_leaf=17, min_samples_split=4, n_estimators=250, total=   0.4s\n",
      "[CV] max_depth=None, min_samples_leaf=17, min_samples_split=4, n_estimators=250 \n",
      "[CV]  max_depth=None, min_samples_leaf=17, min_samples_split=4, n_estimators=250, total=   0.4s\n",
      "[CV] max_depth=None, min_samples_leaf=17, min_samples_split=4, n_estimators=250 \n",
      "[CV]  max_depth=None, min_samples_leaf=17, min_samples_split=4, n_estimators=250, total=   0.4s\n",
      "[CV] max_depth=None, min_samples_leaf=17, min_samples_split=4, n_estimators=250 \n",
      "[CV]  max_depth=None, min_samples_leaf=17, min_samples_split=4, n_estimators=250, total=   0.4s\n",
      "[CV] max_depth=None, min_samples_leaf=17, min_samples_split=4, n_estimators=300 \n",
      "[CV]  max_depth=None, min_samples_leaf=17, min_samples_split=4, n_estimators=300, total=   0.5s\n",
      "[CV] max_depth=None, min_samples_leaf=17, min_samples_split=4, n_estimators=300 \n",
      "[CV]  max_depth=None, min_samples_leaf=17, min_samples_split=4, n_estimators=300, total=   0.5s\n",
      "[CV] max_depth=None, min_samples_leaf=17, min_samples_split=4, n_estimators=300 \n",
      "[CV]  max_depth=None, min_samples_leaf=17, min_samples_split=4, n_estimators=300, total=   0.5s\n",
      "[CV] max_depth=None, min_samples_leaf=17, min_samples_split=4, n_estimators=300 \n",
      "[CV]  max_depth=None, min_samples_leaf=17, min_samples_split=4, n_estimators=300, total=   0.4s\n",
      "[CV] max_depth=None, min_samples_leaf=17, min_samples_split=4, n_estimators=300 \n",
      "[CV]  max_depth=None, min_samples_leaf=17, min_samples_split=4, n_estimators=300, total=   0.5s\n",
      "[CV] max_depth=None, min_samples_leaf=17, min_samples_split=4, n_estimators=350 \n",
      "[CV]  max_depth=None, min_samples_leaf=17, min_samples_split=4, n_estimators=350, total=   0.7s\n",
      "[CV] max_depth=None, min_samples_leaf=17, min_samples_split=4, n_estimators=350 \n",
      "[CV]  max_depth=None, min_samples_leaf=17, min_samples_split=4, n_estimators=350, total=   0.6s\n",
      "[CV] max_depth=None, min_samples_leaf=17, min_samples_split=4, n_estimators=350 \n",
      "[CV]  max_depth=None, min_samples_leaf=17, min_samples_split=4, n_estimators=350, total=   0.5s\n",
      "[CV] max_depth=None, min_samples_leaf=17, min_samples_split=4, n_estimators=350 \n",
      "[CV]  max_depth=None, min_samples_leaf=17, min_samples_split=4, n_estimators=350, total=   0.5s\n",
      "[CV] max_depth=None, min_samples_leaf=17, min_samples_split=4, n_estimators=350 \n",
      "[CV]  max_depth=None, min_samples_leaf=17, min_samples_split=4, n_estimators=350, total=   0.5s\n",
      "[CV] max_depth=None, min_samples_leaf=17, min_samples_split=4, n_estimators=400 \n",
      "[CV]  max_depth=None, min_samples_leaf=17, min_samples_split=4, n_estimators=400, total=   0.6s\n",
      "[CV] max_depth=None, min_samples_leaf=17, min_samples_split=4, n_estimators=400 \n",
      "[CV]  max_depth=None, min_samples_leaf=17, min_samples_split=4, n_estimators=400, total=   0.7s\n",
      "[CV] max_depth=None, min_samples_leaf=17, min_samples_split=4, n_estimators=400 \n",
      "[CV]  max_depth=None, min_samples_leaf=17, min_samples_split=4, n_estimators=400, total=   0.7s\n",
      "[CV] max_depth=None, min_samples_leaf=17, min_samples_split=4, n_estimators=400 \n",
      "[CV]  max_depth=None, min_samples_leaf=17, min_samples_split=4, n_estimators=400, total=   0.7s\n",
      "[CV] max_depth=None, min_samples_leaf=17, min_samples_split=4, n_estimators=400 \n",
      "[CV]  max_depth=None, min_samples_leaf=17, min_samples_split=4, n_estimators=400, total=   0.7s\n",
      "[CV] max_depth=None, min_samples_leaf=17, min_samples_split=4, n_estimators=450 \n",
      "[CV]  max_depth=None, min_samples_leaf=17, min_samples_split=4, n_estimators=450, total=   0.7s\n",
      "[CV] max_depth=None, min_samples_leaf=17, min_samples_split=4, n_estimators=450 \n",
      "[CV]  max_depth=None, min_samples_leaf=17, min_samples_split=4, n_estimators=450, total=   0.6s\n",
      "[CV] max_depth=None, min_samples_leaf=17, min_samples_split=4, n_estimators=450 \n",
      "[CV]  max_depth=None, min_samples_leaf=17, min_samples_split=4, n_estimators=450, total=   0.6s\n",
      "[CV] max_depth=None, min_samples_leaf=17, min_samples_split=4, n_estimators=450 \n",
      "[CV]  max_depth=None, min_samples_leaf=17, min_samples_split=4, n_estimators=450, total=   0.6s\n",
      "[CV] max_depth=None, min_samples_leaf=17, min_samples_split=4, n_estimators=450 \n",
      "[CV]  max_depth=None, min_samples_leaf=17, min_samples_split=4, n_estimators=450, total=   0.6s\n",
      "[CV] max_depth=None, min_samples_leaf=17, min_samples_split=6, n_estimators=100 \n",
      "[CV]  max_depth=None, min_samples_leaf=17, min_samples_split=6, n_estimators=100, total=   0.1s\n",
      "[CV] max_depth=None, min_samples_leaf=17, min_samples_split=6, n_estimators=100 \n",
      "[CV]  max_depth=None, min_samples_leaf=17, min_samples_split=6, n_estimators=100, total=   0.2s\n",
      "[CV] max_depth=None, min_samples_leaf=17, min_samples_split=6, n_estimators=100 \n",
      "[CV]  max_depth=None, min_samples_leaf=17, min_samples_split=6, n_estimators=100, total=   0.1s\n",
      "[CV] max_depth=None, min_samples_leaf=17, min_samples_split=6, n_estimators=100 \n",
      "[CV]  max_depth=None, min_samples_leaf=17, min_samples_split=6, n_estimators=100, total=   0.2s\n",
      "[CV] max_depth=None, min_samples_leaf=17, min_samples_split=6, n_estimators=100 \n",
      "[CV]  max_depth=None, min_samples_leaf=17, min_samples_split=6, n_estimators=100, total=   0.2s\n",
      "[CV] max_depth=None, min_samples_leaf=17, min_samples_split=6, n_estimators=150 \n",
      "[CV]  max_depth=None, min_samples_leaf=17, min_samples_split=6, n_estimators=150, total=   0.2s\n",
      "[CV] max_depth=None, min_samples_leaf=17, min_samples_split=6, n_estimators=150 \n",
      "[CV]  max_depth=None, min_samples_leaf=17, min_samples_split=6, n_estimators=150, total=   0.2s\n",
      "[CV] max_depth=None, min_samples_leaf=17, min_samples_split=6, n_estimators=150 \n",
      "[CV]  max_depth=None, min_samples_leaf=17, min_samples_split=6, n_estimators=150, total=   0.2s\n",
      "[CV] max_depth=None, min_samples_leaf=17, min_samples_split=6, n_estimators=150 \n",
      "[CV]  max_depth=None, min_samples_leaf=17, min_samples_split=6, n_estimators=150, total=   0.2s\n",
      "[CV] max_depth=None, min_samples_leaf=17, min_samples_split=6, n_estimators=150 \n",
      "[CV]  max_depth=None, min_samples_leaf=17, min_samples_split=6, n_estimators=150, total=   0.2s\n",
      "[CV] max_depth=None, min_samples_leaf=17, min_samples_split=6, n_estimators=200 \n",
      "[CV]  max_depth=None, min_samples_leaf=17, min_samples_split=6, n_estimators=200, total=   0.3s\n",
      "[CV] max_depth=None, min_samples_leaf=17, min_samples_split=6, n_estimators=200 \n",
      "[CV]  max_depth=None, min_samples_leaf=17, min_samples_split=6, n_estimators=200, total=   0.3s\n",
      "[CV] max_depth=None, min_samples_leaf=17, min_samples_split=6, n_estimators=200 \n",
      "[CV]  max_depth=None, min_samples_leaf=17, min_samples_split=6, n_estimators=200, total=   0.3s\n",
      "[CV] max_depth=None, min_samples_leaf=17, min_samples_split=6, n_estimators=200 \n",
      "[CV]  max_depth=None, min_samples_leaf=17, min_samples_split=6, n_estimators=200, total=   0.3s\n",
      "[CV] max_depth=None, min_samples_leaf=17, min_samples_split=6, n_estimators=200 \n",
      "[CV]  max_depth=None, min_samples_leaf=17, min_samples_split=6, n_estimators=200, total=   0.3s\n",
      "[CV] max_depth=None, min_samples_leaf=17, min_samples_split=6, n_estimators=250 \n"
     ]
    },
    {
     "name": "stdout",
     "output_type": "stream",
     "text": [
      "[CV]  max_depth=None, min_samples_leaf=17, min_samples_split=6, n_estimators=250, total=   0.4s\n",
      "[CV] max_depth=None, min_samples_leaf=17, min_samples_split=6, n_estimators=250 \n",
      "[CV]  max_depth=None, min_samples_leaf=17, min_samples_split=6, n_estimators=250, total=   0.4s\n",
      "[CV] max_depth=None, min_samples_leaf=17, min_samples_split=6, n_estimators=250 \n",
      "[CV]  max_depth=None, min_samples_leaf=17, min_samples_split=6, n_estimators=250, total=   0.4s\n",
      "[CV] max_depth=None, min_samples_leaf=17, min_samples_split=6, n_estimators=250 \n",
      "[CV]  max_depth=None, min_samples_leaf=17, min_samples_split=6, n_estimators=250, total=   0.4s\n",
      "[CV] max_depth=None, min_samples_leaf=17, min_samples_split=6, n_estimators=250 \n",
      "[CV]  max_depth=None, min_samples_leaf=17, min_samples_split=6, n_estimators=250, total=   0.4s\n",
      "[CV] max_depth=None, min_samples_leaf=17, min_samples_split=6, n_estimators=300 \n",
      "[CV]  max_depth=None, min_samples_leaf=17, min_samples_split=6, n_estimators=300, total=   0.4s\n",
      "[CV] max_depth=None, min_samples_leaf=17, min_samples_split=6, n_estimators=300 \n",
      "[CV]  max_depth=None, min_samples_leaf=17, min_samples_split=6, n_estimators=300, total=   0.5s\n",
      "[CV] max_depth=None, min_samples_leaf=17, min_samples_split=6, n_estimators=300 \n",
      "[CV]  max_depth=None, min_samples_leaf=17, min_samples_split=6, n_estimators=300, total=   0.5s\n",
      "[CV] max_depth=None, min_samples_leaf=17, min_samples_split=6, n_estimators=300 \n",
      "[CV]  max_depth=None, min_samples_leaf=17, min_samples_split=6, n_estimators=300, total=   0.6s\n",
      "[CV] max_depth=None, min_samples_leaf=17, min_samples_split=6, n_estimators=300 \n",
      "[CV]  max_depth=None, min_samples_leaf=17, min_samples_split=6, n_estimators=300, total=   0.7s\n",
      "[CV] max_depth=None, min_samples_leaf=17, min_samples_split=6, n_estimators=350 \n",
      "[CV]  max_depth=None, min_samples_leaf=17, min_samples_split=6, n_estimators=350, total=   0.6s\n",
      "[CV] max_depth=None, min_samples_leaf=17, min_samples_split=6, n_estimators=350 \n",
      "[CV]  max_depth=None, min_samples_leaf=17, min_samples_split=6, n_estimators=350, total=   0.6s\n",
      "[CV] max_depth=None, min_samples_leaf=17, min_samples_split=6, n_estimators=350 \n",
      "[CV]  max_depth=None, min_samples_leaf=17, min_samples_split=6, n_estimators=350, total=   0.5s\n",
      "[CV] max_depth=None, min_samples_leaf=17, min_samples_split=6, n_estimators=350 \n",
      "[CV]  max_depth=None, min_samples_leaf=17, min_samples_split=6, n_estimators=350, total=   0.5s\n",
      "[CV] max_depth=None, min_samples_leaf=17, min_samples_split=6, n_estimators=350 \n",
      "[CV]  max_depth=None, min_samples_leaf=17, min_samples_split=6, n_estimators=350, total=   0.5s\n",
      "[CV] max_depth=None, min_samples_leaf=17, min_samples_split=6, n_estimators=400 \n",
      "[CV]  max_depth=None, min_samples_leaf=17, min_samples_split=6, n_estimators=400, total=   0.6s\n",
      "[CV] max_depth=None, min_samples_leaf=17, min_samples_split=6, n_estimators=400 \n",
      "[CV]  max_depth=None, min_samples_leaf=17, min_samples_split=6, n_estimators=400, total=   0.6s\n",
      "[CV] max_depth=None, min_samples_leaf=17, min_samples_split=6, n_estimators=400 \n",
      "[CV]  max_depth=None, min_samples_leaf=17, min_samples_split=6, n_estimators=400, total=   0.6s\n",
      "[CV] max_depth=None, min_samples_leaf=17, min_samples_split=6, n_estimators=400 \n",
      "[CV]  max_depth=None, min_samples_leaf=17, min_samples_split=6, n_estimators=400, total=   0.6s\n",
      "[CV] max_depth=None, min_samples_leaf=17, min_samples_split=6, n_estimators=400 \n",
      "[CV]  max_depth=None, min_samples_leaf=17, min_samples_split=6, n_estimators=400, total=   0.6s\n",
      "[CV] max_depth=None, min_samples_leaf=17, min_samples_split=6, n_estimators=450 \n",
      "[CV]  max_depth=None, min_samples_leaf=17, min_samples_split=6, n_estimators=450, total=   0.6s\n",
      "[CV] max_depth=None, min_samples_leaf=17, min_samples_split=6, n_estimators=450 \n",
      "[CV]  max_depth=None, min_samples_leaf=17, min_samples_split=6, n_estimators=450, total=   0.6s\n",
      "[CV] max_depth=None, min_samples_leaf=17, min_samples_split=6, n_estimators=450 \n",
      "[CV]  max_depth=None, min_samples_leaf=17, min_samples_split=6, n_estimators=450, total=   0.7s\n",
      "[CV] max_depth=None, min_samples_leaf=17, min_samples_split=6, n_estimators=450 \n",
      "[CV]  max_depth=None, min_samples_leaf=17, min_samples_split=6, n_estimators=450, total=   0.6s\n",
      "[CV] max_depth=None, min_samples_leaf=17, min_samples_split=6, n_estimators=450 \n",
      "[CV]  max_depth=None, min_samples_leaf=17, min_samples_split=6, n_estimators=450, total=   0.6s\n",
      "[CV] max_depth=None, min_samples_leaf=19, min_samples_split=2, n_estimators=100 \n",
      "[CV]  max_depth=None, min_samples_leaf=19, min_samples_split=2, n_estimators=100, total=   0.2s\n",
      "[CV] max_depth=None, min_samples_leaf=19, min_samples_split=2, n_estimators=100 \n",
      "[CV]  max_depth=None, min_samples_leaf=19, min_samples_split=2, n_estimators=100, total=   0.2s\n",
      "[CV] max_depth=None, min_samples_leaf=19, min_samples_split=2, n_estimators=100 \n",
      "[CV]  max_depth=None, min_samples_leaf=19, min_samples_split=2, n_estimators=100, total=   0.2s\n",
      "[CV] max_depth=None, min_samples_leaf=19, min_samples_split=2, n_estimators=100 \n",
      "[CV]  max_depth=None, min_samples_leaf=19, min_samples_split=2, n_estimators=100, total=   0.2s\n",
      "[CV] max_depth=None, min_samples_leaf=19, min_samples_split=2, n_estimators=100 \n",
      "[CV]  max_depth=None, min_samples_leaf=19, min_samples_split=2, n_estimators=100, total=   0.1s\n",
      "[CV] max_depth=None, min_samples_leaf=19, min_samples_split=2, n_estimators=150 \n",
      "[CV]  max_depth=None, min_samples_leaf=19, min_samples_split=2, n_estimators=150, total=   0.2s\n",
      "[CV] max_depth=None, min_samples_leaf=19, min_samples_split=2, n_estimators=150 \n",
      "[CV]  max_depth=None, min_samples_leaf=19, min_samples_split=2, n_estimators=150, total=   0.2s\n",
      "[CV] max_depth=None, min_samples_leaf=19, min_samples_split=2, n_estimators=150 \n",
      "[CV]  max_depth=None, min_samples_leaf=19, min_samples_split=2, n_estimators=150, total=   0.2s\n",
      "[CV] max_depth=None, min_samples_leaf=19, min_samples_split=2, n_estimators=150 \n",
      "[CV]  max_depth=None, min_samples_leaf=19, min_samples_split=2, n_estimators=150, total=   0.2s\n",
      "[CV] max_depth=None, min_samples_leaf=19, min_samples_split=2, n_estimators=150 \n",
      "[CV]  max_depth=None, min_samples_leaf=19, min_samples_split=2, n_estimators=150, total=   0.3s\n",
      "[CV] max_depth=None, min_samples_leaf=19, min_samples_split=2, n_estimators=200 \n",
      "[CV]  max_depth=None, min_samples_leaf=19, min_samples_split=2, n_estimators=200, total=   0.3s\n",
      "[CV] max_depth=None, min_samples_leaf=19, min_samples_split=2, n_estimators=200 \n",
      "[CV]  max_depth=None, min_samples_leaf=19, min_samples_split=2, n_estimators=200, total=   0.3s\n",
      "[CV] max_depth=None, min_samples_leaf=19, min_samples_split=2, n_estimators=200 \n",
      "[CV]  max_depth=None, min_samples_leaf=19, min_samples_split=2, n_estimators=200, total=   0.3s\n",
      "[CV] max_depth=None, min_samples_leaf=19, min_samples_split=2, n_estimators=200 \n",
      "[CV]  max_depth=None, min_samples_leaf=19, min_samples_split=2, n_estimators=200, total=   0.3s\n",
      "[CV] max_depth=None, min_samples_leaf=19, min_samples_split=2, n_estimators=200 \n",
      "[CV]  max_depth=None, min_samples_leaf=19, min_samples_split=2, n_estimators=200, total=   0.3s\n",
      "[CV] max_depth=None, min_samples_leaf=19, min_samples_split=2, n_estimators=250 \n",
      "[CV]  max_depth=None, min_samples_leaf=19, min_samples_split=2, n_estimators=250, total=   0.4s\n",
      "[CV] max_depth=None, min_samples_leaf=19, min_samples_split=2, n_estimators=250 \n",
      "[CV]  max_depth=None, min_samples_leaf=19, min_samples_split=2, n_estimators=250, total=   0.4s\n",
      "[CV] max_depth=None, min_samples_leaf=19, min_samples_split=2, n_estimators=250 \n",
      "[CV]  max_depth=None, min_samples_leaf=19, min_samples_split=2, n_estimators=250, total=   0.4s\n",
      "[CV] max_depth=None, min_samples_leaf=19, min_samples_split=2, n_estimators=250 \n",
      "[CV]  max_depth=None, min_samples_leaf=19, min_samples_split=2, n_estimators=250, total=   0.4s\n",
      "[CV] max_depth=None, min_samples_leaf=19, min_samples_split=2, n_estimators=250 \n",
      "[CV]  max_depth=None, min_samples_leaf=19, min_samples_split=2, n_estimators=250, total=   0.4s\n",
      "[CV] max_depth=None, min_samples_leaf=19, min_samples_split=2, n_estimators=300 \n",
      "[CV]  max_depth=None, min_samples_leaf=19, min_samples_split=2, n_estimators=300, total=   0.4s\n",
      "[CV] max_depth=None, min_samples_leaf=19, min_samples_split=2, n_estimators=300 \n",
      "[CV]  max_depth=None, min_samples_leaf=19, min_samples_split=2, n_estimators=300, total=   0.4s\n",
      "[CV] max_depth=None, min_samples_leaf=19, min_samples_split=2, n_estimators=300 \n"
     ]
    },
    {
     "name": "stdout",
     "output_type": "stream",
     "text": [
      "[CV]  max_depth=None, min_samples_leaf=19, min_samples_split=2, n_estimators=300, total=   0.4s\n",
      "[CV] max_depth=None, min_samples_leaf=19, min_samples_split=2, n_estimators=300 \n",
      "[CV]  max_depth=None, min_samples_leaf=19, min_samples_split=2, n_estimators=300, total=   0.4s\n",
      "[CV] max_depth=None, min_samples_leaf=19, min_samples_split=2, n_estimators=300 \n",
      "[CV]  max_depth=None, min_samples_leaf=19, min_samples_split=2, n_estimators=300, total=   0.4s\n",
      "[CV] max_depth=None, min_samples_leaf=19, min_samples_split=2, n_estimators=350 \n",
      "[CV]  max_depth=None, min_samples_leaf=19, min_samples_split=2, n_estimators=350, total=   0.5s\n",
      "[CV] max_depth=None, min_samples_leaf=19, min_samples_split=2, n_estimators=350 \n",
      "[CV]  max_depth=None, min_samples_leaf=19, min_samples_split=2, n_estimators=350, total=   0.5s\n",
      "[CV] max_depth=None, min_samples_leaf=19, min_samples_split=2, n_estimators=350 \n",
      "[CV]  max_depth=None, min_samples_leaf=19, min_samples_split=2, n_estimators=350, total=   0.5s\n",
      "[CV] max_depth=None, min_samples_leaf=19, min_samples_split=2, n_estimators=350 \n",
      "[CV]  max_depth=None, min_samples_leaf=19, min_samples_split=2, n_estimators=350, total=   0.5s\n",
      "[CV] max_depth=None, min_samples_leaf=19, min_samples_split=2, n_estimators=350 \n",
      "[CV]  max_depth=None, min_samples_leaf=19, min_samples_split=2, n_estimators=350, total=   0.5s\n",
      "[CV] max_depth=None, min_samples_leaf=19, min_samples_split=2, n_estimators=400 \n",
      "[CV]  max_depth=None, min_samples_leaf=19, min_samples_split=2, n_estimators=400, total=   0.6s\n",
      "[CV] max_depth=None, min_samples_leaf=19, min_samples_split=2, n_estimators=400 \n",
      "[CV]  max_depth=None, min_samples_leaf=19, min_samples_split=2, n_estimators=400, total=   0.6s\n",
      "[CV] max_depth=None, min_samples_leaf=19, min_samples_split=2, n_estimators=400 \n",
      "[CV]  max_depth=None, min_samples_leaf=19, min_samples_split=2, n_estimators=400, total=   0.6s\n",
      "[CV] max_depth=None, min_samples_leaf=19, min_samples_split=2, n_estimators=400 \n",
      "[CV]  max_depth=None, min_samples_leaf=19, min_samples_split=2, n_estimators=400, total=   0.6s\n",
      "[CV] max_depth=None, min_samples_leaf=19, min_samples_split=2, n_estimators=400 \n",
      "[CV]  max_depth=None, min_samples_leaf=19, min_samples_split=2, n_estimators=400, total=   0.6s\n",
      "[CV] max_depth=None, min_samples_leaf=19, min_samples_split=2, n_estimators=450 \n",
      "[CV]  max_depth=None, min_samples_leaf=19, min_samples_split=2, n_estimators=450, total=   0.6s\n",
      "[CV] max_depth=None, min_samples_leaf=19, min_samples_split=2, n_estimators=450 \n",
      "[CV]  max_depth=None, min_samples_leaf=19, min_samples_split=2, n_estimators=450, total=   0.6s\n",
      "[CV] max_depth=None, min_samples_leaf=19, min_samples_split=2, n_estimators=450 \n",
      "[CV]  max_depth=None, min_samples_leaf=19, min_samples_split=2, n_estimators=450, total=   0.6s\n",
      "[CV] max_depth=None, min_samples_leaf=19, min_samples_split=2, n_estimators=450 \n",
      "[CV]  max_depth=None, min_samples_leaf=19, min_samples_split=2, n_estimators=450, total=   0.6s\n",
      "[CV] max_depth=None, min_samples_leaf=19, min_samples_split=2, n_estimators=450 \n",
      "[CV]  max_depth=None, min_samples_leaf=19, min_samples_split=2, n_estimators=450, total=   0.6s\n",
      "[CV] max_depth=None, min_samples_leaf=19, min_samples_split=4, n_estimators=100 \n",
      "[CV]  max_depth=None, min_samples_leaf=19, min_samples_split=4, n_estimators=100, total=   0.2s\n",
      "[CV] max_depth=None, min_samples_leaf=19, min_samples_split=4, n_estimators=100 \n",
      "[CV]  max_depth=None, min_samples_leaf=19, min_samples_split=4, n_estimators=100, total=   0.2s\n",
      "[CV] max_depth=None, min_samples_leaf=19, min_samples_split=4, n_estimators=100 \n",
      "[CV]  max_depth=None, min_samples_leaf=19, min_samples_split=4, n_estimators=100, total=   0.1s\n",
      "[CV] max_depth=None, min_samples_leaf=19, min_samples_split=4, n_estimators=100 \n",
      "[CV]  max_depth=None, min_samples_leaf=19, min_samples_split=4, n_estimators=100, total=   0.2s\n",
      "[CV] max_depth=None, min_samples_leaf=19, min_samples_split=4, n_estimators=100 \n",
      "[CV]  max_depth=None, min_samples_leaf=19, min_samples_split=4, n_estimators=100, total=   0.2s\n",
      "[CV] max_depth=None, min_samples_leaf=19, min_samples_split=4, n_estimators=150 \n",
      "[CV]  max_depth=None, min_samples_leaf=19, min_samples_split=4, n_estimators=150, total=   0.2s\n",
      "[CV] max_depth=None, min_samples_leaf=19, min_samples_split=4, n_estimators=150 \n",
      "[CV]  max_depth=None, min_samples_leaf=19, min_samples_split=4, n_estimators=150, total=   0.2s\n",
      "[CV] max_depth=None, min_samples_leaf=19, min_samples_split=4, n_estimators=150 \n",
      "[CV]  max_depth=None, min_samples_leaf=19, min_samples_split=4, n_estimators=150, total=   0.2s\n",
      "[CV] max_depth=None, min_samples_leaf=19, min_samples_split=4, n_estimators=150 \n",
      "[CV]  max_depth=None, min_samples_leaf=19, min_samples_split=4, n_estimators=150, total=   0.2s\n",
      "[CV] max_depth=None, min_samples_leaf=19, min_samples_split=4, n_estimators=150 \n",
      "[CV]  max_depth=None, min_samples_leaf=19, min_samples_split=4, n_estimators=150, total=   0.2s\n",
      "[CV] max_depth=None, min_samples_leaf=19, min_samples_split=4, n_estimators=200 \n",
      "[CV]  max_depth=None, min_samples_leaf=19, min_samples_split=4, n_estimators=200, total=   0.3s\n",
      "[CV] max_depth=None, min_samples_leaf=19, min_samples_split=4, n_estimators=200 \n",
      "[CV]  max_depth=None, min_samples_leaf=19, min_samples_split=4, n_estimators=200, total=   0.3s\n",
      "[CV] max_depth=None, min_samples_leaf=19, min_samples_split=4, n_estimators=200 \n",
      "[CV]  max_depth=None, min_samples_leaf=19, min_samples_split=4, n_estimators=200, total=   0.3s\n",
      "[CV] max_depth=None, min_samples_leaf=19, min_samples_split=4, n_estimators=200 \n",
      "[CV]  max_depth=None, min_samples_leaf=19, min_samples_split=4, n_estimators=200, total=   0.3s\n",
      "[CV] max_depth=None, min_samples_leaf=19, min_samples_split=4, n_estimators=200 \n",
      "[CV]  max_depth=None, min_samples_leaf=19, min_samples_split=4, n_estimators=200, total=   0.3s\n",
      "[CV] max_depth=None, min_samples_leaf=19, min_samples_split=4, n_estimators=250 \n",
      "[CV]  max_depth=None, min_samples_leaf=19, min_samples_split=4, n_estimators=250, total=   0.4s\n",
      "[CV] max_depth=None, min_samples_leaf=19, min_samples_split=4, n_estimators=250 \n",
      "[CV]  max_depth=None, min_samples_leaf=19, min_samples_split=4, n_estimators=250, total=   0.4s\n",
      "[CV] max_depth=None, min_samples_leaf=19, min_samples_split=4, n_estimators=250 \n",
      "[CV]  max_depth=None, min_samples_leaf=19, min_samples_split=4, n_estimators=250, total=   0.4s\n",
      "[CV] max_depth=None, min_samples_leaf=19, min_samples_split=4, n_estimators=250 \n",
      "[CV]  max_depth=None, min_samples_leaf=19, min_samples_split=4, n_estimators=250, total=   0.4s\n",
      "[CV] max_depth=None, min_samples_leaf=19, min_samples_split=4, n_estimators=250 \n",
      "[CV]  max_depth=None, min_samples_leaf=19, min_samples_split=4, n_estimators=250, total=   0.4s\n",
      "[CV] max_depth=None, min_samples_leaf=19, min_samples_split=4, n_estimators=300 \n",
      "[CV]  max_depth=None, min_samples_leaf=19, min_samples_split=4, n_estimators=300, total=   0.4s\n",
      "[CV] max_depth=None, min_samples_leaf=19, min_samples_split=4, n_estimators=300 \n",
      "[CV]  max_depth=None, min_samples_leaf=19, min_samples_split=4, n_estimators=300, total=   0.4s\n",
      "[CV] max_depth=None, min_samples_leaf=19, min_samples_split=4, n_estimators=300 \n",
      "[CV]  max_depth=None, min_samples_leaf=19, min_samples_split=4, n_estimators=300, total=   0.4s\n",
      "[CV] max_depth=None, min_samples_leaf=19, min_samples_split=4, n_estimators=300 \n",
      "[CV]  max_depth=None, min_samples_leaf=19, min_samples_split=4, n_estimators=300, total=   0.4s\n",
      "[CV] max_depth=None, min_samples_leaf=19, min_samples_split=4, n_estimators=300 \n",
      "[CV]  max_depth=None, min_samples_leaf=19, min_samples_split=4, n_estimators=300, total=   0.4s\n",
      "[CV] max_depth=None, min_samples_leaf=19, min_samples_split=4, n_estimators=350 \n",
      "[CV]  max_depth=None, min_samples_leaf=19, min_samples_split=4, n_estimators=350, total=   0.5s\n",
      "[CV] max_depth=None, min_samples_leaf=19, min_samples_split=4, n_estimators=350 \n",
      "[CV]  max_depth=None, min_samples_leaf=19, min_samples_split=4, n_estimators=350, total=   0.5s\n",
      "[CV] max_depth=None, min_samples_leaf=19, min_samples_split=4, n_estimators=350 \n",
      "[CV]  max_depth=None, min_samples_leaf=19, min_samples_split=4, n_estimators=350, total=   0.5s\n",
      "[CV] max_depth=None, min_samples_leaf=19, min_samples_split=4, n_estimators=350 \n",
      "[CV]  max_depth=None, min_samples_leaf=19, min_samples_split=4, n_estimators=350, total=   0.5s\n",
      "[CV] max_depth=None, min_samples_leaf=19, min_samples_split=4, n_estimators=350 \n"
     ]
    },
    {
     "name": "stdout",
     "output_type": "stream",
     "text": [
      "[CV]  max_depth=None, min_samples_leaf=19, min_samples_split=4, n_estimators=350, total=   0.5s\n",
      "[CV] max_depth=None, min_samples_leaf=19, min_samples_split=4, n_estimators=400 \n",
      "[CV]  max_depth=None, min_samples_leaf=19, min_samples_split=4, n_estimators=400, total=   0.6s\n",
      "[CV] max_depth=None, min_samples_leaf=19, min_samples_split=4, n_estimators=400 \n",
      "[CV]  max_depth=None, min_samples_leaf=19, min_samples_split=4, n_estimators=400, total=   0.6s\n",
      "[CV] max_depth=None, min_samples_leaf=19, min_samples_split=4, n_estimators=400 \n",
      "[CV]  max_depth=None, min_samples_leaf=19, min_samples_split=4, n_estimators=400, total=   0.6s\n",
      "[CV] max_depth=None, min_samples_leaf=19, min_samples_split=4, n_estimators=400 \n",
      "[CV]  max_depth=None, min_samples_leaf=19, min_samples_split=4, n_estimators=400, total=   0.6s\n",
      "[CV] max_depth=None, min_samples_leaf=19, min_samples_split=4, n_estimators=400 \n",
      "[CV]  max_depth=None, min_samples_leaf=19, min_samples_split=4, n_estimators=400, total=   0.6s\n",
      "[CV] max_depth=None, min_samples_leaf=19, min_samples_split=4, n_estimators=450 \n",
      "[CV]  max_depth=None, min_samples_leaf=19, min_samples_split=4, n_estimators=450, total=   0.6s\n",
      "[CV] max_depth=None, min_samples_leaf=19, min_samples_split=4, n_estimators=450 \n",
      "[CV]  max_depth=None, min_samples_leaf=19, min_samples_split=4, n_estimators=450, total=   0.6s\n",
      "[CV] max_depth=None, min_samples_leaf=19, min_samples_split=4, n_estimators=450 \n",
      "[CV]  max_depth=None, min_samples_leaf=19, min_samples_split=4, n_estimators=450, total=   0.6s\n",
      "[CV] max_depth=None, min_samples_leaf=19, min_samples_split=4, n_estimators=450 \n",
      "[CV]  max_depth=None, min_samples_leaf=19, min_samples_split=4, n_estimators=450, total=   0.6s\n",
      "[CV] max_depth=None, min_samples_leaf=19, min_samples_split=4, n_estimators=450 \n",
      "[CV]  max_depth=None, min_samples_leaf=19, min_samples_split=4, n_estimators=450, total=   0.7s\n",
      "[CV] max_depth=None, min_samples_leaf=19, min_samples_split=6, n_estimators=100 \n",
      "[CV]  max_depth=None, min_samples_leaf=19, min_samples_split=6, n_estimators=100, total=   0.1s\n",
      "[CV] max_depth=None, min_samples_leaf=19, min_samples_split=6, n_estimators=100 \n",
      "[CV]  max_depth=None, min_samples_leaf=19, min_samples_split=6, n_estimators=100, total=   0.2s\n",
      "[CV] max_depth=None, min_samples_leaf=19, min_samples_split=6, n_estimators=100 \n",
      "[CV]  max_depth=None, min_samples_leaf=19, min_samples_split=6, n_estimators=100, total=   0.1s\n",
      "[CV] max_depth=None, min_samples_leaf=19, min_samples_split=6, n_estimators=100 \n",
      "[CV]  max_depth=None, min_samples_leaf=19, min_samples_split=6, n_estimators=100, total=   0.2s\n",
      "[CV] max_depth=None, min_samples_leaf=19, min_samples_split=6, n_estimators=100 \n",
      "[CV]  max_depth=None, min_samples_leaf=19, min_samples_split=6, n_estimators=100, total=   0.1s\n",
      "[CV] max_depth=None, min_samples_leaf=19, min_samples_split=6, n_estimators=150 \n",
      "[CV]  max_depth=None, min_samples_leaf=19, min_samples_split=6, n_estimators=150, total=   0.2s\n",
      "[CV] max_depth=None, min_samples_leaf=19, min_samples_split=6, n_estimators=150 \n",
      "[CV]  max_depth=None, min_samples_leaf=19, min_samples_split=6, n_estimators=150, total=   0.2s\n",
      "[CV] max_depth=None, min_samples_leaf=19, min_samples_split=6, n_estimators=150 \n",
      "[CV]  max_depth=None, min_samples_leaf=19, min_samples_split=6, n_estimators=150, total=   0.2s\n",
      "[CV] max_depth=None, min_samples_leaf=19, min_samples_split=6, n_estimators=150 \n",
      "[CV]  max_depth=None, min_samples_leaf=19, min_samples_split=6, n_estimators=150, total=   0.2s\n",
      "[CV] max_depth=None, min_samples_leaf=19, min_samples_split=6, n_estimators=150 \n",
      "[CV]  max_depth=None, min_samples_leaf=19, min_samples_split=6, n_estimators=150, total=   0.2s\n",
      "[CV] max_depth=None, min_samples_leaf=19, min_samples_split=6, n_estimators=200 \n",
      "[CV]  max_depth=None, min_samples_leaf=19, min_samples_split=6, n_estimators=200, total=   0.3s\n",
      "[CV] max_depth=None, min_samples_leaf=19, min_samples_split=6, n_estimators=200 \n",
      "[CV]  max_depth=None, min_samples_leaf=19, min_samples_split=6, n_estimators=200, total=   0.3s\n",
      "[CV] max_depth=None, min_samples_leaf=19, min_samples_split=6, n_estimators=200 \n",
      "[CV]  max_depth=None, min_samples_leaf=19, min_samples_split=6, n_estimators=200, total=   0.3s\n",
      "[CV] max_depth=None, min_samples_leaf=19, min_samples_split=6, n_estimators=200 \n",
      "[CV]  max_depth=None, min_samples_leaf=19, min_samples_split=6, n_estimators=200, total=   0.3s\n",
      "[CV] max_depth=None, min_samples_leaf=19, min_samples_split=6, n_estimators=200 \n",
      "[CV]  max_depth=None, min_samples_leaf=19, min_samples_split=6, n_estimators=200, total=   0.3s\n",
      "[CV] max_depth=None, min_samples_leaf=19, min_samples_split=6, n_estimators=250 \n",
      "[CV]  max_depth=None, min_samples_leaf=19, min_samples_split=6, n_estimators=250, total=   0.4s\n",
      "[CV] max_depth=None, min_samples_leaf=19, min_samples_split=6, n_estimators=250 \n",
      "[CV]  max_depth=None, min_samples_leaf=19, min_samples_split=6, n_estimators=250, total=   0.4s\n",
      "[CV] max_depth=None, min_samples_leaf=19, min_samples_split=6, n_estimators=250 \n",
      "[CV]  max_depth=None, min_samples_leaf=19, min_samples_split=6, n_estimators=250, total=   0.4s\n",
      "[CV] max_depth=None, min_samples_leaf=19, min_samples_split=6, n_estimators=250 \n",
      "[CV]  max_depth=None, min_samples_leaf=19, min_samples_split=6, n_estimators=250, total=   0.4s\n",
      "[CV] max_depth=None, min_samples_leaf=19, min_samples_split=6, n_estimators=250 \n",
      "[CV]  max_depth=None, min_samples_leaf=19, min_samples_split=6, n_estimators=250, total=   0.4s\n",
      "[CV] max_depth=None, min_samples_leaf=19, min_samples_split=6, n_estimators=300 \n",
      "[CV]  max_depth=None, min_samples_leaf=19, min_samples_split=6, n_estimators=300, total=   0.4s\n",
      "[CV] max_depth=None, min_samples_leaf=19, min_samples_split=6, n_estimators=300 \n",
      "[CV]  max_depth=None, min_samples_leaf=19, min_samples_split=6, n_estimators=300, total=   0.4s\n",
      "[CV] max_depth=None, min_samples_leaf=19, min_samples_split=6, n_estimators=300 \n",
      "[CV]  max_depth=None, min_samples_leaf=19, min_samples_split=6, n_estimators=300, total=   0.4s\n",
      "[CV] max_depth=None, min_samples_leaf=19, min_samples_split=6, n_estimators=300 \n",
      "[CV]  max_depth=None, min_samples_leaf=19, min_samples_split=6, n_estimators=300, total=   0.4s\n",
      "[CV] max_depth=None, min_samples_leaf=19, min_samples_split=6, n_estimators=300 \n",
      "[CV]  max_depth=None, min_samples_leaf=19, min_samples_split=6, n_estimators=300, total=   0.4s\n",
      "[CV] max_depth=None, min_samples_leaf=19, min_samples_split=6, n_estimators=350 \n",
      "[CV]  max_depth=None, min_samples_leaf=19, min_samples_split=6, n_estimators=350, total=   0.5s\n",
      "[CV] max_depth=None, min_samples_leaf=19, min_samples_split=6, n_estimators=350 \n",
      "[CV]  max_depth=None, min_samples_leaf=19, min_samples_split=6, n_estimators=350, total=   0.5s\n",
      "[CV] max_depth=None, min_samples_leaf=19, min_samples_split=6, n_estimators=350 \n",
      "[CV]  max_depth=None, min_samples_leaf=19, min_samples_split=6, n_estimators=350, total=   0.5s\n",
      "[CV] max_depth=None, min_samples_leaf=19, min_samples_split=6, n_estimators=350 \n",
      "[CV]  max_depth=None, min_samples_leaf=19, min_samples_split=6, n_estimators=350, total=   0.5s\n",
      "[CV] max_depth=None, min_samples_leaf=19, min_samples_split=6, n_estimators=350 \n",
      "[CV]  max_depth=None, min_samples_leaf=19, min_samples_split=6, n_estimators=350, total=   0.5s\n",
      "[CV] max_depth=None, min_samples_leaf=19, min_samples_split=6, n_estimators=400 \n",
      "[CV]  max_depth=None, min_samples_leaf=19, min_samples_split=6, n_estimators=400, total=   0.6s\n",
      "[CV] max_depth=None, min_samples_leaf=19, min_samples_split=6, n_estimators=400 \n",
      "[CV]  max_depth=None, min_samples_leaf=19, min_samples_split=6, n_estimators=400, total=   0.6s\n",
      "[CV] max_depth=None, min_samples_leaf=19, min_samples_split=6, n_estimators=400 \n",
      "[CV]  max_depth=None, min_samples_leaf=19, min_samples_split=6, n_estimators=400, total=   0.6s\n",
      "[CV] max_depth=None, min_samples_leaf=19, min_samples_split=6, n_estimators=400 \n",
      "[CV]  max_depth=None, min_samples_leaf=19, min_samples_split=6, n_estimators=400, total=   0.6s\n",
      "[CV] max_depth=None, min_samples_leaf=19, min_samples_split=6, n_estimators=400 \n",
      "[CV]  max_depth=None, min_samples_leaf=19, min_samples_split=6, n_estimators=400, total=   0.6s\n",
      "[CV] max_depth=None, min_samples_leaf=19, min_samples_split=6, n_estimators=450 \n",
      "[CV]  max_depth=None, min_samples_leaf=19, min_samples_split=6, n_estimators=450, total=   0.6s\n",
      "[CV] max_depth=None, min_samples_leaf=19, min_samples_split=6, n_estimators=450 \n"
     ]
    },
    {
     "name": "stdout",
     "output_type": "stream",
     "text": [
      "[CV]  max_depth=None, min_samples_leaf=19, min_samples_split=6, n_estimators=450, total=   0.6s\n",
      "[CV] max_depth=None, min_samples_leaf=19, min_samples_split=6, n_estimators=450 \n",
      "[CV]  max_depth=None, min_samples_leaf=19, min_samples_split=6, n_estimators=450, total=   0.6s\n",
      "[CV] max_depth=None, min_samples_leaf=19, min_samples_split=6, n_estimators=450 \n",
      "[CV]  max_depth=None, min_samples_leaf=19, min_samples_split=6, n_estimators=450, total=   0.6s\n",
      "[CV] max_depth=None, min_samples_leaf=19, min_samples_split=6, n_estimators=450 \n",
      "[CV]  max_depth=None, min_samples_leaf=19, min_samples_split=6, n_estimators=450, total=   0.7s\n",
      "[CV] max_depth=3, min_samples_leaf=17, min_samples_split=2, n_estimators=100 \n",
      "[CV]  max_depth=3, min_samples_leaf=17, min_samples_split=2, n_estimators=100, total=   0.1s\n",
      "[CV] max_depth=3, min_samples_leaf=17, min_samples_split=2, n_estimators=100 \n",
      "[CV]  max_depth=3, min_samples_leaf=17, min_samples_split=2, n_estimators=100, total=   0.2s\n",
      "[CV] max_depth=3, min_samples_leaf=17, min_samples_split=2, n_estimators=100 \n",
      "[CV]  max_depth=3, min_samples_leaf=17, min_samples_split=2, n_estimators=100, total=   0.1s\n",
      "[CV] max_depth=3, min_samples_leaf=17, min_samples_split=2, n_estimators=100 \n",
      "[CV]  max_depth=3, min_samples_leaf=17, min_samples_split=2, n_estimators=100, total=   0.1s\n",
      "[CV] max_depth=3, min_samples_leaf=17, min_samples_split=2, n_estimators=100 \n",
      "[CV]  max_depth=3, min_samples_leaf=17, min_samples_split=2, n_estimators=100, total=   0.2s\n",
      "[CV] max_depth=3, min_samples_leaf=17, min_samples_split=2, n_estimators=150 \n",
      "[CV]  max_depth=3, min_samples_leaf=17, min_samples_split=2, n_estimators=150, total=   0.2s\n",
      "[CV] max_depth=3, min_samples_leaf=17, min_samples_split=2, n_estimators=150 \n",
      "[CV]  max_depth=3, min_samples_leaf=17, min_samples_split=2, n_estimators=150, total=   0.2s\n",
      "[CV] max_depth=3, min_samples_leaf=17, min_samples_split=2, n_estimators=150 \n",
      "[CV]  max_depth=3, min_samples_leaf=17, min_samples_split=2, n_estimators=150, total=   0.2s\n",
      "[CV] max_depth=3, min_samples_leaf=17, min_samples_split=2, n_estimators=150 \n",
      "[CV]  max_depth=3, min_samples_leaf=17, min_samples_split=2, n_estimators=150, total=   0.2s\n",
      "[CV] max_depth=3, min_samples_leaf=17, min_samples_split=2, n_estimators=150 \n",
      "[CV]  max_depth=3, min_samples_leaf=17, min_samples_split=2, n_estimators=150, total=   0.2s\n",
      "[CV] max_depth=3, min_samples_leaf=17, min_samples_split=2, n_estimators=200 \n",
      "[CV]  max_depth=3, min_samples_leaf=17, min_samples_split=2, n_estimators=200, total=   0.3s\n",
      "[CV] max_depth=3, min_samples_leaf=17, min_samples_split=2, n_estimators=200 \n",
      "[CV]  max_depth=3, min_samples_leaf=17, min_samples_split=2, n_estimators=200, total=   0.3s\n",
      "[CV] max_depth=3, min_samples_leaf=17, min_samples_split=2, n_estimators=200 \n",
      "[CV]  max_depth=3, min_samples_leaf=17, min_samples_split=2, n_estimators=200, total=   0.3s\n",
      "[CV] max_depth=3, min_samples_leaf=17, min_samples_split=2, n_estimators=200 \n",
      "[CV]  max_depth=3, min_samples_leaf=17, min_samples_split=2, n_estimators=200, total=   0.3s\n",
      "[CV] max_depth=3, min_samples_leaf=17, min_samples_split=2, n_estimators=200 \n",
      "[CV]  max_depth=3, min_samples_leaf=17, min_samples_split=2, n_estimators=200, total=   0.3s\n",
      "[CV] max_depth=3, min_samples_leaf=17, min_samples_split=2, n_estimators=250 \n",
      "[CV]  max_depth=3, min_samples_leaf=17, min_samples_split=2, n_estimators=250, total=   0.4s\n",
      "[CV] max_depth=3, min_samples_leaf=17, min_samples_split=2, n_estimators=250 \n",
      "[CV]  max_depth=3, min_samples_leaf=17, min_samples_split=2, n_estimators=250, total=   0.4s\n",
      "[CV] max_depth=3, min_samples_leaf=17, min_samples_split=2, n_estimators=250 \n",
      "[CV]  max_depth=3, min_samples_leaf=17, min_samples_split=2, n_estimators=250, total=   0.4s\n",
      "[CV] max_depth=3, min_samples_leaf=17, min_samples_split=2, n_estimators=250 \n",
      "[CV]  max_depth=3, min_samples_leaf=17, min_samples_split=2, n_estimators=250, total=   0.4s\n",
      "[CV] max_depth=3, min_samples_leaf=17, min_samples_split=2, n_estimators=250 \n",
      "[CV]  max_depth=3, min_samples_leaf=17, min_samples_split=2, n_estimators=250, total=   0.4s\n",
      "[CV] max_depth=3, min_samples_leaf=17, min_samples_split=2, n_estimators=300 \n",
      "[CV]  max_depth=3, min_samples_leaf=17, min_samples_split=2, n_estimators=300, total=   0.4s\n",
      "[CV] max_depth=3, min_samples_leaf=17, min_samples_split=2, n_estimators=300 \n",
      "[CV]  max_depth=3, min_samples_leaf=17, min_samples_split=2, n_estimators=300, total=   0.4s\n",
      "[CV] max_depth=3, min_samples_leaf=17, min_samples_split=2, n_estimators=300 \n",
      "[CV]  max_depth=3, min_samples_leaf=17, min_samples_split=2, n_estimators=300, total=   0.4s\n",
      "[CV] max_depth=3, min_samples_leaf=17, min_samples_split=2, n_estimators=300 \n",
      "[CV]  max_depth=3, min_samples_leaf=17, min_samples_split=2, n_estimators=300, total=   0.4s\n",
      "[CV] max_depth=3, min_samples_leaf=17, min_samples_split=2, n_estimators=300 \n",
      "[CV]  max_depth=3, min_samples_leaf=17, min_samples_split=2, n_estimators=300, total=   0.5s\n",
      "[CV] max_depth=3, min_samples_leaf=17, min_samples_split=2, n_estimators=350 \n",
      "[CV]  max_depth=3, min_samples_leaf=17, min_samples_split=2, n_estimators=350, total=   0.5s\n",
      "[CV] max_depth=3, min_samples_leaf=17, min_samples_split=2, n_estimators=350 \n",
      "[CV]  max_depth=3, min_samples_leaf=17, min_samples_split=2, n_estimators=350, total=   0.6s\n",
      "[CV] max_depth=3, min_samples_leaf=17, min_samples_split=2, n_estimators=350 \n",
      "[CV]  max_depth=3, min_samples_leaf=17, min_samples_split=2, n_estimators=350, total=   0.5s\n",
      "[CV] max_depth=3, min_samples_leaf=17, min_samples_split=2, n_estimators=350 \n",
      "[CV]  max_depth=3, min_samples_leaf=17, min_samples_split=2, n_estimators=350, total=   0.5s\n",
      "[CV] max_depth=3, min_samples_leaf=17, min_samples_split=2, n_estimators=350 \n",
      "[CV]  max_depth=3, min_samples_leaf=17, min_samples_split=2, n_estimators=350, total=   0.5s\n",
      "[CV] max_depth=3, min_samples_leaf=17, min_samples_split=2, n_estimators=400 \n",
      "[CV]  max_depth=3, min_samples_leaf=17, min_samples_split=2, n_estimators=400, total=   0.6s\n",
      "[CV] max_depth=3, min_samples_leaf=17, min_samples_split=2, n_estimators=400 \n",
      "[CV]  max_depth=3, min_samples_leaf=17, min_samples_split=2, n_estimators=400, total=   0.6s\n",
      "[CV] max_depth=3, min_samples_leaf=17, min_samples_split=2, n_estimators=400 \n",
      "[CV]  max_depth=3, min_samples_leaf=17, min_samples_split=2, n_estimators=400, total=   0.6s\n",
      "[CV] max_depth=3, min_samples_leaf=17, min_samples_split=2, n_estimators=400 \n",
      "[CV]  max_depth=3, min_samples_leaf=17, min_samples_split=2, n_estimators=400, total=   0.7s\n",
      "[CV] max_depth=3, min_samples_leaf=17, min_samples_split=2, n_estimators=400 \n",
      "[CV]  max_depth=3, min_samples_leaf=17, min_samples_split=2, n_estimators=400, total=   0.6s\n",
      "[CV] max_depth=3, min_samples_leaf=17, min_samples_split=2, n_estimators=450 \n",
      "[CV]  max_depth=3, min_samples_leaf=17, min_samples_split=2, n_estimators=450, total=   0.7s\n",
      "[CV] max_depth=3, min_samples_leaf=17, min_samples_split=2, n_estimators=450 \n",
      "[CV]  max_depth=3, min_samples_leaf=17, min_samples_split=2, n_estimators=450, total=   0.7s\n",
      "[CV] max_depth=3, min_samples_leaf=17, min_samples_split=2, n_estimators=450 \n",
      "[CV]  max_depth=3, min_samples_leaf=17, min_samples_split=2, n_estimators=450, total=   0.6s\n",
      "[CV] max_depth=3, min_samples_leaf=17, min_samples_split=2, n_estimators=450 \n",
      "[CV]  max_depth=3, min_samples_leaf=17, min_samples_split=2, n_estimators=450, total=   0.6s\n",
      "[CV] max_depth=3, min_samples_leaf=17, min_samples_split=2, n_estimators=450 \n",
      "[CV]  max_depth=3, min_samples_leaf=17, min_samples_split=2, n_estimators=450, total=   0.6s\n",
      "[CV] max_depth=3, min_samples_leaf=17, min_samples_split=4, n_estimators=100 \n",
      "[CV]  max_depth=3, min_samples_leaf=17, min_samples_split=4, n_estimators=100, total=   0.1s\n",
      "[CV] max_depth=3, min_samples_leaf=17, min_samples_split=4, n_estimators=100 \n",
      "[CV]  max_depth=3, min_samples_leaf=17, min_samples_split=4, n_estimators=100, total=   0.2s\n",
      "[CV] max_depth=3, min_samples_leaf=17, min_samples_split=4, n_estimators=100 \n",
      "[CV]  max_depth=3, min_samples_leaf=17, min_samples_split=4, n_estimators=100, total=   0.2s\n",
      "[CV] max_depth=3, min_samples_leaf=17, min_samples_split=4, n_estimators=100 \n",
      "[CV]  max_depth=3, min_samples_leaf=17, min_samples_split=4, n_estimators=100, total=   0.2s\n",
      "[CV] max_depth=3, min_samples_leaf=17, min_samples_split=4, n_estimators=100 \n",
      "[CV]  max_depth=3, min_samples_leaf=17, min_samples_split=4, n_estimators=100, total=   0.2s\n",
      "[CV] max_depth=3, min_samples_leaf=17, min_samples_split=4, n_estimators=150 \n"
     ]
    },
    {
     "name": "stdout",
     "output_type": "stream",
     "text": [
      "[CV]  max_depth=3, min_samples_leaf=17, min_samples_split=4, n_estimators=150, total=   0.3s\n",
      "[CV] max_depth=3, min_samples_leaf=17, min_samples_split=4, n_estimators=150 \n",
      "[CV]  max_depth=3, min_samples_leaf=17, min_samples_split=4, n_estimators=150, total=   0.2s\n",
      "[CV] max_depth=3, min_samples_leaf=17, min_samples_split=4, n_estimators=150 \n",
      "[CV]  max_depth=3, min_samples_leaf=17, min_samples_split=4, n_estimators=150, total=   0.2s\n",
      "[CV] max_depth=3, min_samples_leaf=17, min_samples_split=4, n_estimators=150 \n",
      "[CV]  max_depth=3, min_samples_leaf=17, min_samples_split=4, n_estimators=150, total=   0.2s\n",
      "[CV] max_depth=3, min_samples_leaf=17, min_samples_split=4, n_estimators=150 \n",
      "[CV]  max_depth=3, min_samples_leaf=17, min_samples_split=4, n_estimators=150, total=   0.2s\n",
      "[CV] max_depth=3, min_samples_leaf=17, min_samples_split=4, n_estimators=200 \n",
      "[CV]  max_depth=3, min_samples_leaf=17, min_samples_split=4, n_estimators=200, total=   0.3s\n",
      "[CV] max_depth=3, min_samples_leaf=17, min_samples_split=4, n_estimators=200 \n",
      "[CV]  max_depth=3, min_samples_leaf=17, min_samples_split=4, n_estimators=200, total=   0.3s\n",
      "[CV] max_depth=3, min_samples_leaf=17, min_samples_split=4, n_estimators=200 \n",
      "[CV]  max_depth=3, min_samples_leaf=17, min_samples_split=4, n_estimators=200, total=   0.3s\n",
      "[CV] max_depth=3, min_samples_leaf=17, min_samples_split=4, n_estimators=200 \n",
      "[CV]  max_depth=3, min_samples_leaf=17, min_samples_split=4, n_estimators=200, total=   0.3s\n",
      "[CV] max_depth=3, min_samples_leaf=17, min_samples_split=4, n_estimators=200 \n",
      "[CV]  max_depth=3, min_samples_leaf=17, min_samples_split=4, n_estimators=200, total=   0.3s\n",
      "[CV] max_depth=3, min_samples_leaf=17, min_samples_split=4, n_estimators=250 \n",
      "[CV]  max_depth=3, min_samples_leaf=17, min_samples_split=4, n_estimators=250, total=   0.4s\n",
      "[CV] max_depth=3, min_samples_leaf=17, min_samples_split=4, n_estimators=250 \n",
      "[CV]  max_depth=3, min_samples_leaf=17, min_samples_split=4, n_estimators=250, total=   0.4s\n",
      "[CV] max_depth=3, min_samples_leaf=17, min_samples_split=4, n_estimators=250 \n",
      "[CV]  max_depth=3, min_samples_leaf=17, min_samples_split=4, n_estimators=250, total=   0.4s\n",
      "[CV] max_depth=3, min_samples_leaf=17, min_samples_split=4, n_estimators=250 \n",
      "[CV]  max_depth=3, min_samples_leaf=17, min_samples_split=4, n_estimators=250, total=   0.4s\n",
      "[CV] max_depth=3, min_samples_leaf=17, min_samples_split=4, n_estimators=250 \n",
      "[CV]  max_depth=3, min_samples_leaf=17, min_samples_split=4, n_estimators=250, total=   0.4s\n",
      "[CV] max_depth=3, min_samples_leaf=17, min_samples_split=4, n_estimators=300 \n",
      "[CV]  max_depth=3, min_samples_leaf=17, min_samples_split=4, n_estimators=300, total=   0.5s\n",
      "[CV] max_depth=3, min_samples_leaf=17, min_samples_split=4, n_estimators=300 \n",
      "[CV]  max_depth=3, min_samples_leaf=17, min_samples_split=4, n_estimators=300, total=   0.4s\n",
      "[CV] max_depth=3, min_samples_leaf=17, min_samples_split=4, n_estimators=300 \n",
      "[CV]  max_depth=3, min_samples_leaf=17, min_samples_split=4, n_estimators=300, total=   0.4s\n",
      "[CV] max_depth=3, min_samples_leaf=17, min_samples_split=4, n_estimators=300 \n",
      "[CV]  max_depth=3, min_samples_leaf=17, min_samples_split=4, n_estimators=300, total=   0.4s\n",
      "[CV] max_depth=3, min_samples_leaf=17, min_samples_split=4, n_estimators=300 \n",
      "[CV]  max_depth=3, min_samples_leaf=17, min_samples_split=4, n_estimators=300, total=   0.4s\n",
      "[CV] max_depth=3, min_samples_leaf=17, min_samples_split=4, n_estimators=350 \n",
      "[CV]  max_depth=3, min_samples_leaf=17, min_samples_split=4, n_estimators=350, total=   0.5s\n",
      "[CV] max_depth=3, min_samples_leaf=17, min_samples_split=4, n_estimators=350 \n",
      "[CV]  max_depth=3, min_samples_leaf=17, min_samples_split=4, n_estimators=350, total=   0.5s\n",
      "[CV] max_depth=3, min_samples_leaf=17, min_samples_split=4, n_estimators=350 \n",
      "[CV]  max_depth=3, min_samples_leaf=17, min_samples_split=4, n_estimators=350, total=   0.6s\n",
      "[CV] max_depth=3, min_samples_leaf=17, min_samples_split=4, n_estimators=350 \n",
      "[CV]  max_depth=3, min_samples_leaf=17, min_samples_split=4, n_estimators=350, total=   0.6s\n",
      "[CV] max_depth=3, min_samples_leaf=17, min_samples_split=4, n_estimators=350 \n",
      "[CV]  max_depth=3, min_samples_leaf=17, min_samples_split=4, n_estimators=350, total=   0.9s\n",
      "[CV] max_depth=3, min_samples_leaf=17, min_samples_split=4, n_estimators=400 \n",
      "[CV]  max_depth=3, min_samples_leaf=17, min_samples_split=4, n_estimators=400, total=   0.9s\n",
      "[CV] max_depth=3, min_samples_leaf=17, min_samples_split=4, n_estimators=400 \n",
      "[CV]  max_depth=3, min_samples_leaf=17, min_samples_split=4, n_estimators=400, total=   0.7s\n",
      "[CV] max_depth=3, min_samples_leaf=17, min_samples_split=4, n_estimators=400 \n",
      "[CV]  max_depth=3, min_samples_leaf=17, min_samples_split=4, n_estimators=400, total=   0.7s\n",
      "[CV] max_depth=3, min_samples_leaf=17, min_samples_split=4, n_estimators=400 \n",
      "[CV]  max_depth=3, min_samples_leaf=17, min_samples_split=4, n_estimators=400, total=   0.7s\n",
      "[CV] max_depth=3, min_samples_leaf=17, min_samples_split=4, n_estimators=400 \n",
      "[CV]  max_depth=3, min_samples_leaf=17, min_samples_split=4, n_estimators=400, total=   0.6s\n",
      "[CV] max_depth=3, min_samples_leaf=17, min_samples_split=4, n_estimators=450 \n",
      "[CV]  max_depth=3, min_samples_leaf=17, min_samples_split=4, n_estimators=450, total=   0.7s\n",
      "[CV] max_depth=3, min_samples_leaf=17, min_samples_split=4, n_estimators=450 \n",
      "[CV]  max_depth=3, min_samples_leaf=17, min_samples_split=4, n_estimators=450, total=   0.6s\n",
      "[CV] max_depth=3, min_samples_leaf=17, min_samples_split=4, n_estimators=450 \n",
      "[CV]  max_depth=3, min_samples_leaf=17, min_samples_split=4, n_estimators=450, total=   0.7s\n",
      "[CV] max_depth=3, min_samples_leaf=17, min_samples_split=4, n_estimators=450 \n",
      "[CV]  max_depth=3, min_samples_leaf=17, min_samples_split=4, n_estimators=450, total=   0.7s\n",
      "[CV] max_depth=3, min_samples_leaf=17, min_samples_split=4, n_estimators=450 \n",
      "[CV]  max_depth=3, min_samples_leaf=17, min_samples_split=4, n_estimators=450, total=   0.7s\n",
      "[CV] max_depth=3, min_samples_leaf=17, min_samples_split=6, n_estimators=100 \n",
      "[CV]  max_depth=3, min_samples_leaf=17, min_samples_split=6, n_estimators=100, total=   0.2s\n",
      "[CV] max_depth=3, min_samples_leaf=17, min_samples_split=6, n_estimators=100 \n",
      "[CV]  max_depth=3, min_samples_leaf=17, min_samples_split=6, n_estimators=100, total=   0.2s\n",
      "[CV] max_depth=3, min_samples_leaf=17, min_samples_split=6, n_estimators=100 \n",
      "[CV]  max_depth=3, min_samples_leaf=17, min_samples_split=6, n_estimators=100, total=   0.2s\n",
      "[CV] max_depth=3, min_samples_leaf=17, min_samples_split=6, n_estimators=100 \n",
      "[CV]  max_depth=3, min_samples_leaf=17, min_samples_split=6, n_estimators=100, total=   0.2s\n",
      "[CV] max_depth=3, min_samples_leaf=17, min_samples_split=6, n_estimators=100 \n",
      "[CV]  max_depth=3, min_samples_leaf=17, min_samples_split=6, n_estimators=100, total=   0.1s\n",
      "[CV] max_depth=3, min_samples_leaf=17, min_samples_split=6, n_estimators=150 \n",
      "[CV]  max_depth=3, min_samples_leaf=17, min_samples_split=6, n_estimators=150, total=   0.2s\n",
      "[CV] max_depth=3, min_samples_leaf=17, min_samples_split=6, n_estimators=150 \n",
      "[CV]  max_depth=3, min_samples_leaf=17, min_samples_split=6, n_estimators=150, total=   0.2s\n",
      "[CV] max_depth=3, min_samples_leaf=17, min_samples_split=6, n_estimators=150 \n",
      "[CV]  max_depth=3, min_samples_leaf=17, min_samples_split=6, n_estimators=150, total=   0.2s\n",
      "[CV] max_depth=3, min_samples_leaf=17, min_samples_split=6, n_estimators=150 \n",
      "[CV]  max_depth=3, min_samples_leaf=17, min_samples_split=6, n_estimators=150, total=   0.2s\n",
      "[CV] max_depth=3, min_samples_leaf=17, min_samples_split=6, n_estimators=150 \n",
      "[CV]  max_depth=3, min_samples_leaf=17, min_samples_split=6, n_estimators=150, total=   0.2s\n",
      "[CV] max_depth=3, min_samples_leaf=17, min_samples_split=6, n_estimators=200 \n",
      "[CV]  max_depth=3, min_samples_leaf=17, min_samples_split=6, n_estimators=200, total=   0.3s\n",
      "[CV] max_depth=3, min_samples_leaf=17, min_samples_split=6, n_estimators=200 \n",
      "[CV]  max_depth=3, min_samples_leaf=17, min_samples_split=6, n_estimators=200, total=   0.4s\n",
      "[CV] max_depth=3, min_samples_leaf=17, min_samples_split=6, n_estimators=200 \n",
      "[CV]  max_depth=3, min_samples_leaf=17, min_samples_split=6, n_estimators=200, total=   0.3s\n",
      "[CV] max_depth=3, min_samples_leaf=17, min_samples_split=6, n_estimators=200 \n"
     ]
    },
    {
     "name": "stdout",
     "output_type": "stream",
     "text": [
      "[CV]  max_depth=3, min_samples_leaf=17, min_samples_split=6, n_estimators=200, total=   0.3s\n",
      "[CV] max_depth=3, min_samples_leaf=17, min_samples_split=6, n_estimators=200 \n",
      "[CV]  max_depth=3, min_samples_leaf=17, min_samples_split=6, n_estimators=200, total=   0.4s\n",
      "[CV] max_depth=3, min_samples_leaf=17, min_samples_split=6, n_estimators=250 \n",
      "[CV]  max_depth=3, min_samples_leaf=17, min_samples_split=6, n_estimators=250, total=   0.4s\n",
      "[CV] max_depth=3, min_samples_leaf=17, min_samples_split=6, n_estimators=250 \n",
      "[CV]  max_depth=3, min_samples_leaf=17, min_samples_split=6, n_estimators=250, total=   0.5s\n",
      "[CV] max_depth=3, min_samples_leaf=17, min_samples_split=6, n_estimators=250 \n",
      "[CV]  max_depth=3, min_samples_leaf=17, min_samples_split=6, n_estimators=250, total=   0.4s\n",
      "[CV] max_depth=3, min_samples_leaf=17, min_samples_split=6, n_estimators=250 \n",
      "[CV]  max_depth=3, min_samples_leaf=17, min_samples_split=6, n_estimators=250, total=   0.4s\n",
      "[CV] max_depth=3, min_samples_leaf=17, min_samples_split=6, n_estimators=250 \n",
      "[CV]  max_depth=3, min_samples_leaf=17, min_samples_split=6, n_estimators=250, total=   0.4s\n",
      "[CV] max_depth=3, min_samples_leaf=17, min_samples_split=6, n_estimators=300 \n",
      "[CV]  max_depth=3, min_samples_leaf=17, min_samples_split=6, n_estimators=300, total=   0.4s\n",
      "[CV] max_depth=3, min_samples_leaf=17, min_samples_split=6, n_estimators=300 \n",
      "[CV]  max_depth=3, min_samples_leaf=17, min_samples_split=6, n_estimators=300, total=   0.4s\n",
      "[CV] max_depth=3, min_samples_leaf=17, min_samples_split=6, n_estimators=300 \n",
      "[CV]  max_depth=3, min_samples_leaf=17, min_samples_split=6, n_estimators=300, total=   0.4s\n",
      "[CV] max_depth=3, min_samples_leaf=17, min_samples_split=6, n_estimators=300 \n",
      "[CV]  max_depth=3, min_samples_leaf=17, min_samples_split=6, n_estimators=300, total=   0.4s\n",
      "[CV] max_depth=3, min_samples_leaf=17, min_samples_split=6, n_estimators=300 \n",
      "[CV]  max_depth=3, min_samples_leaf=17, min_samples_split=6, n_estimators=300, total=   0.4s\n",
      "[CV] max_depth=3, min_samples_leaf=17, min_samples_split=6, n_estimators=350 \n",
      "[CV]  max_depth=3, min_samples_leaf=17, min_samples_split=6, n_estimators=350, total=   0.5s\n",
      "[CV] max_depth=3, min_samples_leaf=17, min_samples_split=6, n_estimators=350 \n",
      "[CV]  max_depth=3, min_samples_leaf=17, min_samples_split=6, n_estimators=350, total=   0.5s\n",
      "[CV] max_depth=3, min_samples_leaf=17, min_samples_split=6, n_estimators=350 \n",
      "[CV]  max_depth=3, min_samples_leaf=17, min_samples_split=6, n_estimators=350, total=   0.5s\n",
      "[CV] max_depth=3, min_samples_leaf=17, min_samples_split=6, n_estimators=350 \n",
      "[CV]  max_depth=3, min_samples_leaf=17, min_samples_split=6, n_estimators=350, total=   0.6s\n",
      "[CV] max_depth=3, min_samples_leaf=17, min_samples_split=6, n_estimators=350 \n",
      "[CV]  max_depth=3, min_samples_leaf=17, min_samples_split=6, n_estimators=350, total=   0.5s\n",
      "[CV] max_depth=3, min_samples_leaf=17, min_samples_split=6, n_estimators=400 \n",
      "[CV]  max_depth=3, min_samples_leaf=17, min_samples_split=6, n_estimators=400, total=   0.6s\n",
      "[CV] max_depth=3, min_samples_leaf=17, min_samples_split=6, n_estimators=400 \n",
      "[CV]  max_depth=3, min_samples_leaf=17, min_samples_split=6, n_estimators=400, total=   0.6s\n",
      "[CV] max_depth=3, min_samples_leaf=17, min_samples_split=6, n_estimators=400 \n",
      "[CV]  max_depth=3, min_samples_leaf=17, min_samples_split=6, n_estimators=400, total=   0.6s\n",
      "[CV] max_depth=3, min_samples_leaf=17, min_samples_split=6, n_estimators=400 \n",
      "[CV]  max_depth=3, min_samples_leaf=17, min_samples_split=6, n_estimators=400, total=   0.6s\n",
      "[CV] max_depth=3, min_samples_leaf=17, min_samples_split=6, n_estimators=400 \n",
      "[CV]  max_depth=3, min_samples_leaf=17, min_samples_split=6, n_estimators=400, total=   0.6s\n",
      "[CV] max_depth=3, min_samples_leaf=17, min_samples_split=6, n_estimators=450 \n",
      "[CV]  max_depth=3, min_samples_leaf=17, min_samples_split=6, n_estimators=450, total=   0.6s\n",
      "[CV] max_depth=3, min_samples_leaf=17, min_samples_split=6, n_estimators=450 \n",
      "[CV]  max_depth=3, min_samples_leaf=17, min_samples_split=6, n_estimators=450, total=   0.6s\n",
      "[CV] max_depth=3, min_samples_leaf=17, min_samples_split=6, n_estimators=450 \n",
      "[CV]  max_depth=3, min_samples_leaf=17, min_samples_split=6, n_estimators=450, total=   0.7s\n",
      "[CV] max_depth=3, min_samples_leaf=17, min_samples_split=6, n_estimators=450 \n",
      "[CV]  max_depth=3, min_samples_leaf=17, min_samples_split=6, n_estimators=450, total=   0.7s\n",
      "[CV] max_depth=3, min_samples_leaf=17, min_samples_split=6, n_estimators=450 \n",
      "[CV]  max_depth=3, min_samples_leaf=17, min_samples_split=6, n_estimators=450, total=   0.7s\n",
      "[CV] max_depth=3, min_samples_leaf=19, min_samples_split=2, n_estimators=100 \n",
      "[CV]  max_depth=3, min_samples_leaf=19, min_samples_split=2, n_estimators=100, total=   0.1s\n",
      "[CV] max_depth=3, min_samples_leaf=19, min_samples_split=2, n_estimators=100 \n",
      "[CV]  max_depth=3, min_samples_leaf=19, min_samples_split=2, n_estimators=100, total=   0.2s\n",
      "[CV] max_depth=3, min_samples_leaf=19, min_samples_split=2, n_estimators=100 \n",
      "[CV]  max_depth=3, min_samples_leaf=19, min_samples_split=2, n_estimators=100, total=   0.1s\n",
      "[CV] max_depth=3, min_samples_leaf=19, min_samples_split=2, n_estimators=100 \n",
      "[CV]  max_depth=3, min_samples_leaf=19, min_samples_split=2, n_estimators=100, total=   0.2s\n",
      "[CV] max_depth=3, min_samples_leaf=19, min_samples_split=2, n_estimators=100 \n",
      "[CV]  max_depth=3, min_samples_leaf=19, min_samples_split=2, n_estimators=100, total=   0.1s\n",
      "[CV] max_depth=3, min_samples_leaf=19, min_samples_split=2, n_estimators=150 \n",
      "[CV]  max_depth=3, min_samples_leaf=19, min_samples_split=2, n_estimators=150, total=   0.2s\n",
      "[CV] max_depth=3, min_samples_leaf=19, min_samples_split=2, n_estimators=150 \n",
      "[CV]  max_depth=3, min_samples_leaf=19, min_samples_split=2, n_estimators=150, total=   0.2s\n",
      "[CV] max_depth=3, min_samples_leaf=19, min_samples_split=2, n_estimators=150 \n",
      "[CV]  max_depth=3, min_samples_leaf=19, min_samples_split=2, n_estimators=150, total=   0.2s\n",
      "[CV] max_depth=3, min_samples_leaf=19, min_samples_split=2, n_estimators=150 \n",
      "[CV]  max_depth=3, min_samples_leaf=19, min_samples_split=2, n_estimators=150, total=   0.2s\n",
      "[CV] max_depth=3, min_samples_leaf=19, min_samples_split=2, n_estimators=150 \n",
      "[CV]  max_depth=3, min_samples_leaf=19, min_samples_split=2, n_estimators=150, total=   0.3s\n",
      "[CV] max_depth=3, min_samples_leaf=19, min_samples_split=2, n_estimators=200 \n",
      "[CV]  max_depth=3, min_samples_leaf=19, min_samples_split=2, n_estimators=200, total=   0.3s\n",
      "[CV] max_depth=3, min_samples_leaf=19, min_samples_split=2, n_estimators=200 \n",
      "[CV]  max_depth=3, min_samples_leaf=19, min_samples_split=2, n_estimators=200, total=   0.3s\n",
      "[CV] max_depth=3, min_samples_leaf=19, min_samples_split=2, n_estimators=200 \n",
      "[CV]  max_depth=3, min_samples_leaf=19, min_samples_split=2, n_estimators=200, total=   0.3s\n",
      "[CV] max_depth=3, min_samples_leaf=19, min_samples_split=2, n_estimators=200 \n",
      "[CV]  max_depth=3, min_samples_leaf=19, min_samples_split=2, n_estimators=200, total=   0.3s\n",
      "[CV] max_depth=3, min_samples_leaf=19, min_samples_split=2, n_estimators=200 \n",
      "[CV]  max_depth=3, min_samples_leaf=19, min_samples_split=2, n_estimators=200, total=   0.3s\n",
      "[CV] max_depth=3, min_samples_leaf=19, min_samples_split=2, n_estimators=250 \n",
      "[CV]  max_depth=3, min_samples_leaf=19, min_samples_split=2, n_estimators=250, total=   0.4s\n",
      "[CV] max_depth=3, min_samples_leaf=19, min_samples_split=2, n_estimators=250 \n",
      "[CV]  max_depth=3, min_samples_leaf=19, min_samples_split=2, n_estimators=250, total=   0.4s\n",
      "[CV] max_depth=3, min_samples_leaf=19, min_samples_split=2, n_estimators=250 \n",
      "[CV]  max_depth=3, min_samples_leaf=19, min_samples_split=2, n_estimators=250, total=   0.4s\n",
      "[CV] max_depth=3, min_samples_leaf=19, min_samples_split=2, n_estimators=250 \n",
      "[CV]  max_depth=3, min_samples_leaf=19, min_samples_split=2, n_estimators=250, total=   0.4s\n",
      "[CV] max_depth=3, min_samples_leaf=19, min_samples_split=2, n_estimators=250 \n",
      "[CV]  max_depth=3, min_samples_leaf=19, min_samples_split=2, n_estimators=250, total=   0.4s\n",
      "[CV] max_depth=3, min_samples_leaf=19, min_samples_split=2, n_estimators=300 \n",
      "[CV]  max_depth=3, min_samples_leaf=19, min_samples_split=2, n_estimators=300, total=   0.4s\n",
      "[CV] max_depth=3, min_samples_leaf=19, min_samples_split=2, n_estimators=300 \n"
     ]
    },
    {
     "name": "stdout",
     "output_type": "stream",
     "text": [
      "[CV]  max_depth=3, min_samples_leaf=19, min_samples_split=2, n_estimators=300, total=   0.4s\n",
      "[CV] max_depth=3, min_samples_leaf=19, min_samples_split=2, n_estimators=300 \n",
      "[CV]  max_depth=3, min_samples_leaf=19, min_samples_split=2, n_estimators=300, total=   0.4s\n",
      "[CV] max_depth=3, min_samples_leaf=19, min_samples_split=2, n_estimators=300 \n",
      "[CV]  max_depth=3, min_samples_leaf=19, min_samples_split=2, n_estimators=300, total=   0.4s\n",
      "[CV] max_depth=3, min_samples_leaf=19, min_samples_split=2, n_estimators=300 \n",
      "[CV]  max_depth=3, min_samples_leaf=19, min_samples_split=2, n_estimators=300, total=   0.4s\n",
      "[CV] max_depth=3, min_samples_leaf=19, min_samples_split=2, n_estimators=350 \n",
      "[CV]  max_depth=3, min_samples_leaf=19, min_samples_split=2, n_estimators=350, total=   0.5s\n",
      "[CV] max_depth=3, min_samples_leaf=19, min_samples_split=2, n_estimators=350 \n",
      "[CV]  max_depth=3, min_samples_leaf=19, min_samples_split=2, n_estimators=350, total=   0.5s\n",
      "[CV] max_depth=3, min_samples_leaf=19, min_samples_split=2, n_estimators=350 \n",
      "[CV]  max_depth=3, min_samples_leaf=19, min_samples_split=2, n_estimators=350, total=   0.5s\n",
      "[CV] max_depth=3, min_samples_leaf=19, min_samples_split=2, n_estimators=350 \n",
      "[CV]  max_depth=3, min_samples_leaf=19, min_samples_split=2, n_estimators=350, total=   0.6s\n",
      "[CV] max_depth=3, min_samples_leaf=19, min_samples_split=2, n_estimators=350 \n",
      "[CV]  max_depth=3, min_samples_leaf=19, min_samples_split=2, n_estimators=350, total=   0.5s\n",
      "[CV] max_depth=3, min_samples_leaf=19, min_samples_split=2, n_estimators=400 \n",
      "[CV]  max_depth=3, min_samples_leaf=19, min_samples_split=2, n_estimators=400, total=   0.6s\n",
      "[CV] max_depth=3, min_samples_leaf=19, min_samples_split=2, n_estimators=400 \n",
      "[CV]  max_depth=3, min_samples_leaf=19, min_samples_split=2, n_estimators=400, total=   1.2s\n",
      "[CV] max_depth=3, min_samples_leaf=19, min_samples_split=2, n_estimators=400 \n",
      "[CV]  max_depth=3, min_samples_leaf=19, min_samples_split=2, n_estimators=400, total=   0.9s\n",
      "[CV] max_depth=3, min_samples_leaf=19, min_samples_split=2, n_estimators=400 \n",
      "[CV]  max_depth=3, min_samples_leaf=19, min_samples_split=2, n_estimators=400, total=   0.7s\n",
      "[CV] max_depth=3, min_samples_leaf=19, min_samples_split=2, n_estimators=400 \n",
      "[CV]  max_depth=3, min_samples_leaf=19, min_samples_split=2, n_estimators=400, total=   0.6s\n",
      "[CV] max_depth=3, min_samples_leaf=19, min_samples_split=2, n_estimators=450 \n",
      "[CV]  max_depth=3, min_samples_leaf=19, min_samples_split=2, n_estimators=450, total=   0.7s\n",
      "[CV] max_depth=3, min_samples_leaf=19, min_samples_split=2, n_estimators=450 \n",
      "[CV]  max_depth=3, min_samples_leaf=19, min_samples_split=2, n_estimators=450, total=   0.7s\n",
      "[CV] max_depth=3, min_samples_leaf=19, min_samples_split=2, n_estimators=450 \n",
      "[CV]  max_depth=3, min_samples_leaf=19, min_samples_split=2, n_estimators=450, total=   0.8s\n",
      "[CV] max_depth=3, min_samples_leaf=19, min_samples_split=2, n_estimators=450 \n",
      "[CV]  max_depth=3, min_samples_leaf=19, min_samples_split=2, n_estimators=450, total=   0.7s\n",
      "[CV] max_depth=3, min_samples_leaf=19, min_samples_split=2, n_estimators=450 \n",
      "[CV]  max_depth=3, min_samples_leaf=19, min_samples_split=2, n_estimators=450, total=   0.6s\n",
      "[CV] max_depth=3, min_samples_leaf=19, min_samples_split=4, n_estimators=100 \n",
      "[CV]  max_depth=3, min_samples_leaf=19, min_samples_split=4, n_estimators=100, total=   0.1s\n",
      "[CV] max_depth=3, min_samples_leaf=19, min_samples_split=4, n_estimators=100 \n",
      "[CV]  max_depth=3, min_samples_leaf=19, min_samples_split=4, n_estimators=100, total=   0.2s\n",
      "[CV] max_depth=3, min_samples_leaf=19, min_samples_split=4, n_estimators=100 \n",
      "[CV]  max_depth=3, min_samples_leaf=19, min_samples_split=4, n_estimators=100, total=   0.1s\n",
      "[CV] max_depth=3, min_samples_leaf=19, min_samples_split=4, n_estimators=100 \n",
      "[CV]  max_depth=3, min_samples_leaf=19, min_samples_split=4, n_estimators=100, total=   0.2s\n",
      "[CV] max_depth=3, min_samples_leaf=19, min_samples_split=4, n_estimators=100 \n",
      "[CV]  max_depth=3, min_samples_leaf=19, min_samples_split=4, n_estimators=100, total=   0.1s\n",
      "[CV] max_depth=3, min_samples_leaf=19, min_samples_split=4, n_estimators=150 \n",
      "[CV]  max_depth=3, min_samples_leaf=19, min_samples_split=4, n_estimators=150, total=   0.2s\n",
      "[CV] max_depth=3, min_samples_leaf=19, min_samples_split=4, n_estimators=150 \n",
      "[CV]  max_depth=3, min_samples_leaf=19, min_samples_split=4, n_estimators=150, total=   0.2s\n",
      "[CV] max_depth=3, min_samples_leaf=19, min_samples_split=4, n_estimators=150 \n",
      "[CV]  max_depth=3, min_samples_leaf=19, min_samples_split=4, n_estimators=150, total=   0.2s\n",
      "[CV] max_depth=3, min_samples_leaf=19, min_samples_split=4, n_estimators=150 \n",
      "[CV]  max_depth=3, min_samples_leaf=19, min_samples_split=4, n_estimators=150, total=   0.2s\n",
      "[CV] max_depth=3, min_samples_leaf=19, min_samples_split=4, n_estimators=150 \n",
      "[CV]  max_depth=3, min_samples_leaf=19, min_samples_split=4, n_estimators=150, total=   0.2s\n",
      "[CV] max_depth=3, min_samples_leaf=19, min_samples_split=4, n_estimators=200 \n",
      "[CV]  max_depth=3, min_samples_leaf=19, min_samples_split=4, n_estimators=200, total=   0.3s\n",
      "[CV] max_depth=3, min_samples_leaf=19, min_samples_split=4, n_estimators=200 \n",
      "[CV]  max_depth=3, min_samples_leaf=19, min_samples_split=4, n_estimators=200, total=   0.3s\n",
      "[CV] max_depth=3, min_samples_leaf=19, min_samples_split=4, n_estimators=200 \n",
      "[CV]  max_depth=3, min_samples_leaf=19, min_samples_split=4, n_estimators=200, total=   0.3s\n",
      "[CV] max_depth=3, min_samples_leaf=19, min_samples_split=4, n_estimators=200 \n",
      "[CV]  max_depth=3, min_samples_leaf=19, min_samples_split=4, n_estimators=200, total=   0.3s\n",
      "[CV] max_depth=3, min_samples_leaf=19, min_samples_split=4, n_estimators=200 \n",
      "[CV]  max_depth=3, min_samples_leaf=19, min_samples_split=4, n_estimators=200, total=   0.3s\n",
      "[CV] max_depth=3, min_samples_leaf=19, min_samples_split=4, n_estimators=250 \n",
      "[CV]  max_depth=3, min_samples_leaf=19, min_samples_split=4, n_estimators=250, total=   0.4s\n",
      "[CV] max_depth=3, min_samples_leaf=19, min_samples_split=4, n_estimators=250 \n",
      "[CV]  max_depth=3, min_samples_leaf=19, min_samples_split=4, n_estimators=250, total=   0.4s\n",
      "[CV] max_depth=3, min_samples_leaf=19, min_samples_split=4, n_estimators=250 \n",
      "[CV]  max_depth=3, min_samples_leaf=19, min_samples_split=4, n_estimators=250, total=   0.4s\n",
      "[CV] max_depth=3, min_samples_leaf=19, min_samples_split=4, n_estimators=250 \n",
      "[CV]  max_depth=3, min_samples_leaf=19, min_samples_split=4, n_estimators=250, total=   0.4s\n",
      "[CV] max_depth=3, min_samples_leaf=19, min_samples_split=4, n_estimators=250 \n",
      "[CV]  max_depth=3, min_samples_leaf=19, min_samples_split=4, n_estimators=250, total=   0.4s\n",
      "[CV] max_depth=3, min_samples_leaf=19, min_samples_split=4, n_estimators=300 \n",
      "[CV]  max_depth=3, min_samples_leaf=19, min_samples_split=4, n_estimators=300, total=   0.5s\n",
      "[CV] max_depth=3, min_samples_leaf=19, min_samples_split=4, n_estimators=300 \n",
      "[CV]  max_depth=3, min_samples_leaf=19, min_samples_split=4, n_estimators=300, total=   0.4s\n",
      "[CV] max_depth=3, min_samples_leaf=19, min_samples_split=4, n_estimators=300 \n",
      "[CV]  max_depth=3, min_samples_leaf=19, min_samples_split=4, n_estimators=300, total=   0.4s\n",
      "[CV] max_depth=3, min_samples_leaf=19, min_samples_split=4, n_estimators=300 \n",
      "[CV]  max_depth=3, min_samples_leaf=19, min_samples_split=4, n_estimators=300, total=   0.4s\n",
      "[CV] max_depth=3, min_samples_leaf=19, min_samples_split=4, n_estimators=300 \n",
      "[CV]  max_depth=3, min_samples_leaf=19, min_samples_split=4, n_estimators=300, total=   0.4s\n",
      "[CV] max_depth=3, min_samples_leaf=19, min_samples_split=4, n_estimators=350 \n",
      "[CV]  max_depth=3, min_samples_leaf=19, min_samples_split=4, n_estimators=350, total=   0.5s\n",
      "[CV] max_depth=3, min_samples_leaf=19, min_samples_split=4, n_estimators=350 \n",
      "[CV]  max_depth=3, min_samples_leaf=19, min_samples_split=4, n_estimators=350, total=   0.5s\n",
      "[CV] max_depth=3, min_samples_leaf=19, min_samples_split=4, n_estimators=350 \n",
      "[CV]  max_depth=3, min_samples_leaf=19, min_samples_split=4, n_estimators=350, total=   0.5s\n",
      "[CV] max_depth=3, min_samples_leaf=19, min_samples_split=4, n_estimators=350 \n",
      "[CV]  max_depth=3, min_samples_leaf=19, min_samples_split=4, n_estimators=350, total=   0.5s\n",
      "[CV] max_depth=3, min_samples_leaf=19, min_samples_split=4, n_estimators=350 \n"
     ]
    },
    {
     "name": "stdout",
     "output_type": "stream",
     "text": [
      "[CV]  max_depth=3, min_samples_leaf=19, min_samples_split=4, n_estimators=350, total=   0.5s\n",
      "[CV] max_depth=3, min_samples_leaf=19, min_samples_split=4, n_estimators=400 \n",
      "[CV]  max_depth=3, min_samples_leaf=19, min_samples_split=4, n_estimators=400, total=   0.6s\n",
      "[CV] max_depth=3, min_samples_leaf=19, min_samples_split=4, n_estimators=400 \n",
      "[CV]  max_depth=3, min_samples_leaf=19, min_samples_split=4, n_estimators=400, total=   0.6s\n",
      "[CV] max_depth=3, min_samples_leaf=19, min_samples_split=4, n_estimators=400 \n",
      "[CV]  max_depth=3, min_samples_leaf=19, min_samples_split=4, n_estimators=400, total=   0.6s\n",
      "[CV] max_depth=3, min_samples_leaf=19, min_samples_split=4, n_estimators=400 \n",
      "[CV]  max_depth=3, min_samples_leaf=19, min_samples_split=4, n_estimators=400, total=   0.6s\n",
      "[CV] max_depth=3, min_samples_leaf=19, min_samples_split=4, n_estimators=400 \n",
      "[CV]  max_depth=3, min_samples_leaf=19, min_samples_split=4, n_estimators=400, total=   0.6s\n",
      "[CV] max_depth=3, min_samples_leaf=19, min_samples_split=4, n_estimators=450 \n",
      "[CV]  max_depth=3, min_samples_leaf=19, min_samples_split=4, n_estimators=450, total=   0.6s\n",
      "[CV] max_depth=3, min_samples_leaf=19, min_samples_split=4, n_estimators=450 \n",
      "[CV]  max_depth=3, min_samples_leaf=19, min_samples_split=4, n_estimators=450, total=   0.6s\n",
      "[CV] max_depth=3, min_samples_leaf=19, min_samples_split=4, n_estimators=450 \n",
      "[CV]  max_depth=3, min_samples_leaf=19, min_samples_split=4, n_estimators=450, total=   0.6s\n",
      "[CV] max_depth=3, min_samples_leaf=19, min_samples_split=4, n_estimators=450 \n",
      "[CV]  max_depth=3, min_samples_leaf=19, min_samples_split=4, n_estimators=450, total=   0.6s\n",
      "[CV] max_depth=3, min_samples_leaf=19, min_samples_split=4, n_estimators=450 \n",
      "[CV]  max_depth=3, min_samples_leaf=19, min_samples_split=4, n_estimators=450, total=   0.6s\n",
      "[CV] max_depth=3, min_samples_leaf=19, min_samples_split=6, n_estimators=100 \n",
      "[CV]  max_depth=3, min_samples_leaf=19, min_samples_split=6, n_estimators=100, total=   0.1s\n",
      "[CV] max_depth=3, min_samples_leaf=19, min_samples_split=6, n_estimators=100 \n",
      "[CV]  max_depth=3, min_samples_leaf=19, min_samples_split=6, n_estimators=100, total=   0.2s\n",
      "[CV] max_depth=3, min_samples_leaf=19, min_samples_split=6, n_estimators=100 \n",
      "[CV]  max_depth=3, min_samples_leaf=19, min_samples_split=6, n_estimators=100, total=   0.1s\n",
      "[CV] max_depth=3, min_samples_leaf=19, min_samples_split=6, n_estimators=100 \n",
      "[CV]  max_depth=3, min_samples_leaf=19, min_samples_split=6, n_estimators=100, total=   0.1s\n",
      "[CV] max_depth=3, min_samples_leaf=19, min_samples_split=6, n_estimators=100 \n",
      "[CV]  max_depth=3, min_samples_leaf=19, min_samples_split=6, n_estimators=100, total=   0.1s\n",
      "[CV] max_depth=3, min_samples_leaf=19, min_samples_split=6, n_estimators=150 \n",
      "[CV]  max_depth=3, min_samples_leaf=19, min_samples_split=6, n_estimators=150, total=   0.2s\n",
      "[CV] max_depth=3, min_samples_leaf=19, min_samples_split=6, n_estimators=150 \n",
      "[CV]  max_depth=3, min_samples_leaf=19, min_samples_split=6, n_estimators=150, total=   0.2s\n",
      "[CV] max_depth=3, min_samples_leaf=19, min_samples_split=6, n_estimators=150 \n",
      "[CV]  max_depth=3, min_samples_leaf=19, min_samples_split=6, n_estimators=150, total=   0.2s\n",
      "[CV] max_depth=3, min_samples_leaf=19, min_samples_split=6, n_estimators=150 \n",
      "[CV]  max_depth=3, min_samples_leaf=19, min_samples_split=6, n_estimators=150, total=   0.2s\n",
      "[CV] max_depth=3, min_samples_leaf=19, min_samples_split=6, n_estimators=150 \n",
      "[CV]  max_depth=3, min_samples_leaf=19, min_samples_split=6, n_estimators=150, total=   0.2s\n",
      "[CV] max_depth=3, min_samples_leaf=19, min_samples_split=6, n_estimators=200 \n",
      "[CV]  max_depth=3, min_samples_leaf=19, min_samples_split=6, n_estimators=200, total=   0.3s\n",
      "[CV] max_depth=3, min_samples_leaf=19, min_samples_split=6, n_estimators=200 \n",
      "[CV]  max_depth=3, min_samples_leaf=19, min_samples_split=6, n_estimators=200, total=   0.3s\n",
      "[CV] max_depth=3, min_samples_leaf=19, min_samples_split=6, n_estimators=200 \n",
      "[CV]  max_depth=3, min_samples_leaf=19, min_samples_split=6, n_estimators=200, total=   0.3s\n",
      "[CV] max_depth=3, min_samples_leaf=19, min_samples_split=6, n_estimators=200 \n",
      "[CV]  max_depth=3, min_samples_leaf=19, min_samples_split=6, n_estimators=200, total=   0.3s\n",
      "[CV] max_depth=3, min_samples_leaf=19, min_samples_split=6, n_estimators=200 \n",
      "[CV]  max_depth=3, min_samples_leaf=19, min_samples_split=6, n_estimators=200, total=   0.3s\n",
      "[CV] max_depth=3, min_samples_leaf=19, min_samples_split=6, n_estimators=250 \n",
      "[CV]  max_depth=3, min_samples_leaf=19, min_samples_split=6, n_estimators=250, total=   0.4s\n",
      "[CV] max_depth=3, min_samples_leaf=19, min_samples_split=6, n_estimators=250 \n",
      "[CV]  max_depth=3, min_samples_leaf=19, min_samples_split=6, n_estimators=250, total=   0.4s\n",
      "[CV] max_depth=3, min_samples_leaf=19, min_samples_split=6, n_estimators=250 \n",
      "[CV]  max_depth=3, min_samples_leaf=19, min_samples_split=6, n_estimators=250, total=   0.4s\n",
      "[CV] max_depth=3, min_samples_leaf=19, min_samples_split=6, n_estimators=250 \n",
      "[CV]  max_depth=3, min_samples_leaf=19, min_samples_split=6, n_estimators=250, total=   0.4s\n",
      "[CV] max_depth=3, min_samples_leaf=19, min_samples_split=6, n_estimators=250 \n",
      "[CV]  max_depth=3, min_samples_leaf=19, min_samples_split=6, n_estimators=250, total=   0.4s\n",
      "[CV] max_depth=3, min_samples_leaf=19, min_samples_split=6, n_estimators=300 \n",
      "[CV]  max_depth=3, min_samples_leaf=19, min_samples_split=6, n_estimators=300, total=   0.4s\n",
      "[CV] max_depth=3, min_samples_leaf=19, min_samples_split=6, n_estimators=300 \n",
      "[CV]  max_depth=3, min_samples_leaf=19, min_samples_split=6, n_estimators=300, total=   0.4s\n",
      "[CV] max_depth=3, min_samples_leaf=19, min_samples_split=6, n_estimators=300 \n",
      "[CV]  max_depth=3, min_samples_leaf=19, min_samples_split=6, n_estimators=300, total=   0.4s\n",
      "[CV] max_depth=3, min_samples_leaf=19, min_samples_split=6, n_estimators=300 \n",
      "[CV]  max_depth=3, min_samples_leaf=19, min_samples_split=6, n_estimators=300, total=   0.4s\n",
      "[CV] max_depth=3, min_samples_leaf=19, min_samples_split=6, n_estimators=300 \n",
      "[CV]  max_depth=3, min_samples_leaf=19, min_samples_split=6, n_estimators=300, total=   0.4s\n",
      "[CV] max_depth=3, min_samples_leaf=19, min_samples_split=6, n_estimators=350 \n",
      "[CV]  max_depth=3, min_samples_leaf=19, min_samples_split=6, n_estimators=350, total=   0.5s\n",
      "[CV] max_depth=3, min_samples_leaf=19, min_samples_split=6, n_estimators=350 \n",
      "[CV]  max_depth=3, min_samples_leaf=19, min_samples_split=6, n_estimators=350, total=   0.5s\n",
      "[CV] max_depth=3, min_samples_leaf=19, min_samples_split=6, n_estimators=350 \n",
      "[CV]  max_depth=3, min_samples_leaf=19, min_samples_split=6, n_estimators=350, total=   0.5s\n",
      "[CV] max_depth=3, min_samples_leaf=19, min_samples_split=6, n_estimators=350 \n",
      "[CV]  max_depth=3, min_samples_leaf=19, min_samples_split=6, n_estimators=350, total=   0.5s\n",
      "[CV] max_depth=3, min_samples_leaf=19, min_samples_split=6, n_estimators=350 \n",
      "[CV]  max_depth=3, min_samples_leaf=19, min_samples_split=6, n_estimators=350, total=   0.5s\n",
      "[CV] max_depth=3, min_samples_leaf=19, min_samples_split=6, n_estimators=400 \n",
      "[CV]  max_depth=3, min_samples_leaf=19, min_samples_split=6, n_estimators=400, total=   0.6s\n",
      "[CV] max_depth=3, min_samples_leaf=19, min_samples_split=6, n_estimators=400 \n",
      "[CV]  max_depth=3, min_samples_leaf=19, min_samples_split=6, n_estimators=400, total=   0.6s\n",
      "[CV] max_depth=3, min_samples_leaf=19, min_samples_split=6, n_estimators=400 \n",
      "[CV]  max_depth=3, min_samples_leaf=19, min_samples_split=6, n_estimators=400, total=   0.6s\n",
      "[CV] max_depth=3, min_samples_leaf=19, min_samples_split=6, n_estimators=400 \n",
      "[CV]  max_depth=3, min_samples_leaf=19, min_samples_split=6, n_estimators=400, total=   0.6s\n",
      "[CV] max_depth=3, min_samples_leaf=19, min_samples_split=6, n_estimators=400 \n",
      "[CV]  max_depth=3, min_samples_leaf=19, min_samples_split=6, n_estimators=400, total=   0.6s\n",
      "[CV] max_depth=3, min_samples_leaf=19, min_samples_split=6, n_estimators=450 \n",
      "[CV]  max_depth=3, min_samples_leaf=19, min_samples_split=6, n_estimators=450, total=   0.7s\n",
      "[CV] max_depth=3, min_samples_leaf=19, min_samples_split=6, n_estimators=450 \n",
      "[CV]  max_depth=3, min_samples_leaf=19, min_samples_split=6, n_estimators=450, total=   0.6s\n",
      "[CV] max_depth=3, min_samples_leaf=19, min_samples_split=6, n_estimators=450 \n"
     ]
    },
    {
     "name": "stdout",
     "output_type": "stream",
     "text": [
      "[CV]  max_depth=3, min_samples_leaf=19, min_samples_split=6, n_estimators=450, total=   0.6s\n",
      "[CV] max_depth=3, min_samples_leaf=19, min_samples_split=6, n_estimators=450 \n",
      "[CV]  max_depth=3, min_samples_leaf=19, min_samples_split=6, n_estimators=450, total=   0.6s\n",
      "[CV] max_depth=3, min_samples_leaf=19, min_samples_split=6, n_estimators=450 \n",
      "[CV]  max_depth=3, min_samples_leaf=19, min_samples_split=6, n_estimators=450, total=   0.6s\n"
     ]
    },
    {
     "name": "stderr",
     "output_type": "stream",
     "text": [
      "[Parallel(n_jobs=1)]: Done 480 out of 480 | elapsed:  3.3min finished\n"
     ]
    },
    {
     "data": {
      "text/plain": [
       "GridSearchCV(estimator=RandomForestClassifier(),\n",
       "             param_grid={'max_depth': [None, 3],\n",
       "                         'min_samples_leaf': array([17, 19]),\n",
       "                         'min_samples_split': array([2, 4, 6]),\n",
       "                         'n_estimators': array([100, 150, 200, 250, 300, 350, 400, 450])},\n",
       "             verbose=2)"
      ]
     },
     "execution_count": 191,
     "metadata": {},
     "output_type": "execute_result"
    }
   ],
   "source": [
    "#Grid search \n",
    "# default cv =5\n",
    "rf_grid = GridSearchCV(RandomForestClassifier(),rf_param_grid,verbose=2)\n",
    "#train data \n",
    "rf_grid.fit(X_train,y_train)"
   ]
  },
  {
   "cell_type": "code",
   "execution_count": 192,
   "metadata": {},
   "outputs": [
    {
     "data": {
      "text/plain": [
       "{'max_depth': 3,\n",
       " 'min_samples_leaf': 17,\n",
       " 'min_samples_split': 2,\n",
       " 'n_estimators': 250}"
      ]
     },
     "execution_count": 192,
     "metadata": {},
     "output_type": "execute_result"
    }
   ],
   "source": [
    "rf_grid.best_params_"
   ]
  },
  {
   "cell_type": "code",
   "execution_count": 193,
   "metadata": {},
   "outputs": [
    {
     "data": {
      "text/plain": [
       "0.8688524590163934"
      ]
     },
     "execution_count": 193,
     "metadata": {},
     "output_type": "execute_result"
    }
   ],
   "source": [
    "rf_grid.score(X_test,y_test)"
   ]
  },
  {
   "cell_type": "markdown",
   "metadata": {},
   "source": [
    "Pretty much same as before "
   ]
  },
  {
   "cell_type": "markdown",
   "metadata": {},
   "source": [
    "#### SVC"
   ]
  },
  {
   "cell_type": "code",
   "execution_count": 195,
   "metadata": {},
   "outputs": [
    {
     "name": "stdout",
     "output_type": "stream",
     "text": [
      "Fitting 5 folds for each of 25 candidates, totalling 125 fits\n",
      "[CV] C=0.1, gamma=1 ..................................................\n",
      "[CV] ................................... C=0.1, gamma=1, total=   0.0s\n",
      "[CV] C=0.1, gamma=1 ..................................................\n",
      "[CV] ................................... C=0.1, gamma=1, total=   0.0s\n",
      "[CV] C=0.1, gamma=1 ..................................................\n",
      "[CV] ................................... C=0.1, gamma=1, total=   0.0s\n",
      "[CV] C=0.1, gamma=1 ..................................................\n",
      "[CV] ................................... C=0.1, gamma=1, total=   0.0s\n",
      "[CV] C=0.1, gamma=1 ..................................................\n",
      "[CV] ................................... C=0.1, gamma=1, total=   0.0s\n",
      "[CV] C=0.1, gamma=0.1 ................................................\n",
      "[CV] ................................. C=0.1, gamma=0.1, total=   0.0s\n",
      "[CV] C=0.1, gamma=0.1 ................................................\n",
      "[CV] ................................. C=0.1, gamma=0.1, total=   0.0s\n",
      "[CV] C=0.1, gamma=0.1 ................................................\n",
      "[CV] ................................. C=0.1, gamma=0.1, total=   0.0s\n",
      "[CV] C=0.1, gamma=0.1 ................................................\n",
      "[CV] ................................. C=0.1, gamma=0.1, total=   0.0s\n",
      "[CV] C=0.1, gamma=0.1 ................................................\n",
      "[CV] ................................. C=0.1, gamma=0.1, total=   0.0s\n",
      "[CV] C=0.1, gamma=0.01 ...............................................\n",
      "[CV] ................................ C=0.1, gamma=0.01, total=   0.0s\n",
      "[CV] C=0.1, gamma=0.01 ...............................................\n",
      "[CV] ................................ C=0.1, gamma=0.01, total=   0.0s\n",
      "[CV] C=0.1, gamma=0.01 ...............................................\n",
      "[CV] ................................ C=0.1, gamma=0.01, total=   0.0s\n",
      "[CV] C=0.1, gamma=0.01 ...............................................\n",
      "[CV] ................................ C=0.1, gamma=0.01, total=   0.0s\n",
      "[CV] C=0.1, gamma=0.01 ...............................................\n",
      "[CV] ................................ C=0.1, gamma=0.01, total=   0.0s\n",
      "[CV] C=0.1, gamma=0.001 ..............................................\n",
      "[CV] ............................... C=0.1, gamma=0.001, total=   0.0s\n",
      "[CV] C=0.1, gamma=0.001 ..............................................\n",
      "[CV] ............................... C=0.1, gamma=0.001, total=   0.0s\n",
      "[CV] C=0.1, gamma=0.001 ..............................................\n",
      "[CV] ............................... C=0.1, gamma=0.001, total=   0.0s\n",
      "[CV] C=0.1, gamma=0.001 ..............................................\n",
      "[CV] ............................... C=0.1, gamma=0.001, total=   0.0s\n",
      "[CV] C=0.1, gamma=0.001 ..............................................\n",
      "[CV] ............................... C=0.1, gamma=0.001, total=   0.0s\n",
      "[CV] C=0.1, gamma=0.0001 .............................................\n",
      "[CV] .............................. C=0.1, gamma=0.0001, total=   0.0s\n",
      "[CV] C=0.1, gamma=0.0001 .............................................\n",
      "[CV] .............................. C=0.1, gamma=0.0001, total=   0.0s\n",
      "[CV] C=0.1, gamma=0.0001 .............................................\n",
      "[CV] .............................. C=0.1, gamma=0.0001, total=   0.0s\n",
      "[CV] C=0.1, gamma=0.0001 .............................................\n",
      "[CV] .............................. C=0.1, gamma=0.0001, total=   0.0s\n",
      "[CV] C=0.1, gamma=0.0001 .............................................\n"
     ]
    },
    {
     "name": "stderr",
     "output_type": "stream",
     "text": [
      "[Parallel(n_jobs=1)]: Using backend SequentialBackend with 1 concurrent workers.\n",
      "[Parallel(n_jobs=1)]: Done   1 out of   1 | elapsed:    0.0s remaining:    0.0s\n"
     ]
    },
    {
     "name": "stdout",
     "output_type": "stream",
     "text": [
      "[CV] .............................. C=0.1, gamma=0.0001, total=   0.0s\n",
      "[CV] C=1, gamma=1 ....................................................\n",
      "[CV] ..................................... C=1, gamma=1, total=   0.0s\n",
      "[CV] C=1, gamma=1 ....................................................\n",
      "[CV] ..................................... C=1, gamma=1, total=   0.0s\n",
      "[CV] C=1, gamma=1 ....................................................\n",
      "[CV] ..................................... C=1, gamma=1, total=   0.0s\n",
      "[CV] C=1, gamma=1 ....................................................\n",
      "[CV] ..................................... C=1, gamma=1, total=   0.0s\n",
      "[CV] C=1, gamma=1 ....................................................\n",
      "[CV] ..................................... C=1, gamma=1, total=   0.0s\n",
      "[CV] C=1, gamma=0.1 ..................................................\n",
      "[CV] ................................... C=1, gamma=0.1, total=   0.0s\n",
      "[CV] C=1, gamma=0.1 ..................................................\n",
      "[CV] ................................... C=1, gamma=0.1, total=   0.0s\n",
      "[CV] C=1, gamma=0.1 ..................................................\n",
      "[CV] ................................... C=1, gamma=0.1, total=   0.0s\n",
      "[CV] C=1, gamma=0.1 ..................................................\n",
      "[CV] ................................... C=1, gamma=0.1, total=   0.0s\n",
      "[CV] C=1, gamma=0.1 ..................................................\n",
      "[CV] ................................... C=1, gamma=0.1, total=   0.0s\n",
      "[CV] C=1, gamma=0.01 .................................................\n",
      "[CV] .................................. C=1, gamma=0.01, total=   0.0s\n",
      "[CV] C=1, gamma=0.01 .................................................\n",
      "[CV] .................................. C=1, gamma=0.01, total=   0.0s\n",
      "[CV] C=1, gamma=0.01 .................................................\n",
      "[CV] .................................. C=1, gamma=0.01, total=   0.0s\n",
      "[CV] C=1, gamma=0.01 .................................................\n",
      "[CV] .................................. C=1, gamma=0.01, total=   0.0s\n",
      "[CV] C=1, gamma=0.01 .................................................\n",
      "[CV] .................................. C=1, gamma=0.01, total=   0.0s\n",
      "[CV] C=1, gamma=0.001 ................................................\n",
      "[CV] ................................. C=1, gamma=0.001, total=   0.0s\n",
      "[CV] C=1, gamma=0.001 ................................................\n",
      "[CV] ................................. C=1, gamma=0.001, total=   0.0s\n",
      "[CV] C=1, gamma=0.001 ................................................\n",
      "[CV] ................................. C=1, gamma=0.001, total=   0.0s\n",
      "[CV] C=1, gamma=0.001 ................................................\n",
      "[CV] ................................. C=1, gamma=0.001, total=   0.0s\n",
      "[CV] C=1, gamma=0.001 ................................................\n",
      "[CV] ................................. C=1, gamma=0.001, total=   0.0s\n",
      "[CV] C=1, gamma=0.0001 ...............................................\n",
      "[CV] ................................ C=1, gamma=0.0001, total=   0.0s\n",
      "[CV] C=1, gamma=0.0001 ...............................................\n",
      "[CV] ................................ C=1, gamma=0.0001, total=   0.0s\n",
      "[CV] C=1, gamma=0.0001 ...............................................\n",
      "[CV] ................................ C=1, gamma=0.0001, total=   0.0s\n",
      "[CV] C=1, gamma=0.0001 ...............................................\n",
      "[CV] ................................ C=1, gamma=0.0001, total=   0.0s\n",
      "[CV] C=1, gamma=0.0001 ...............................................\n",
      "[CV] ................................ C=1, gamma=0.0001, total=   0.0s\n",
      "[CV] C=10, gamma=1 ...................................................\n",
      "[CV] .................................... C=10, gamma=1, total=   0.0s\n",
      "[CV] C=10, gamma=1 ...................................................\n",
      "[CV] .................................... C=10, gamma=1, total=   0.0s\n",
      "[CV] C=10, gamma=1 ...................................................\n",
      "[CV] .................................... C=10, gamma=1, total=   0.0s\n",
      "[CV] C=10, gamma=1 ...................................................\n",
      "[CV] .................................... C=10, gamma=1, total=   0.0s\n",
      "[CV] C=10, gamma=1 ...................................................\n",
      "[CV] .................................... C=10, gamma=1, total=   0.0s\n",
      "[CV] C=10, gamma=0.1 .................................................\n",
      "[CV] .................................. C=10, gamma=0.1, total=   0.0s\n",
      "[CV] C=10, gamma=0.1 .................................................\n",
      "[CV] .................................. C=10, gamma=0.1, total=   0.0s\n",
      "[CV] C=10, gamma=0.1 .................................................\n",
      "[CV] .................................. C=10, gamma=0.1, total=   0.0s\n",
      "[CV] C=10, gamma=0.1 .................................................\n",
      "[CV] .................................. C=10, gamma=0.1, total=   0.0s\n",
      "[CV] C=10, gamma=0.1 .................................................\n",
      "[CV] .................................. C=10, gamma=0.1, total=   0.0s\n",
      "[CV] C=10, gamma=0.01 ................................................\n",
      "[CV] ................................. C=10, gamma=0.01, total=   0.0s\n",
      "[CV] C=10, gamma=0.01 ................................................\n",
      "[CV] ................................. C=10, gamma=0.01, total=   0.0s\n",
      "[CV] C=10, gamma=0.01 ................................................\n",
      "[CV] ................................. C=10, gamma=0.01, total=   0.0s\n",
      "[CV] C=10, gamma=0.01 ................................................\n",
      "[CV] ................................. C=10, gamma=0.01, total=   0.0s\n",
      "[CV] C=10, gamma=0.01 ................................................\n",
      "[CV] ................................. C=10, gamma=0.01, total=   0.0s\n",
      "[CV] C=10, gamma=0.001 ...............................................\n",
      "[CV] ................................ C=10, gamma=0.001, total=   0.0s\n",
      "[CV] C=10, gamma=0.001 ...............................................\n",
      "[CV] ................................ C=10, gamma=0.001, total=   0.0s\n",
      "[CV] C=10, gamma=0.001 ...............................................\n",
      "[CV] ................................ C=10, gamma=0.001, total=   0.0s\n",
      "[CV] C=10, gamma=0.001 ...............................................\n",
      "[CV] ................................ C=10, gamma=0.001, total=   0.0s\n",
      "[CV] C=10, gamma=0.001 ...............................................\n",
      "[CV] ................................ C=10, gamma=0.001, total=   0.0s\n",
      "[CV] C=10, gamma=0.0001 ..............................................\n",
      "[CV] ............................... C=10, gamma=0.0001, total=   0.0s\n",
      "[CV] C=10, gamma=0.0001 ..............................................\n",
      "[CV] ............................... C=10, gamma=0.0001, total=   0.0s\n",
      "[CV] C=10, gamma=0.0001 ..............................................\n",
      "[CV] ............................... C=10, gamma=0.0001, total=   0.0s\n",
      "[CV] C=10, gamma=0.0001 ..............................................\n",
      "[CV] ............................... C=10, gamma=0.0001, total=   0.0s\n",
      "[CV] C=10, gamma=0.0001 ..............................................\n",
      "[CV] ............................... C=10, gamma=0.0001, total=   0.0s\n",
      "[CV] C=100, gamma=1 ..................................................\n",
      "[CV] ................................... C=100, gamma=1, total=   0.0s\n",
      "[CV] C=100, gamma=1 ..................................................\n",
      "[CV] ................................... C=100, gamma=1, total=   0.0s\n",
      "[CV] C=100, gamma=1 ..................................................\n",
      "[CV] ................................... C=100, gamma=1, total=   0.0s\n",
      "[CV] C=100, gamma=1 ..................................................\n",
      "[CV] ................................... C=100, gamma=1, total=   0.0s\n",
      "[CV] C=100, gamma=1 ..................................................\n",
      "[CV] ................................... C=100, gamma=1, total=   0.0s\n",
      "[CV] C=100, gamma=0.1 ................................................\n",
      "[CV] ................................. C=100, gamma=0.1, total=   0.0s\n",
      "[CV] C=100, gamma=0.1 ................................................\n",
      "[CV] ................................. C=100, gamma=0.1, total=   0.0s\n",
      "[CV] C=100, gamma=0.1 ................................................\n",
      "[CV] ................................. C=100, gamma=0.1, total=   0.0s\n",
      "[CV] C=100, gamma=0.1 ................................................\n",
      "[CV] ................................. C=100, gamma=0.1, total=   0.0s\n",
      "[CV] C=100, gamma=0.1 ................................................\n",
      "[CV] ................................. C=100, gamma=0.1, total=   0.0s\n",
      "[CV] C=100, gamma=0.01 ...............................................\n",
      "[CV] ................................ C=100, gamma=0.01, total=   0.0s\n",
      "[CV] C=100, gamma=0.01 ...............................................\n",
      "[CV] ................................ C=100, gamma=0.01, total=   0.0s\n",
      "[CV] C=100, gamma=0.01 ...............................................\n",
      "[CV] ................................ C=100, gamma=0.01, total=   0.0s\n",
      "[CV] C=100, gamma=0.01 ...............................................\n",
      "[CV] ................................ C=100, gamma=0.01, total=   0.0s\n",
      "[CV] C=100, gamma=0.01 ...............................................\n",
      "[CV] ................................ C=100, gamma=0.01, total=   0.0s\n",
      "[CV] C=100, gamma=0.001 ..............................................\n",
      "[CV] ............................... C=100, gamma=0.001, total=   0.0s\n",
      "[CV] C=100, gamma=0.001 ..............................................\n",
      "[CV] ............................... C=100, gamma=0.001, total=   0.0s\n",
      "[CV] C=100, gamma=0.001 ..............................................\n",
      "[CV] ............................... C=100, gamma=0.001, total=   0.0s\n",
      "[CV] C=100, gamma=0.001 ..............................................\n",
      "[CV] ............................... C=100, gamma=0.001, total=   0.0s\n",
      "[CV] C=100, gamma=0.001 ..............................................\n",
      "[CV] ............................... C=100, gamma=0.001, total=   0.0s\n",
      "[CV] C=100, gamma=0.0001 .............................................\n",
      "[CV] .............................. C=100, gamma=0.0001, total=   0.0s\n",
      "[CV] C=100, gamma=0.0001 .............................................\n",
      "[CV] .............................. C=100, gamma=0.0001, total=   0.0s\n",
      "[CV] C=100, gamma=0.0001 .............................................\n",
      "[CV] .............................. C=100, gamma=0.0001, total=   0.0s\n",
      "[CV] C=100, gamma=0.0001 .............................................\n",
      "[CV] .............................. C=100, gamma=0.0001, total=   0.0s\n",
      "[CV] C=100, gamma=0.0001 .............................................\n",
      "[CV] .............................. C=100, gamma=0.0001, total=   0.0s\n",
      "[CV] C=100, gamma=1 ..................................................\n"
     ]
    },
    {
     "name": "stdout",
     "output_type": "stream",
     "text": [
      "[CV] ................................... C=100, gamma=1, total=   0.0s\n",
      "[CV] C=100, gamma=1 ..................................................\n",
      "[CV] ................................... C=100, gamma=1, total=   0.0s\n",
      "[CV] C=100, gamma=1 ..................................................\n",
      "[CV] ................................... C=100, gamma=1, total=   0.0s\n",
      "[CV] C=100, gamma=1 ..................................................\n",
      "[CV] ................................... C=100, gamma=1, total=   0.0s\n",
      "[CV] C=100, gamma=1 ..................................................\n",
      "[CV] ................................... C=100, gamma=1, total=   0.0s\n",
      "[CV] C=100, gamma=0.1 ................................................\n",
      "[CV] ................................. C=100, gamma=0.1, total=   0.0s\n",
      "[CV] C=100, gamma=0.1 ................................................\n",
      "[CV] ................................. C=100, gamma=0.1, total=   0.0s\n",
      "[CV] C=100, gamma=0.1 ................................................\n",
      "[CV] ................................. C=100, gamma=0.1, total=   0.0s\n",
      "[CV] C=100, gamma=0.1 ................................................\n",
      "[CV] ................................. C=100, gamma=0.1, total=   0.0s\n",
      "[CV] C=100, gamma=0.1 ................................................\n",
      "[CV] ................................. C=100, gamma=0.1, total=   0.0s\n",
      "[CV] C=100, gamma=0.01 ...............................................\n",
      "[CV] ................................ C=100, gamma=0.01, total=   0.0s\n",
      "[CV] C=100, gamma=0.01 ...............................................\n",
      "[CV] ................................ C=100, gamma=0.01, total=   0.0s\n",
      "[CV] C=100, gamma=0.01 ...............................................\n",
      "[CV] ................................ C=100, gamma=0.01, total=   0.0s\n",
      "[CV] C=100, gamma=0.01 ...............................................\n",
      "[CV] ................................ C=100, gamma=0.01, total=   0.0s\n",
      "[CV] C=100, gamma=0.01 ...............................................\n",
      "[CV] ................................ C=100, gamma=0.01, total=   0.0s\n",
      "[CV] C=100, gamma=0.001 ..............................................\n",
      "[CV] ............................... C=100, gamma=0.001, total=   0.0s\n",
      "[CV] C=100, gamma=0.001 ..............................................\n",
      "[CV] ............................... C=100, gamma=0.001, total=   0.0s\n",
      "[CV] C=100, gamma=0.001 ..............................................\n",
      "[CV] ............................... C=100, gamma=0.001, total=   0.0s\n",
      "[CV] C=100, gamma=0.001 ..............................................\n",
      "[CV] ............................... C=100, gamma=0.001, total=   0.0s\n",
      "[CV] C=100, gamma=0.001 ..............................................\n",
      "[CV] ............................... C=100, gamma=0.001, total=   0.0s\n",
      "[CV] C=100, gamma=0.0001 .............................................\n",
      "[CV] .............................. C=100, gamma=0.0001, total=   0.0s\n",
      "[CV] C=100, gamma=0.0001 .............................................\n",
      "[CV] .............................. C=100, gamma=0.0001, total=   0.0s\n",
      "[CV] C=100, gamma=0.0001 .............................................\n",
      "[CV] .............................. C=100, gamma=0.0001, total=   0.0s\n",
      "[CV] C=100, gamma=0.0001 .............................................\n",
      "[CV] .............................. C=100, gamma=0.0001, total=   0.0s\n",
      "[CV] C=100, gamma=0.0001 .............................................\n",
      "[CV] .............................. C=100, gamma=0.0001, total=   0.0s\n"
     ]
    },
    {
     "name": "stderr",
     "output_type": "stream",
     "text": [
      "[Parallel(n_jobs=1)]: Done 125 out of 125 | elapsed:    1.1s finished\n"
     ]
    },
    {
     "data": {
      "text/plain": [
       "GridSearchCV(estimator=SVC(),\n",
       "             param_grid={'C': [0.1, 1, 10, 100, 100],\n",
       "                         'gamma': [1, 0.1, 0.01, 0.001, 0.0001]},\n",
       "             verbose=2)"
      ]
     },
     "execution_count": 195,
     "metadata": {},
     "output_type": "execute_result"
    }
   ],
   "source": [
    "#Grid search \n",
    "# default cv =5\n",
    "svc_grid = GridSearchCV(SVC(),svc_param_grid,verbose=2)\n",
    "#train data \n",
    "svc_grid.fit(X_train,y_train)"
   ]
  },
  {
   "cell_type": "code",
   "execution_count": 197,
   "metadata": {},
   "outputs": [
    {
     "data": {
      "text/plain": [
       "0.8360655737704918"
      ]
     },
     "execution_count": 197,
     "metadata": {},
     "output_type": "execute_result"
    }
   ],
   "source": [
    "svc_grid.score(X_test,y_test)"
   ]
  },
  {
   "cell_type": "markdown",
   "metadata": {},
   "source": [
    "Same as Before "
   ]
  },
  {
   "cell_type": "markdown",
   "metadata": {},
   "source": [
    "# Logistic regression has  best model results. Thus we will use this."
   ]
  },
  {
   "cell_type": "markdown",
   "metadata": {},
   "source": [
    "### Evaluate logistic model further !"
   ]
  },
  {
   "cell_type": "code",
   "execution_count": 198,
   "metadata": {},
   "outputs": [],
   "source": [
    "# make predictions on test set \n",
    "y_preds = log_grid.predict(X_test)"
   ]
  },
  {
   "cell_type": "code",
   "execution_count": 199,
   "metadata": {},
   "outputs": [],
   "source": [
    "# ROC Curve\n",
    "from sklearn.metrics import plot_roc_curve"
   ]
  },
  {
   "cell_type": "code",
   "execution_count": 200,
   "metadata": {},
   "outputs": [
    {
     "data": {
      "text/plain": [
       "<sklearn.metrics._plot.roc_curve.RocCurveDisplay at 0x7f879ba1bd30>"
      ]
     },
     "execution_count": 200,
     "metadata": {},
     "output_type": "execute_result"
    },
    {
     "data": {
      "image/png": "[encoded data removed]",
      "text/plain": [
       "<Figure size 432x288 with 1 Axes>"
      ]
     },
     "metadata": {
      "needs_background": "light"
     },
     "output_type": "display_data"
    }
   ],
   "source": [
    "# plot ROC curve \n",
    "plot_roc_curve(log_grid,X_test,y_test)"
   ]
  },
  {
   "cell_type": "markdown",
   "metadata": {},
   "source": [
    "AUC .92 so not bad. Gives us true posotive rate vs false postive rate"
   ]
  },
  {
   "cell_type": "code",
   "execution_count": 201,
   "metadata": {},
   "outputs": [
    {
     "name": "stdout",
     "output_type": "stream",
     "text": [
      "[[25  4]\n",
      " [ 3 29]]\n"
     ]
    }
   ],
   "source": [
    "# confusion matric \n",
    "print(confusion_matrix(y_test,y_preds))"
   ]
  },
  {
   "cell_type": "code",
   "execution_count": 202,
   "metadata": {},
   "outputs": [],
   "source": [
    "# plot this confusion matrix\n",
    "from sklearn.metrics import plot_confusion_matrix\n"
   ]
  },
  {
   "cell_type": "code",
   "execution_count": 203,
   "metadata": {},
   "outputs": [
    {
     "data": {
      "text/plain": [
       "<sklearn.metrics._plot.confusion_matrix.ConfusionMatrixDisplay at 0x7f879ce64fd0>"
      ]
     },
     "execution_count": 203,
     "metadata": {},
     "output_type": "execute_result"
    },
    {
     "data": {
      "image/png": "[encoded data removed]",
      "text/plain": [
       "<Figure size 432x288 with 2 Axes>"
      ]
     },
     "metadata": {
      "needs_background": "light"
     },
     "output_type": "display_data"
    }
   ],
   "source": [
    "plot_confusion_matrix(log_grid,X_test,y_test)"
   ]
  },
  {
   "cell_type": "markdown",
   "metadata": {},
   "source": [
    "Same result but looks nicer "
   ]
  },
  {
   "cell_type": "code",
   "execution_count": 204,
   "metadata": {},
   "outputs": [
    {
     "name": "stdout",
     "output_type": "stream",
     "text": [
      "              precision    recall  f1-score   support\n",
      "\n",
      "           0       0.89      0.86      0.88        29\n",
      "           1       0.88      0.91      0.89        32\n",
      "\n",
      "    accuracy                           0.89        61\n",
      "   macro avg       0.89      0.88      0.88        61\n",
      "weighted avg       0.89      0.89      0.89        61\n",
      "\n"
     ]
    }
   ],
   "source": [
    "# classification report \n",
    "print(classification_report(y_test,y_preds))"
   ]
  },
  {
   "cell_type": "markdown",
   "metadata": {},
   "source": [
    "**Since its disease we want less FNs, thus focus more on recall!!!**"
   ]
  },
  {
   "cell_type": "markdown",
   "metadata": {},
   "source": [
    ".89 f1-score decent.\n",
    "But this is calculated with 1 test set and no cross validation.\n",
    "#### Score with cross validation"
   ]
  },
  {
   "cell_type": "code",
   "execution_count": 207,
   "metadata": {},
   "outputs": [],
   "source": [
    "# Instantiate best model with best hyperparameters (found with GridSearchCV)\n",
    "clf = LogisticRegression(C=0.23357214690901212,\n",
    "                         solver=\"liblinear\")"
   ]
  },
  {
   "cell_type": "code",
   "execution_count": 209,
   "metadata": {},
   "outputs": [
    {
     "data": {
      "text/plain": [
       "0.8479781420765027"
      ]
     },
     "execution_count": 209,
     "metadata": {},
     "output_type": "execute_result"
    }
   ],
   "source": [
    "# Cross-validated accuracy score\n",
    "cv_acc = cross_val_score(clf,\n",
    "                         X,\n",
    "                         y,\n",
    "                         cv=5, # 5-fold cross-validation\n",
    "                         scoring=\"accuracy\") # accuracy as scoring\n",
    "cv_acc.mean()"
   ]
  },
  {
   "cell_type": "markdown",
   "metadata": {},
   "source": [
    "Accuaracy down to .84 from .88"
   ]
  },
  {
   "cell_type": "code",
   "execution_count": 218,
   "metadata": {},
   "outputs": [
    {
     "data": {
      "text/plain": [
       "0.8215873015873015"
      ]
     },
     "execution_count": 218,
     "metadata": {},
     "output_type": "execute_result"
    }
   ],
   "source": [
    "# precision \n",
    "cv_prec = cross_val_score(clf,X,y,scoring=\"precision\",cv=5)\n",
    "cv_prec.mean()"
   ]
  },
  {
   "cell_type": "code",
   "execution_count": 213,
   "metadata": {},
   "outputs": [
    {
     "data": {
      "text/plain": [
       "0.9272727272727274"
      ]
     },
     "execution_count": 213,
     "metadata": {},
     "output_type": "execute_result"
    }
   ],
   "source": [
    "# Cross-validated recall score\n",
    "cv_recall = np.mean(cross_val_score(clf,\n",
    "                                    X,\n",
    "                                    y,\n",
    "                                    cv=5, # 5-fold cross-validation\n",
    "                                    scoring=\"recall\")) # recall as scoring\n",
    "cv_recall.mean()"
   ]
  },
  {
   "cell_type": "code",
   "execution_count": 215,
   "metadata": {},
   "outputs": [
    {
     "data": {
      "text/plain": [
       "0.8705403543192143"
      ]
     },
     "execution_count": 215,
     "metadata": {},
     "output_type": "execute_result"
    }
   ],
   "source": [
    "# Cross-validated F1 score\n",
    "cv_f1 = np.mean(cross_val_score(clf,\n",
    "                                X,\n",
    "                                y,\n",
    "                                cv=5, # 5-fold cross-validation\n",
    "                                scoring=\"f1\")) # f1 as scoring\n",
    "cv_f1.mean()"
   ]
  },
  {
   "cell_type": "markdown",
   "metadata": {},
   "source": [
    "REcall 92% which is pretty good"
   ]
  },
  {
   "cell_type": "raw",
   "metadata": {},
   "source": [
    "Great all done now. Our goal was 95% accuracy but we did not hit that unfortunetly"
   ]
  },
  {
   "cell_type": "markdown",
   "metadata": {},
   "source": [
    "## Feature importance\n",
    "Feature importance is another way of asking, \"which features contributing most to the outcomes of the model?\"\\\n",
    "     # the `coef_` attribute is the coefficient of the features in the decision function."
   ]
  },
  {
   "cell_type": "code",
   "execution_count": 220,
   "metadata": {},
   "outputs": [
    {
     "data": {
      "text/plain": [
       "LogisticRegression(C=0.23357214690901212, solver='liblinear')"
      ]
     },
     "execution_count": 220,
     "metadata": {},
     "output_type": "execute_result"
    }
   ],
   "source": [
    "# fit clf from above \n",
    "clf.fit(X_train,y_train)"
   ]
  },
  {
   "cell_type": "code",
   "execution_count": 221,
   "metadata": {},
   "outputs": [
    {
     "data": {
      "text/plain": [
       "array([[ 0.00369922, -0.90424098,  0.67472823, -0.0116134 , -0.00170364,\n",
       "         0.04787687,  0.33490208,  0.02472938, -0.63120414, -0.57590996,\n",
       "         0.47095166, -0.65165344, -0.69984217]])"
      ]
     },
     "execution_count": 221,
     "metadata": {},
     "output_type": "execute_result"
    }
   ],
   "source": [
    "# get co_effs - correlation with each feaeture for model \n",
    "clf.coef_"
   ]
  },
  {
   "cell_type": "code",
   "execution_count": 241,
   "metadata": {},
   "outputs": [],
   "source": [
    "# see corelatuon more clearly \n",
    "features_list = list(zip((df.columns),list(clf.coef_[0])))"
   ]
  },
  {
   "cell_type": "code",
   "execution_count": 242,
   "metadata": {},
   "outputs": [
    {
     "data": {
      "text/plain": [
       "[('age', 0.003699223396114675),\n",
       " ('sex', -0.9042409779785583),\n",
       " ('cp', 0.6747282348693419),\n",
       " ('trestbps', -0.011613398123390507),\n",
       " ('chol', -0.0017036431858934173),\n",
       " ('fbs', 0.0478768694057663),\n",
       " ('restecg', 0.33490207838133623),\n",
       " ('thalach', 0.024729380915946855),\n",
       " ('exang', -0.6312041363430085),\n",
       " ('oldpeak', -0.5759099636629296),\n",
       " ('slope', 0.47095166489539353),\n",
       " ('ca', -0.6516534354909507),\n",
       " ('thal', -0.6998421698316164)]"
      ]
     },
     "execution_count": 242,
     "metadata": {},
     "output_type": "execute_result"
    }
   ],
   "source": [
    "features_list"
   ]
  },
  {
   "cell_type": "code",
   "execution_count": 243,
   "metadata": {},
   "outputs": [
    {
     "data": {
      "text/html": [
       "<div>\n",
       "<style scoped>\n",
       "    .dataframe tbody tr th:only-of-type {\n",
       "        vertical-align: middle;\n",
       "    }\n",
       "\n",
       "    .dataframe tbody tr th {\n",
       "        vertical-align: top;\n",
       "    }\n",
       "\n",
       "    .dataframe thead th {\n",
       "        text-align: right;\n",
       "    }\n",
       "</style>\n",
       "<table border=\"1\" class=\"dataframe\">\n",
       "  <thead>\n",
       "    <tr style=\"text-align: right;\">\n",
       "      <th></th>\n",
       "      <th>0</th>\n",
       "    </tr>\n",
       "  </thead>\n",
       "  <tbody>\n",
       "    <tr>\n",
       "      <th>age</th>\n",
       "      <td>0.003699</td>\n",
       "    </tr>\n",
       "    <tr>\n",
       "      <th>sex</th>\n",
       "      <td>-0.904241</td>\n",
       "    </tr>\n",
       "    <tr>\n",
       "      <th>cp</th>\n",
       "      <td>0.674728</td>\n",
       "    </tr>\n",
       "    <tr>\n",
       "      <th>trestbps</th>\n",
       "      <td>-0.011613</td>\n",
       "    </tr>\n",
       "    <tr>\n",
       "      <th>chol</th>\n",
       "      <td>-0.001704</td>\n",
       "    </tr>\n",
       "    <tr>\n",
       "      <th>fbs</th>\n",
       "      <td>0.047877</td>\n",
       "    </tr>\n",
       "    <tr>\n",
       "      <th>restecg</th>\n",
       "      <td>0.334902</td>\n",
       "    </tr>\n",
       "    <tr>\n",
       "      <th>thalach</th>\n",
       "      <td>0.024729</td>\n",
       "    </tr>\n",
       "    <tr>\n",
       "      <th>exang</th>\n",
       "      <td>-0.631204</td>\n",
       "    </tr>\n",
       "    <tr>\n",
       "      <th>oldpeak</th>\n",
       "      <td>-0.575910</td>\n",
       "    </tr>\n",
       "    <tr>\n",
       "      <th>slope</th>\n",
       "      <td>0.470952</td>\n",
       "    </tr>\n",
       "    <tr>\n",
       "      <th>ca</th>\n",
       "      <td>-0.651653</td>\n",
       "    </tr>\n",
       "    <tr>\n",
       "      <th>thal</th>\n",
       "      <td>-0.699842</td>\n",
       "    </tr>\n",
       "  </tbody>\n",
       "</table>\n",
       "</div>"
      ],
      "text/plain": [
       "                 0\n",
       "age       0.003699\n",
       "sex      -0.904241\n",
       "cp        0.674728\n",
       "trestbps -0.011613\n",
       "chol     -0.001704\n",
       "fbs       0.047877\n",
       "restecg   0.334902\n",
       "thalach   0.024729\n",
       "exang    -0.631204\n",
       "oldpeak  -0.575910\n",
       "slope     0.470952\n",
       "ca       -0.651653\n",
       "thal     -0.699842"
      ]
     },
     "execution_count": 243,
     "metadata": {},
     "output_type": "execute_result"
    }
   ],
   "source": [
    "# see corelation as a dataframe\n",
    "model_corr = pd.DataFrame(clf.coef_[0],index=list(df.columns)[:-1])\n",
    "model_corr"
   ]
  },
  {
   "cell_type": "code",
   "execution_count": 237,
   "metadata": {},
   "outputs": [
    {
     "data": {
      "text/plain": [
       "['age',\n",
       " 'sex',\n",
       " 'cp',\n",
       " 'trestbps',\n",
       " 'chol',\n",
       " 'fbs',\n",
       " 'restecg',\n",
       " 'thalach',\n",
       " 'exang',\n",
       " 'oldpeak',\n",
       " 'slope',\n",
       " 'ca',\n",
       " 'thal']"
      ]
     },
     "execution_count": 237,
     "metadata": {},
     "output_type": "execute_result"
    }
   ],
   "source": [
    "list(df.columns)[:-1]"
   ]
  },
  {
   "cell_type": "code",
   "execution_count": 246,
   "metadata": {},
   "outputs": [
    {
     "data": {
      "text/plain": [
       "<AxesSubplot:title={'center':'feature importance'}>"
      ]
     },
     "execution_count": 246,
     "metadata": {},
     "output_type": "execute_result"
    },
    {
     "data": {
      "image/png": "[encoded data removed]",
      "text/plain": [
       "<Figure size 432x288 with 1 Axes>"
      ]
     },
     "metadata": {
      "needs_background": "light"
     },
     "output_type": "display_data"
    }
   ],
   "source": [
    "model_corr.plot(kind=\"bar\",title=\"feature importance\",legend=False)"
   ]
  },
  {
   "cell_type": "markdown",
   "metadata": {},
   "source": [
    "You'll notice some are negative and some are positive.\n",
    "\n",
    "The larger the value (bigger bar), the more the feature contributes to the models decision.\n",
    "\n",
    "If the value is negative, it means there's a negative correlation. And vice versa for positive values. \n",
    "\n",
    "For example, the `sex` attribute has a negative value of -0.904, which means as the value for `sex` increases, the `target` value decreases.\n",
    "\n",
    "We can see this by comparing the `sex` column to the `target` column."
   ]
  },
  {
   "cell_type": "code",
   "execution_count": 247,
   "metadata": {},
   "outputs": [
    {
     "data": {
      "text/html": [
       "<div>\n",
       "<style scoped>\n",
       "    .dataframe tbody tr th:only-of-type {\n",
       "        vertical-align: middle;\n",
       "    }\n",
       "\n",
       "    .dataframe tbody tr th {\n",
       "        vertical-align: top;\n",
       "    }\n",
       "\n",
       "    .dataframe thead th {\n",
       "        text-align: right;\n",
       "    }\n",
       "</style>\n",
       "<table border=\"1\" class=\"dataframe\">\n",
       "  <thead>\n",
       "    <tr style=\"text-align: right;\">\n",
       "      <th>target</th>\n",
       "      <th>0</th>\n",
       "      <th>1</th>\n",
       "    </tr>\n",
       "    <tr>\n",
       "      <th>sex</th>\n",
       "      <th></th>\n",
       "      <th></th>\n",
       "    </tr>\n",
       "  </thead>\n",
       "  <tbody>\n",
       "    <tr>\n",
       "      <th>0</th>\n",
       "      <td>24</td>\n",
       "      <td>72</td>\n",
       "    </tr>\n",
       "    <tr>\n",
       "      <th>1</th>\n",
       "      <td>114</td>\n",
       "      <td>93</td>\n",
       "    </tr>\n",
       "  </tbody>\n",
       "</table>\n",
       "</div>"
      ],
      "text/plain": [
       "target    0   1\n",
       "sex            \n",
       "0        24  72\n",
       "1       114  93"
      ]
     },
     "execution_count": 247,
     "metadata": {},
     "output_type": "execute_result"
    }
   ],
   "source": [
    "# check sex agaib \n",
    "pd.crosstab(df[\"sex\"], df[\"target\"])"
   ]
  },
  {
   "cell_type": "markdown",
   "metadata": {},
   "source": [
    "You  can see, when `sex` is 0 (female), there are almost 3 times as many (72 vs. 24) people with heart disease (`target` = 1) than without.\n",
    "\n",
    "And then as `sex` increases to 1 (male), the ratio goes down to almost 1 to 1 (114 vs. 93) of people who have heart disease and who don't."
   ]
  },
  {
   "cell_type": "code",
   "execution_count": 248,
   "metadata": {},
   "outputs": [
    {
     "data": {
      "text/html": [
       "<div>\n",
       "<style scoped>\n",
       "    .dataframe tbody tr th:only-of-type {\n",
       "        vertical-align: middle;\n",
       "    }\n",
       "\n",
       "    .dataframe tbody tr th {\n",
       "        vertical-align: top;\n",
       "    }\n",
       "\n",
       "    .dataframe thead th {\n",
       "        text-align: right;\n",
       "    }\n",
       "</style>\n",
       "<table border=\"1\" class=\"dataframe\">\n",
       "  <thead>\n",
       "    <tr style=\"text-align: right;\">\n",
       "      <th>target</th>\n",
       "      <th>0</th>\n",
       "      <th>1</th>\n",
       "    </tr>\n",
       "    <tr>\n",
       "      <th>slope</th>\n",
       "      <th></th>\n",
       "      <th></th>\n",
       "    </tr>\n",
       "  </thead>\n",
       "  <tbody>\n",
       "    <tr>\n",
       "      <th>0</th>\n",
       "      <td>12</td>\n",
       "      <td>9</td>\n",
       "    </tr>\n",
       "    <tr>\n",
       "      <th>1</th>\n",
       "      <td>91</td>\n",
       "      <td>49</td>\n",
       "    </tr>\n",
       "    <tr>\n",
       "      <th>2</th>\n",
       "      <td>35</td>\n",
       "      <td>107</td>\n",
       "    </tr>\n",
       "  </tbody>\n",
       "</table>\n",
       "</div>"
      ],
      "text/plain": [
       "target   0    1\n",
       "slope          \n",
       "0       12    9\n",
       "1       91   49\n",
       "2       35  107"
      ]
     },
     "execution_count": 248,
     "metadata": {},
     "output_type": "execute_result"
    }
   ],
   "source": [
    "# Contrast slope (positive coefficient) with target\n",
    "pd.crosstab(df[\"slope\"], df[\"target\"])"
   ]
  },
  {
   "cell_type": "markdown",
   "metadata": {},
   "source": [
    "Looking back the data dictionary, we see `slope` is the \"slope of the peak exercise ST segment\" where:\n",
    "* 0: Upsloping: better heart rate with excercise (uncommon)\n",
    "* 1: Flatsloping: minimal change (typical healthy heart)\n",
    "* 2: Downslopins: signs of unhealthy heart\n",
    "    \n",
    "According to the model, there's a positive correlation of 0.470, not as strong as `sex` and `target` but still more than 0.\n",
    "\n",
    "This positive correlation means our model is picking up the pattern that as `slope` increases, so does the `target` value.\n",
    "\n",
    "When you look at the contrast (`pd.crosstab(df[\"slope\"], df[\"target\"]`) it is. As `slope` goes up, so does `target`. "
   ]
  },
  {
   "cell_type": "markdown",
   "metadata": {},
   "source": [
    "Some features have far less importance like chol,fbs thalach. THey can probably removed from the model "
   ]
  },
  {
   "cell_type": "code",
   "execution_count": 250,
   "metadata": {},
   "outputs": [],
   "source": [
    "# save model \n",
    "import pickle \n"
   ]
  },
  {
   "cell_type": "code",
   "execution_count": 251,
   "metadata": {},
   "outputs": [],
   "source": [
    "pickle.dump(clf,open(\"heart_disease_model.pkl\",\"wb\"))"
   ]
  },
  {
   "cell_type": "code",
   "execution_count": null,
   "metadata": {},
   "outputs": [],
   "source": []
  }
 ],
 "metadata": {
  "kernelspec": {
   "display_name": "Python 3",
   "language": "python",
   "name": "python3"
  },
  "language_info": {
   "codemirror_mode": {
    "name": "ipython",
    "version": 3
   },
   "file_extension": ".py",
   "mimetype": "text/x-python",
   "name": "python",
   "nbconvert_exporter": "python",
   "pygments_lexer": "ipython3",
   "version": "3.8.5"
  }
 },
 "nbformat": 4,
 "nbformat_minor": 4
}
